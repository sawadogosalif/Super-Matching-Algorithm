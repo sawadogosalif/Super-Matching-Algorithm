{
 "cells": [
  {
   "cell_type": "code",
   "execution_count": 1,
   "id": "0804b2a5",
   "metadata": {},
   "outputs": [],
   "source": [
    "import pandas as pd\n",
    " # Snowball stemmer was chosen in favor of Porter Stemmer which is a bit more aggressive and tends to remove too much from a word\n",
    "import nltk\n",
    "from nltk.stem.snowball import SnowballStemmer\n",
    "from nltk.tokenize import word_tokenize\n",
    "from nltk.corpus import stopwords\n",
    " \n",
    "# unidecode is the library needed for ASCII folding\n",
    "from unidecode import unidecode\n",
    "import string\n",
    "# Compact Language Detector v3 is a very fast and performant algorithm \n",
    "from langdetect import detect"
   ]
  },
  {
   "cell_type": "code",
   "execution_count": null,
   "id": "ccbe3bfc",
   "metadata": {},
   "outputs": [],
   "source": [
    "%run ./function_tools.ipynb"
   ]
  },
  {
   "cell_type": "code",
   "execution_count": null,
   "id": "0e8ab37b",
   "metadata": {},
   "outputs": [],
   "source": [
    "# download nltk components and define language specific stop-words and stemmers for the regular version of the function\n",
    "nltk.download(\"punkt\")\n",
    "nltk.download(\"stopwords\")\n",
    "STOPWORDS_EN = stopwords.words(\"english\")\n",
    "STOPWORDS_FR = stopwords.words(\"french\")\n",
    "STEMMER_EN = SnowballStemmer(language='english')\n",
    "STEMMER_FR = SnowballStemmer(language='french')"
   ]
  },
  {
   "cell_type": "code",
   "execution_count": null,
   "id": "18b1322d",
   "metadata": {},
   "outputs": [],
   "source": [
    "def text_prep(s: str) -> str:\n",
    "  \"\"\"This function treats the input string by going through the following steps:\n",
    "    1. Language detection\n",
    "    2. Remove punctuation and special characters\n",
    "    3. Tekenization\n",
    "    4. Stop-word removal\n",
    "    5. Stemming\n",
    "    6. ASCII folding\n",
    "  \n",
    "  Arguments:\n",
    "    s {str} -- The input string to be treated.\n",
    "    \n",
    "  Returns:\n",
    "    str -- The treated version of the string. \n",
    "  \"\"\"\n",
    "  \n",
    "  # return empyt string if no meaningful input is given\n",
    "  if s is None or s==\"\":\n",
    "    return \"\"\n",
    "  \n",
    "  # in the default case use the English stop-words and stemmer\n",
    "  stop_words = STOPWORDS_EN\n",
    "  stemmer = STEMMER_EN\n",
    "  \n",
    "  # convert to lowercase, just to be sure :)\n",
    "  s = s.lower()\n",
    "  \n",
    "  # check if the language is French and switch to the French\n",
    "  # stop-words and stemmer if that is the case\n",
    "  s_lang = detect(s)\n",
    "  if s_lang==\"fr\":\n",
    "    stop_words = STOPWORDS_FR\n",
    "    stemmer = STEMMER_FR\n",
    "  \n",
    "  # remove punctuation\n",
    "  s_clean = s.translate(str.maketrans(string.punctuation, ' ' * len(string.punctuation)))\n",
    "  # tokenize the string into words\n",
    "  s_tokens = word_tokenize(s_clean)\n",
    "  # remove the stop-word tokens\n",
    "  s_tokens_no_stop = [word for word in s_tokens if word not in stop_words]\n",
    "  # stem the remaining ones\n",
    "  s_tokens_stemmed = [stemmer.stem(word) for word in s_tokens_no_stop]\n",
    "  # join the stemmed tokens together and ASCII fold\n",
    "  s_ascii = unidecode(\" \".join(s_tokens_stemmed))\n",
    "  \n",
    "  return(s_ascii)"
   ]
  }
 ],
 "metadata": {
  "kernelspec": {
   "display_name": "Python 3 (ipykernel)",
   "language": "python",
   "name": "python3"
  },
  "language_info": {
   "codemirror_mode": {
    "name": "ipython",
    "version": 3
   },
   "file_extension": ".py",
   "mimetype": "text/x-python",
   "name": "python",
   "nbconvert_exporter": "python",
   "pygments_lexer": "ipython3",
   "version": "3.9.7"
  },
  "toc": {
   "base_numbering": 1,
   "nav_menu": {},
   "number_sections": true,
   "sideBar": true,
   "skip_h1_title": false,
   "title_cell": "Table of Contents",
   "title_sidebar": "Contents",
   "toc_cell": false,
   "toc_position": {},
   "toc_section_display": true,
   "toc_window_display": false
  }
 },
 "nbformat": 4,
 "nbformat_minor": 5
}
