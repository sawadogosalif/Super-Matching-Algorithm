{
 "cells": [
  {
   "cell_type": "markdown",
   "metadata": {},
   "source": [
    "# DATA QUALITY - Fruital census"
   ]
  },
  {
   "cell_type": "markdown",
   "metadata": {},
   "source": [
    "# Library"
   ]
  },
  {
   "cell_type": "code",
   "execution_count": 3,
   "metadata": {},
   "outputs": [],
   "source": [
    "import warnings\n",
    "warnings.filterwarnings('ignore')"
   ]
  },
  {
   "cell_type": "code",
   "execution_count": 4,
   "metadata": {},
   "outputs": [],
   "source": [
    "import pandas as pd\n",
    "import numpy as np\n",
    "from pyspark.sql.functions import pandas_udf\n",
    "from pyspark.sql.functions import udf\n",
    "from typing import List, Dict, Optional, Callable, Union\n",
    "import re\n",
    "import string\n",
    "import pyspark\n",
    "import shapely\n",
    "import pandas as pd\n",
    "import geopandas as gpd\n",
    "import nltk\n",
    "import unidecode\n",
    "from shapely.geometry import Polygon, Point\n",
    "from geopandas import GeoDataFrame\n",
    "import os\n",
    "import fastparquet \n",
    "from nltk import ngrams\n",
    "from ngram import NGram\n",
    "from textdistance import damerau_levenshtein\n",
    "from textdistance import jaro_winkler\n",
    "from textdistance import sorensen_dice\n",
    "from textdistance import jaccard\n",
    "from textdistance import overlap\n",
    "from textdistance import ratcliff_obershelp \n"
   ]
  },
  {
   "cell_type": "markdown",
   "metadata": {},
   "source": [
    "# Matching preparation functions"
   ]
  },
  {
   "cell_type": "markdown",
   "metadata": {},
   "source": [
    "**function toools**"
   ]
  },
  {
   "cell_type": "code",
   "execution_count": 5,
   "metadata": {},
   "outputs": [],
   "source": [
    "def function_vectorizer(input_function: Callable) -> Callable:\n",
    "    \"\"\"This function takes an input funcion that works with arbitrary input\n",
    "    and vectorizes it so that the input function is applied to iterables\n",
    "    (such as columns of a Spark DataFrame).\n",
    "    The ouptut is always going to be pandas Series to ensure compliance\n",
    "    with Spark DataFrames.\n",
    "    \n",
    "    Arguments:\n",
    "        input_function {Callable} -- The input function.\n",
    "    \n",
    "    Returns:\n",
    "        Callable -- The function vectorized (i.e. acting on each element of an\n",
    "        iterable).\n",
    "    \"\"\"\n",
    " \n",
    "    def vectorized_function(*args):\n",
    "        return pd.Series([input_function(*tup) for tup in zip(*args)])\n",
    "    \n",
    "    return vectorized_function\n"
   ]
  },
  {
   "cell_type": "markdown",
   "metadata": {},
   "source": [
    "**Test processing**"
   ]
  },
  {
   "cell_type": "code",
   "execution_count": 6,
   "metadata": {},
   "outputs": [],
   "source": [
    "name_column_blacklist = [\"cafe\", \"cf\", \"restaurant\", \"estaurant\", \"rest\", \"ag\", \"ste\", \"café\", \"snack\", \"hotel\", \"sarl\", \"rotisserie\", \"marrakech\"]\n",
    "name_column_regex_replace = {r\"\\'\": \"\", r\"\\d{5}\": \"\", r\"\\s+\": \" \"}\n",
    "address_column_blacklist = []\n",
    "address_column_regex_replace = {r\"\\'\": \"\", r\"\\s+\": \" \", \"avenu \": \"av \", \"boulevard \": \"bd \"}"
   ]
  },
  {
   "cell_type": "code",
   "execution_count": 7,
   "metadata": {},
   "outputs": [
    {
     "name": "stderr",
     "output_type": "stream",
     "text": [
      "[nltk_data] Error loading punkt: <urlopen error [Errno 11001]\n",
      "[nltk_data]     getaddrinfo failed>\n",
      "[nltk_data] Error loading stopwords: <urlopen error [Errno 11001]\n",
      "[nltk_data]     getaddrinfo failed>\n"
     ]
    }
   ],
   "source": [
    "# Snowball stemmer was chosen in favor of Porter Stemmer which is a bit more aggressive and tends to remove too much from a word\n",
    "import nltk\n",
    "from nltk.stem.snowball import SnowballStemmer\n",
    "from nltk.tokenize import word_tokenize\n",
    "from nltk.corpus import stopwords\n",
    "nltk.download(\"punkt\")\n",
    "nltk.download(\"stopwords\")\n",
    " \n",
    "# unidecode is the library needed for ASCII folding\n",
    "from unidecode import unidecode\n",
    "import string\n",
    "# Compact Language Detector v3 is a very fast and performant algorithm by Google for language detection: more info here: https://pypi.org/project/pycld3/\n",
    "import re\n",
    " \n",
    "import pyspark.sql.functions as F\n",
    "from typing import List, Dict, Optional, Callable\n",
    "from langdetect import detect"
   ]
  },
  {
   "cell_type": "code",
   "execution_count": 8,
   "metadata": {},
   "outputs": [],
   "source": [
    "name_column_blacklist = [\"cafe\", \"cf\", \"restaurant\", \"estaurant\", \"rest\", \"ag\", \"ste\", \"café\", \"snack\", \"hotel\", \"sarl\", \"rotisserie\", \"marrakech\"]\n",
    "name_column_regex_replace = {r\"\\'\": \"\", r\"\\d{5}\": \"\", r\"\\s+\": \" \"}\n",
    "address_column_blacklist = []\n",
    "address_column_regex_replace = {r\"\\'\": \"\", r\"\\s+\": \" \", \"avenu \": \"av \", \"boulevard \": \"bd \"} \n",
    "def make_text_prep_func(row, word_blacklist, regex_replace, colonne) :\n",
    "    try:\n",
    "      STOPWORDS_EN = stopwords.words(\"english\")\n",
    "      STOPWORDS_FR = stopwords.words(\"french\")\n",
    "      STEMMER_EN = SnowballStemmer(language='english')\n",
    "      STEMMER_FR = SnowballStemmer(language='french')\n",
    "    except:\n",
    "      nltk.download(\"punkt\")\n",
    "      nltk.download(\"stopwords\")\n",
    "      STOPWORDS_EN = stopwords.words(\"english\")\n",
    "      STOPWORDS_FR = stopwords.words(\"french\")\n",
    "      STEMMER_EN = SnowballStemmer(language='english')\n",
    "      STEMMER_FR = SnowballStemmer(language='french')\n",
    "    s=row[colonne]\n",
    " \n",
    "    if s is None or s==\"\":\n",
    "       return \"\"\n",
    "#     STOPWORDS_EN = ['i', 'me', 'my', 'myself', 'we', 'our', 'ours', 'ourselves', 'you', \"you're\", \"you've\", \"you'll\", \"you'd\", 'your', 'yours', 'yourself', 'yourselves', 'he', 'him', 'his', 'himself', 'she', \"she's\", 'her', 'hers', 'herself', 'it', \"it's\", 'its', 'itself', 'they', 'them', 'their', 'theirs', 'themselves', 'what', 'which', 'who', 'whom', 'this', 'that', \"that'll\", 'these', 'those', 'am', 'is', 'are', 'was', 'were', 'be', 'been', 'being', 'have', 'has', 'had', 'having', 'do', 'does', 'did', 'doing', 'a', 'an', 'the', 'and', 'but', 'if', 'or', 'because', 'as', 'until', 'while', 'of', 'at', 'by', 'for', 'with', 'about', 'against', 'between', 'into', 'through', 'during', 'before', 'after', 'above', 'below', 'to', 'from', 'up', 'down', 'in', 'out', 'on', 'off', 'over', 'under', 'again', 'further', 'then', 'once', 'here', 'there', 'when', 'where', 'why', 'how', 'all', 'any', 'both', 'each', 'few', 'more', 'most', 'other', 'some', 'such', 'no', 'nor', 'not', 'only', 'own', 'same', 'so', 'than', 'too', 'very', 's', 't', 'can', 'will', 'just', 'don', \"don't\", 'should', \"should've\", 'now', 'd', 'll', 'm', 'o', 're', 've', 'y', 'ain', 'aren', \"aren't\", 'couldn', \"couldn't\", 'didn', \"didn't\", 'doesn', \"doesn't\", 'hadn', \"hadn't\", 'hasn', \"hasn't\", 'haven', \"haven't\", 'isn', \"isn't\", 'ma', 'mightn', \"mightn't\", 'mustn', \"mustn't\", 'needn', \"needn't\", 'shan', \"shan't\", 'shouldn', \"shouldn't\", 'wasn', \"wasn't\", 'weren', \"weren't\", 'won', \"won't\", 'wouldn', \"wouldn't\"]\n",
    "#     STOPWORDS_FR = ['au', 'aux', 'avec', 'ce', 'ces', 'dans', 'de', 'des', 'du', 'elle', 'en', 'et', 'eux', 'il', 'ils', 'je', 'la', 'le', 'les', 'leur', 'lui', 'ma', 'mais', 'me', 'même', 'mes', 'moi', 'mon', 'ne', 'nos', 'notre', 'nous', 'on', 'ou', 'par', 'pas', 'pour', 'qu', 'que', 'qui', 'sa', 'se', 'ses', 'son', 'sur', 'ta', 'te', 'tes', 'toi', 'ton', 'tu', 'un', 'une', 'vos', 'votre', 'vous', 'c', 'd', 'j', 'l', 'à', 'm', 'n', 's', 't', 'y', 'été', 'étée', 'étées', 'étés', 'étant', 'étante', 'étants', 'étantes', 'suis', 'es', 'est', 'sommes', 'êtes', 'sont', 'serai', 'seras', 'sera', 'serons', 'serez', 'seront', 'serais', 'serait', 'serions', 'seriez', 'seraient', 'étais', 'était', 'étions', 'étiez', 'étaient', 'fus', 'fut', 'fûmes', 'fûtes', 'furent', 'sois', 'soit', 'soyons', 'soyez', 'soient', 'fusse', 'fusses', 'fût', 'fussions', 'fussiez', 'fussent', 'ayant', 'ayante', 'ayantes', 'ayants', 'eu', 'eue', 'eues', 'eus', 'ai', 'as', 'avons', 'avez', 'ont', 'aurai', 'auras', 'aura', 'aurons', 'aurez', 'auront', 'aurais', 'aurait', 'aurions', 'auriez', 'auraient', 'avais', 'avait', 'avions', 'aviez', 'avaient', 'eut', 'eûmes', 'eûtes', 'eurent', 'aie', 'aies', 'ait', 'ayons', 'ayez', 'aient', 'eusse', 'eusses', 'eût', 'eussions', 'eussiez', 'eussent']\n",
    "    stop_words = STOPWORDS_EN + word_blacklist\n",
    "    stemmer = STEMMER_EN\n",
    "    s = s.lower()\n",
    "     # check if the language is French\n",
    "    s_lang = detect(s)\n",
    "    if s_lang==\"fr\":\n",
    "      stop_words = STOPWORDS_FR + word_blacklist\n",
    "      stemmer = STEMMER_FR\n",
    " \n",
    "    \n",
    "    stop_words = STOPWORDS_FR + word_blacklist\n",
    "    stemmer = STEMMER_FR\n",
    "    s_clean = s.translate(str.maketrans(string.punctuation, ' ' * len(string.punctuation)))\n",
    "    s_tokens = word_tokenize(s_clean)\n",
    "    s_tokens_no_stop = [word for word in s_tokens if word not in stop_words]\n",
    "    s_tokens_stemmed = [stemmer.stem(word) for word in s_tokens_no_stop]\n",
    "    s_ascii = unidecode(\" \".join(s_tokens_stemmed))\n",
    "    \n",
    "    for regex, replace in regex_replace.items():\n",
    "      s_ascii = re.sub(regex, replace, s_ascii)\n",
    "    return(s_ascii.strip())\n",
    "\n"
   ]
  },
  {
   "cell_type": "code",
   "execution_count": 9,
   "metadata": {},
   "outputs": [
    {
     "data": {
      "text/plain": [
       "[]"
      ]
     },
     "execution_count": 9,
     "metadata": {},
     "output_type": "execute_result"
    }
   ],
   "source": [
    "address_column_blacklist"
   ]
  },
  {
   "cell_type": "markdown",
   "metadata": {},
   "source": [
    "**geospatial function**"
   ]
  },
  {
   "cell_type": "code",
   "execution_count": 38,
   "metadata": {},
   "outputs": [],
   "source": [
    "def haversine_distance(row):\n",
    "\n",
    "    longit_a=row.R_place_longitude\n",
    "    latit_a=row.R_place_latitude\n",
    "    longit_b=row.L_LONGITUDE\n",
    "    latit_b=row.L_LATITUDE\n",
    "    # Transform to radians\n",
    "    longit_a, latit_a, longit_b, latit_b = map(np.radians, [longit_a,  latit_a, longit_b, latit_b])\n",
    "    dist_longit = longit_b - longit_a\n",
    "    dist_latit = latit_b - latit_a\n",
    "    # Calculate area\n",
    "    area = np.sin(dist_latit/2)**2 + np.cos(latit_a) * np.cos(latit_b) * np.sin(dist_longit/2)**2\n",
    "    # Calculate the central angle\n",
    "    central_angle = 2 * np.arcsin(np.sqrt(area))\n",
    "    #   central_angle = 2 * np.arctan2(np.sqrt(area), np.sqrt(1-area))\n",
    "    radius = 6371000\n",
    "    # Calculate Distance\n",
    "    distance = central_angle * radius\n",
    "    return abs(round(distance, 2))\n",
    "  \n",
    "# haversine_distance_sdf = F.pandas_udf(function_vectorizer(haversine_distance),\"double\")"
   ]
  },
  {
   "cell_type": "code",
   "execution_count": 11,
   "metadata": {},
   "outputs": [],
   "source": [
    "def sdf_to_gdf(sdf: pyspark.sql.dataframe.DataFrame,\n",
    "               longitude: str = \"longitude\",\n",
    "               latitude: str = \"latitude\",\n",
    "               crs: str = \"epsg:4326\"\n",
    "              ) -> GeoDataFrame:\n",
    "  \n",
    "  pdf = sdf.toPandas()\n",
    "  gdf = gpd.GeoDataFrame(pdf, geometry=gpd.points_from_xy(pdf[longitude], pdf[latitude]), crs=crs)\n",
    "  return(gdf)"
   ]
  },
  {
   "cell_type": "markdown",
   "metadata": {},
   "source": [
    "**test similaity**"
   ]
  },
  {
   "cell_type": "code",
   "execution_count": 12,
   "metadata": {},
   "outputs": [],
   "source": [
    "def compound_similarity(row,col1,col2):\n",
    "    s1 = row[col1]\n",
    "    s2 = row[col2]\n",
    "    if s1 is None:\n",
    "        s1 = \"\"\n",
    "    if s2 is None:\n",
    "        s2 = \"\"\n",
    "    if s1 == \"\" and s2 == \"\":\n",
    "        return 0.\n",
    "    scores = [\n",
    "                 damerau_levenshtein.normalized_similarity(s1, s2),\n",
    "                 jaro_winkler.normalized_similarity(s1, s2),\n",
    "                 sorensen_dice.normalized_similarity(s1, s2),\n",
    "                 jaccard.normalized_similarity(s1, s2),\n",
    "                 overlap.normalized_similarity(s1, s2),\n",
    "                 ratcliff_obershelp.normalized_similarity(s1, s2),\n",
    "                 NGram.compare(s1, s2, N=2)\n",
    "             ]\n",
    "    return np.mean(scores)"
   ]
  },
  {
   "cell_type": "markdown",
   "metadata": {},
   "source": [
    "# Data :CMD Golden"
   ]
  },
  {
   "cell_type": "markdown",
   "metadata": {},
   "source": [
    "**cmd dataset**"
   ]
  },
  {
   "cell_type": "code",
   "execution_count": 13,
   "metadata": {},
   "outputs": [],
   "source": [
    "cmd = pd.read_excel(\"D:/data_quality/data/customer_invoice_tizi_ouzou.xlsx\") [[\"Client\", \"LONGITUDE\", \"LATITUDE\", \"Nom\", \"Adresse\"]]"
   ]
  },
  {
   "cell_type": "code",
   "execution_count": 14,
   "metadata": {},
   "outputs": [
    {
     "data": {
      "text/html": [
       "<div>\n",
       "<style scoped>\n",
       "    .dataframe tbody tr th:only-of-type {\n",
       "        vertical-align: middle;\n",
       "    }\n",
       "\n",
       "    .dataframe tbody tr th {\n",
       "        vertical-align: top;\n",
       "    }\n",
       "\n",
       "    .dataframe thead th {\n",
       "        text-align: right;\n",
       "    }\n",
       "</style>\n",
       "<table border=\"1\" class=\"dataframe\">\n",
       "  <thead>\n",
       "    <tr style=\"text-align: right;\">\n",
       "      <th></th>\n",
       "      <th>CUSTOMER_COD</th>\n",
       "      <th>LONGITUDE</th>\n",
       "      <th>LATITUDE</th>\n",
       "      <th>Nom</th>\n",
       "      <th>Adresse</th>\n",
       "    </tr>\n",
       "  </thead>\n",
       "  <tbody>\n",
       "    <tr>\n",
       "      <th>0</th>\n",
       "      <td>72011</td>\n",
       "      <td>4.103267</td>\n",
       "      <td>36.607317</td>\n",
       "      <td>MANOUCHE AMAR</td>\n",
       "      <td>RUE TALA ATHMANE</td>\n",
       "    </tr>\n",
       "    <tr>\n",
       "      <th>1</th>\n",
       "      <td>72009</td>\n",
       "      <td>4.080755</td>\n",
       "      <td>36.620868</td>\n",
       "      <td>SADAOUI HAMID</td>\n",
       "      <td>RUE AMIROUCHE</td>\n",
       "    </tr>\n",
       "    <tr>\n",
       "      <th>2</th>\n",
       "      <td>72000</td>\n",
       "      <td>4.087680</td>\n",
       "      <td>36.617363</td>\n",
       "      <td>SARL TOUTE ELLA</td>\n",
       "      <td>RUE IGHIL HAMOU</td>\n",
       "    </tr>\n",
       "    <tr>\n",
       "      <th>3</th>\n",
       "      <td>71999</td>\n",
       "      <td>4.043520</td>\n",
       "      <td>36.695920</td>\n",
       "      <td>BOUZERD ABDENOUR</td>\n",
       "      <td>BENI DOUALA CENTRE</td>\n",
       "    </tr>\n",
       "    <tr>\n",
       "      <th>4</th>\n",
       "      <td>71998</td>\n",
       "      <td>4.178637</td>\n",
       "      <td>36.768272</td>\n",
       "      <td>DLIM SAID</td>\n",
       "      <td>RESIDENCE HADJILI BOUKHALFA</td>\n",
       "    </tr>\n",
       "    <tr>\n",
       "      <th>...</th>\n",
       "      <td>...</td>\n",
       "      <td>...</td>\n",
       "      <td>...</td>\n",
       "      <td>...</td>\n",
       "      <td>...</td>\n",
       "    </tr>\n",
       "    <tr>\n",
       "      <th>5572</th>\n",
       "      <td>29040</td>\n",
       "      <td>3.740273</td>\n",
       "      <td>36.612807</td>\n",
       "      <td>MDN/74° B.I.A (FOYER)TIZI-OUZOU</td>\n",
       "      <td>TIZI-OUZOU W-TIZI-OUZOU</td>\n",
       "    </tr>\n",
       "    <tr>\n",
       "      <th>5573</th>\n",
       "      <td>29012</td>\n",
       "      <td>4.317823</td>\n",
       "      <td>36.758588</td>\n",
       "      <td>MDN/12°G.I.R(FOYER) FREHA</td>\n",
       "      <td>FREHA</td>\n",
       "    </tr>\n",
       "    <tr>\n",
       "      <th>5574</th>\n",
       "      <td>29002</td>\n",
       "      <td>3.739110</td>\n",
       "      <td>36.623918</td>\n",
       "      <td>MDN/10°B.P.C(TAFSA)</td>\n",
       "      <td>AZZAZGA W-TIZI-OUZOU</td>\n",
       "    </tr>\n",
       "    <tr>\n",
       "      <th>5575</th>\n",
       "      <td>28996</td>\n",
       "      <td>2.816000</td>\n",
       "      <td>36.472308</td>\n",
       "      <td>MDN/74 B.I.A (ORDINAIRE)TIZI-OUZOU</td>\n",
       "      <td>TIZI-OUZOU</td>\n",
       "    </tr>\n",
       "    <tr>\n",
       "      <th>5576</th>\n",
       "      <td>28957</td>\n",
       "      <td>3.994413</td>\n",
       "      <td>36.732311</td>\n",
       "      <td>MDN/ 18 B.L.I FOYER(TIZI GHENIf)</td>\n",
       "      <td>BP N°73</td>\n",
       "    </tr>\n",
       "  </tbody>\n",
       "</table>\n",
       "<p>5577 rows × 5 columns</p>\n",
       "</div>"
      ],
      "text/plain": [
       "      CUSTOMER_COD  LONGITUDE   LATITUDE                                 Nom  \\\n",
       "0            72011   4.103267  36.607317                       MANOUCHE AMAR   \n",
       "1            72009   4.080755  36.620868                       SADAOUI HAMID   \n",
       "2            72000   4.087680  36.617363                     SARL TOUTE ELLA   \n",
       "3            71999   4.043520  36.695920                    BOUZERD ABDENOUR   \n",
       "4            71998   4.178637  36.768272                           DLIM SAID   \n",
       "...            ...        ...        ...                                 ...   \n",
       "5572         29040   3.740273  36.612807     MDN/74° B.I.A (FOYER)TIZI-OUZOU   \n",
       "5573         29012   4.317823  36.758588           MDN/12°G.I.R(FOYER) FREHA   \n",
       "5574         29002   3.739110  36.623918                 MDN/10°B.P.C(TAFSA)   \n",
       "5575         28996   2.816000  36.472308  MDN/74 B.I.A (ORDINAIRE)TIZI-OUZOU   \n",
       "5576         28957   3.994413  36.732311    MDN/ 18 B.L.I FOYER(TIZI GHENIf)   \n",
       "\n",
       "                          Adresse  \n",
       "0                RUE TALA ATHMANE  \n",
       "1                   RUE AMIROUCHE  \n",
       "2                 RUE IGHIL HAMOU  \n",
       "3              BENI DOUALA CENTRE  \n",
       "4     RESIDENCE HADJILI BOUKHALFA  \n",
       "...                           ...  \n",
       "5572      TIZI-OUZOU W-TIZI-OUZOU  \n",
       "5573                        FREHA  \n",
       "5574         AZZAZGA W-TIZI-OUZOU  \n",
       "5575                   TIZI-OUZOU  \n",
       "5576                      BP N°73  \n",
       "\n",
       "[5577 rows x 5 columns]"
      ]
     },
     "execution_count": 14,
     "metadata": {},
     "output_type": "execute_result"
    }
   ],
   "source": [
    "cmd=cmd.rename(columns={\"Client\":\"CUSTOMER_COD\"})\n",
    "cmd"
   ]
  },
  {
   "cell_type": "markdown",
   "metadata": {},
   "source": [
    "**cmd golden Id**"
   ]
  },
  {
   "cell_type": "code",
   "execution_count": 15,
   "metadata": {},
   "outputs": [],
   "source": [
    "cmd_golden_uri=\"C:/Users/Salif SAWADOGO/OneDrive - EQUATORIAL COCA-COLA BOTTLING COMPANY S.L/dynamic segmentation/matching/output/horeca_tz_customer_subset.csv\"\n",
    "cmd_golden_ids= pd.read_csv(cmd_golden_uri) [[\"CUSTOMER_COD\"]]"
   ]
  },
  {
   "cell_type": "code",
   "execution_count": 16,
   "metadata": {},
   "outputs": [
    {
     "data": {
      "text/html": [
       "<div>\n",
       "<style scoped>\n",
       "    .dataframe tbody tr th:only-of-type {\n",
       "        vertical-align: middle;\n",
       "    }\n",
       "\n",
       "    .dataframe tbody tr th {\n",
       "        vertical-align: top;\n",
       "    }\n",
       "\n",
       "    .dataframe thead th {\n",
       "        text-align: right;\n",
       "    }\n",
       "</style>\n",
       "<table border=\"1\" class=\"dataframe\">\n",
       "  <thead>\n",
       "    <tr style=\"text-align: right;\">\n",
       "      <th></th>\n",
       "      <th>CUSTOMER_COD</th>\n",
       "    </tr>\n",
       "  </thead>\n",
       "  <tbody>\n",
       "    <tr>\n",
       "      <th>0</th>\n",
       "      <td>56341</td>\n",
       "    </tr>\n",
       "    <tr>\n",
       "      <th>1</th>\n",
       "      <td>38014</td>\n",
       "    </tr>\n",
       "    <tr>\n",
       "      <th>2</th>\n",
       "      <td>38861</td>\n",
       "    </tr>\n",
       "    <tr>\n",
       "      <th>3</th>\n",
       "      <td>54921</td>\n",
       "    </tr>\n",
       "    <tr>\n",
       "      <th>4</th>\n",
       "      <td>37832</td>\n",
       "    </tr>\n",
       "    <tr>\n",
       "      <th>...</th>\n",
       "      <td>...</td>\n",
       "    </tr>\n",
       "    <tr>\n",
       "      <th>193</th>\n",
       "      <td>37785</td>\n",
       "    </tr>\n",
       "    <tr>\n",
       "      <th>194</th>\n",
       "      <td>38635</td>\n",
       "    </tr>\n",
       "    <tr>\n",
       "      <th>195</th>\n",
       "      <td>41385</td>\n",
       "    </tr>\n",
       "    <tr>\n",
       "      <th>196</th>\n",
       "      <td>54782</td>\n",
       "    </tr>\n",
       "    <tr>\n",
       "      <th>197</th>\n",
       "      <td>54728</td>\n",
       "    </tr>\n",
       "  </tbody>\n",
       "</table>\n",
       "<p>198 rows × 1 columns</p>\n",
       "</div>"
      ],
      "text/plain": [
       "     CUSTOMER_COD\n",
       "0           56341\n",
       "1           38014\n",
       "2           38861\n",
       "3           54921\n",
       "4           37832\n",
       "..            ...\n",
       "193         37785\n",
       "194         38635\n",
       "195         41385\n",
       "196         54782\n",
       "197         54728\n",
       "\n",
       "[198 rows x 1 columns]"
      ]
     },
     "execution_count": 16,
     "metadata": {},
     "output_type": "execute_result"
    }
   ],
   "source": [
    "cmd_golden_ids"
   ]
  },
  {
   "cell_type": "markdown",
   "metadata": {},
   "source": [
    "**merge datasets**"
   ]
  },
  {
   "cell_type": "code",
   "execution_count": 17,
   "metadata": {},
   "outputs": [
    {
     "data": {
      "text/html": [
       "<div>\n",
       "<style scoped>\n",
       "    .dataframe tbody tr th:only-of-type {\n",
       "        vertical-align: middle;\n",
       "    }\n",
       "\n",
       "    .dataframe tbody tr th {\n",
       "        vertical-align: top;\n",
       "    }\n",
       "\n",
       "    .dataframe thead th {\n",
       "        text-align: right;\n",
       "    }\n",
       "</style>\n",
       "<table border=\"1\" class=\"dataframe\">\n",
       "  <thead>\n",
       "    <tr style=\"text-align: right;\">\n",
       "      <th></th>\n",
       "      <th>CUSTOMER_COD</th>\n",
       "      <th>LONGITUDE</th>\n",
       "      <th>LATITUDE</th>\n",
       "      <th>Nom</th>\n",
       "      <th>Adresse</th>\n",
       "    </tr>\n",
       "  </thead>\n",
       "  <tbody>\n",
       "    <tr>\n",
       "      <th>0</th>\n",
       "      <td>67250</td>\n",
       "      <td>3.842823</td>\n",
       "      <td>36.537640</td>\n",
       "      <td>FOUNES HAKIM</td>\n",
       "      <td>OUACIF CENTRE</td>\n",
       "    </tr>\n",
       "    <tr>\n",
       "      <th>1</th>\n",
       "      <td>65126</td>\n",
       "      <td>4.059238</td>\n",
       "      <td>36.702653</td>\n",
       "      <td>COFFEE TIME</td>\n",
       "      <td>BVD LES BOUZARD KRIM BELKACEM</td>\n",
       "    </tr>\n",
       "    <tr>\n",
       "      <th>2</th>\n",
       "      <td>65115</td>\n",
       "      <td>3.959820</td>\n",
       "      <td>36.723993</td>\n",
       "      <td>RABHI SAMIR</td>\n",
       "      <td>COMMUNE AIN ZAOUIA CENTRE</td>\n",
       "    </tr>\n",
       "    <tr>\n",
       "      <th>3</th>\n",
       "      <td>65113</td>\n",
       "      <td>4.366767</td>\n",
       "      <td>36.666388</td>\n",
       "      <td>SADJI YOUCEF</td>\n",
       "      <td>MAKOUDA CENTRE</td>\n",
       "    </tr>\n",
       "    <tr>\n",
       "      <th>4</th>\n",
       "      <td>65061</td>\n",
       "      <td>3.955950</td>\n",
       "      <td>36.734243</td>\n",
       "      <td>AMAR CHERGUI</td>\n",
       "      <td>RUE DES FRERES MAMMERI</td>\n",
       "    </tr>\n",
       "    <tr>\n",
       "      <th>...</th>\n",
       "      <td>...</td>\n",
       "      <td>...</td>\n",
       "      <td>...</td>\n",
       "      <td>...</td>\n",
       "      <td>...</td>\n",
       "    </tr>\n",
       "    <tr>\n",
       "      <th>193</th>\n",
       "      <td>37785</td>\n",
       "      <td>4.208080</td>\n",
       "      <td>36.678827</td>\n",
       "      <td>CHEBAH RABAH</td>\n",
       "      <td>YAKOURENE CENTRE</td>\n",
       "    </tr>\n",
       "    <tr>\n",
       "      <th>194</th>\n",
       "      <td>37777</td>\n",
       "      <td>4.206327</td>\n",
       "      <td>36.526737</td>\n",
       "      <td>AGOUAZI KAMEL</td>\n",
       "      <td>YAKOURENE CENTRE</td>\n",
       "    </tr>\n",
       "    <tr>\n",
       "      <th>195</th>\n",
       "      <td>37775</td>\n",
       "      <td>4.206720</td>\n",
       "      <td>36.528201</td>\n",
       "      <td>DARANI SOUFIANE</td>\n",
       "      <td>YAKOURENE CENTRE</td>\n",
       "    </tr>\n",
       "    <tr>\n",
       "      <th>196</th>\n",
       "      <td>37766</td>\n",
       "      <td>4.337410</td>\n",
       "      <td>36.748385</td>\n",
       "      <td>TIACHTINE RACHID</td>\n",
       "      <td>TAZAGHARTE AZAZGA</td>\n",
       "    </tr>\n",
       "    <tr>\n",
       "      <th>197</th>\n",
       "      <td>37757</td>\n",
       "      <td>4.305728</td>\n",
       "      <td>36.574091</td>\n",
       "      <td>SAGHI YOUCEF</td>\n",
       "      <td>RUE COLONEL AMIROUCHE AZAZGA</td>\n",
       "    </tr>\n",
       "  </tbody>\n",
       "</table>\n",
       "<p>198 rows × 5 columns</p>\n",
       "</div>"
      ],
      "text/plain": [
       "     CUSTOMER_COD  LONGITUDE   LATITUDE               Nom  \\\n",
       "0           67250   3.842823  36.537640      FOUNES HAKIM   \n",
       "1           65126   4.059238  36.702653       COFFEE TIME   \n",
       "2           65115   3.959820  36.723993       RABHI SAMIR   \n",
       "3           65113   4.366767  36.666388      SADJI YOUCEF   \n",
       "4           65061   3.955950  36.734243      AMAR CHERGUI   \n",
       "..            ...        ...        ...               ...   \n",
       "193         37785   4.208080  36.678827      CHEBAH RABAH   \n",
       "194         37777   4.206327  36.526737     AGOUAZI KAMEL   \n",
       "195         37775   4.206720  36.528201   DARANI SOUFIANE   \n",
       "196         37766   4.337410  36.748385  TIACHTINE RACHID   \n",
       "197         37757   4.305728  36.574091      SAGHI YOUCEF   \n",
       "\n",
       "                           Adresse  \n",
       "0                    OUACIF CENTRE  \n",
       "1    BVD LES BOUZARD KRIM BELKACEM  \n",
       "2        COMMUNE AIN ZAOUIA CENTRE  \n",
       "3                   MAKOUDA CENTRE  \n",
       "4           RUE DES FRERES MAMMERI  \n",
       "..                             ...  \n",
       "193               YAKOURENE CENTRE  \n",
       "194               YAKOURENE CENTRE  \n",
       "195               YAKOURENE CENTRE  \n",
       "196              TAZAGHARTE AZAZGA  \n",
       "197   RUE COLONEL AMIROUCHE AZAZGA  \n",
       "\n",
       "[198 rows x 5 columns]"
      ]
     },
     "execution_count": 17,
     "metadata": {},
     "output_type": "execute_result"
    }
   ],
   "source": [
    "cmd_golden = cmd.merge(cmd_golden_ids, on=\"CUSTOMER_COD\") \n",
    "cmd_golden"
   ]
  },
  {
   "cell_type": "markdown",
   "metadata": {},
   "source": [
    "**CLEAN string for Analysis**"
   ]
  },
  {
   "cell_type": "code",
   "execution_count": 18,
   "metadata": {},
   "outputs": [],
   "source": [
    "cmd_golden[\"ADRESSE_CLEAN\"]=cmd_golden.apply(lambda p:make_text_prep_func(p, address_column_blacklist, address_column_regex_replace,\"Adresse\"),axis=1)"
   ]
  },
  {
   "cell_type": "code",
   "execution_count": 19,
   "metadata": {},
   "outputs": [],
   "source": [
    "cmd_golden[\"NOM_CLEAN\"]=cmd_golden.apply(lambda p:make_text_prep_func(p, name_column_blacklist, name_column_regex_replace,\"Nom\"),axis=1)"
   ]
  },
  {
   "cell_type": "markdown",
   "metadata": {},
   "source": [
    "# Data :TripAdvisor"
   ]
  },
  {
   "cell_type": "markdown",
   "metadata": {},
   "source": [
    "**Reading**"
   ]
  },
  {
   "cell_type": "code",
   "execution_count": 20,
   "metadata": {},
   "outputs": [],
   "source": [
    "google_restaurant =\"restaurant_250m.xlsx\""
   ]
  },
  {
   "cell_type": "code",
   "execution_count": 24,
   "metadata": {},
   "outputs": [
    {
     "data": {
      "text/html": [
       "<div>\n",
       "<style scoped>\n",
       "    .dataframe tbody tr th:only-of-type {\n",
       "        vertical-align: middle;\n",
       "    }\n",
       "\n",
       "    .dataframe tbody tr th {\n",
       "        vertical-align: top;\n",
       "    }\n",
       "\n",
       "    .dataframe thead th {\n",
       "        text-align: right;\n",
       "    }\n",
       "</style>\n",
       "<table border=\"1\" class=\"dataframe\">\n",
       "  <thead>\n",
       "    <tr style=\"text-align: right;\">\n",
       "      <th></th>\n",
       "      <th>Unnamed: 0</th>\n",
       "      <th>business_type</th>\n",
       "      <th>place_name</th>\n",
       "      <th>place_id</th>\n",
       "      <th>place_latitude</th>\n",
       "      <th>place_longitude</th>\n",
       "      <th>place_address</th>\n",
       "      <th>place_circle</th>\n",
       "      <th>place_user_ratings_total</th>\n",
       "      <th>place_rating</th>\n",
       "      <th>place_types</th>\n",
       "    </tr>\n",
       "  </thead>\n",
       "  <tbody>\n",
       "    <tr>\n",
       "      <th>0</th>\n",
       "      <td>0</td>\n",
       "      <td>restaurant</td>\n",
       "      <td>El Gargabia</td>\n",
       "      <td>ChIJHc8k6jh1jRIRLWmmBvncSRQ</td>\n",
       "      <td>36.910246</td>\n",
       "      <td>4.431294</td>\n",
       "      <td>N24, Azeffoun</td>\n",
       "      <td>2</td>\n",
       "      <td>3.0</td>\n",
       "      <td>5.0</td>\n",
       "      <td>['restaurant', 'food', 'point_of_interest', 'e...</td>\n",
       "    </tr>\n",
       "    <tr>\n",
       "      <th>1</th>\n",
       "      <td>1</td>\n",
       "      <td>restaurant</td>\n",
       "      <td>El Gargabia</td>\n",
       "      <td>ChIJHc8k6jh1jRIRLWmmBvncSRQ</td>\n",
       "      <td>36.910246</td>\n",
       "      <td>4.431294</td>\n",
       "      <td>N24, Azeffoun</td>\n",
       "      <td>3</td>\n",
       "      <td>3.0</td>\n",
       "      <td>5.0</td>\n",
       "      <td>['restaurant', 'food', 'point_of_interest', 'e...</td>\n",
       "    </tr>\n",
       "    <tr>\n",
       "      <th>2</th>\n",
       "      <td>2</td>\n",
       "      <td>restaurant</td>\n",
       "      <td>La terrasse du bateau</td>\n",
       "      <td>ChIJFwvyn6-VjRIRbJk8CtjKvrA</td>\n",
       "      <td>36.902533</td>\n",
       "      <td>4.148954</td>\n",
       "      <td>W43X+2H8, Iflissen</td>\n",
       "      <td>28</td>\n",
       "      <td>1.0</td>\n",
       "      <td>5.0</td>\n",
       "      <td>['restaurant', 'food', 'point_of_interest', 'e...</td>\n",
       "    </tr>\n",
       "    <tr>\n",
       "      <th>3</th>\n",
       "      <td>3</td>\n",
       "      <td>restaurant</td>\n",
       "      <td>Panorama restaurant</td>\n",
       "      <td>ChIJ959ZiX6ZjRIRtlQrSCmb6Jw</td>\n",
       "      <td>36.904278</td>\n",
       "      <td>4.296403</td>\n",
       "      <td>N24</td>\n",
       "      <td>49</td>\n",
       "      <td>10.0</td>\n",
       "      <td>4.1</td>\n",
       "      <td>['restaurant', 'food', 'point_of_interest', 'e...</td>\n",
       "    </tr>\n",
       "    <tr>\n",
       "      <th>4</th>\n",
       "      <td>4</td>\n",
       "      <td>restaurant</td>\n",
       "      <td>AZEFFOUN</td>\n",
       "      <td>ChIJ____uBJ1jRIRUqOFlI-Qhb0</td>\n",
       "      <td>36.903226</td>\n",
       "      <td>4.419013</td>\n",
       "      <td>PORT D'AZEFFOUN</td>\n",
       "      <td>51</td>\n",
       "      <td>110.0</td>\n",
       "      <td>4.4</td>\n",
       "      <td>['restaurant', 'food', 'point_of_interest', 'e...</td>\n",
       "    </tr>\n",
       "    <tr>\n",
       "      <th>...</th>\n",
       "      <td>...</td>\n",
       "      <td>...</td>\n",
       "      <td>...</td>\n",
       "      <td>...</td>\n",
       "      <td>...</td>\n",
       "      <td>...</td>\n",
       "      <td>...</td>\n",
       "      <td>...</td>\n",
       "      <td>...</td>\n",
       "      <td>...</td>\n",
       "      <td>...</td>\n",
       "    </tr>\n",
       "    <tr>\n",
       "      <th>814</th>\n",
       "      <td>814</td>\n",
       "      <td>restaurant</td>\n",
       "      <td>GÎte Thaletat</td>\n",
       "      <td>ChIJixfijzxTjBIRVoAQ5_hs4tQ</td>\n",
       "      <td>36.497225</td>\n",
       "      <td>4.235737</td>\n",
       "      <td>F6WP+V7X, Ouacifs</td>\n",
       "      <td>19513</td>\n",
       "      <td>21.0</td>\n",
       "      <td>3.6</td>\n",
       "      <td>['restaurant', 'food', 'point_of_interest', 'e...</td>\n",
       "    </tr>\n",
       "    <tr>\n",
       "      <th>815</th>\n",
       "      <td>815</td>\n",
       "      <td>restaurant</td>\n",
       "      <td>L'escale de djurdjura</td>\n",
       "      <td>ChIJke2BrhlTjBIRnZF3X6sV700</td>\n",
       "      <td>36.495591</td>\n",
       "      <td>4.246338</td>\n",
       "      <td>N30, Iboudraren</td>\n",
       "      <td>19516</td>\n",
       "      <td>NaN</td>\n",
       "      <td>NaN</td>\n",
       "      <td>['restaurant', 'food', 'point_of_interest', 'e...</td>\n",
       "    </tr>\n",
       "    <tr>\n",
       "      <th>816</th>\n",
       "      <td>816</td>\n",
       "      <td>restaurant</td>\n",
       "      <td>Restaurant Talwit</td>\n",
       "      <td>ChIJb3QqcNY1jBIRWDeIcll0_kI</td>\n",
       "      <td>36.491111</td>\n",
       "      <td>3.988154</td>\n",
       "      <td>N30B, Boghni</td>\n",
       "      <td>19753</td>\n",
       "      <td>NaN</td>\n",
       "      <td>NaN</td>\n",
       "      <td>['restaurant', 'food', 'point_of_interest', 'e...</td>\n",
       "    </tr>\n",
       "    <tr>\n",
       "      <th>817</th>\n",
       "      <td>817</td>\n",
       "      <td>restaurant</td>\n",
       "      <td>Caféteria</td>\n",
       "      <td>ChIJd6qc8-ozjBIRPvZBki2vT4U</td>\n",
       "      <td>36.476472</td>\n",
       "      <td>3.968891</td>\n",
       "      <td>FXG9+HHJ, Aït Koufi</td>\n",
       "      <td>20159</td>\n",
       "      <td>1.0</td>\n",
       "      <td>3.0</td>\n",
       "      <td>['bar', 'restaurant', 'food', 'point_of_intere...</td>\n",
       "    </tr>\n",
       "    <tr>\n",
       "      <th>818</th>\n",
       "      <td>818</td>\n",
       "      <td>restaurant</td>\n",
       "      <td>Caféteria</td>\n",
       "      <td>ChIJd6qc8-ozjBIRPvZBki2vT4U</td>\n",
       "      <td>36.476472</td>\n",
       "      <td>3.968891</td>\n",
       "      <td>FXG9+HHJ, Aït Koufi</td>\n",
       "      <td>20287</td>\n",
       "      <td>1.0</td>\n",
       "      <td>3.0</td>\n",
       "      <td>['bar', 'restaurant', 'food', 'point_of_intere...</td>\n",
       "    </tr>\n",
       "  </tbody>\n",
       "</table>\n",
       "<p>819 rows × 11 columns</p>\n",
       "</div>"
      ],
      "text/plain": [
       "     Unnamed: 0 business_type             place_name  \\\n",
       "0             0    restaurant            El Gargabia   \n",
       "1             1    restaurant            El Gargabia   \n",
       "2             2    restaurant  La terrasse du bateau   \n",
       "3             3    restaurant    Panorama restaurant   \n",
       "4             4    restaurant               AZEFFOUN   \n",
       "..          ...           ...                    ...   \n",
       "814         814    restaurant          GÎte Thaletat   \n",
       "815         815    restaurant  L'escale de djurdjura   \n",
       "816         816    restaurant      Restaurant Talwit   \n",
       "817         817    restaurant              Caféteria   \n",
       "818         818    restaurant              Caféteria   \n",
       "\n",
       "                        place_id  place_latitude  place_longitude  \\\n",
       "0    ChIJHc8k6jh1jRIRLWmmBvncSRQ       36.910246         4.431294   \n",
       "1    ChIJHc8k6jh1jRIRLWmmBvncSRQ       36.910246         4.431294   \n",
       "2    ChIJFwvyn6-VjRIRbJk8CtjKvrA       36.902533         4.148954   \n",
       "3    ChIJ959ZiX6ZjRIRtlQrSCmb6Jw       36.904278         4.296403   \n",
       "4    ChIJ____uBJ1jRIRUqOFlI-Qhb0       36.903226         4.419013   \n",
       "..                           ...             ...              ...   \n",
       "814  ChIJixfijzxTjBIRVoAQ5_hs4tQ       36.497225         4.235737   \n",
       "815  ChIJke2BrhlTjBIRnZF3X6sV700       36.495591         4.246338   \n",
       "816  ChIJb3QqcNY1jBIRWDeIcll0_kI       36.491111         3.988154   \n",
       "817  ChIJd6qc8-ozjBIRPvZBki2vT4U       36.476472         3.968891   \n",
       "818  ChIJd6qc8-ozjBIRPvZBki2vT4U       36.476472         3.968891   \n",
       "\n",
       "           place_address  place_circle  place_user_ratings_total  \\\n",
       "0          N24, Azeffoun             2                       3.0   \n",
       "1          N24, Azeffoun             3                       3.0   \n",
       "2     W43X+2H8, Iflissen            28                       1.0   \n",
       "3                    N24            49                      10.0   \n",
       "4        PORT D'AZEFFOUN            51                     110.0   \n",
       "..                   ...           ...                       ...   \n",
       "814    F6WP+V7X, Ouacifs         19513                      21.0   \n",
       "815      N30, Iboudraren         19516                       NaN   \n",
       "816         N30B, Boghni         19753                       NaN   \n",
       "817  FXG9+HHJ, Aït Koufi         20159                       1.0   \n",
       "818  FXG9+HHJ, Aït Koufi         20287                       1.0   \n",
       "\n",
       "     place_rating                                        place_types  \n",
       "0             5.0  ['restaurant', 'food', 'point_of_interest', 'e...  \n",
       "1             5.0  ['restaurant', 'food', 'point_of_interest', 'e...  \n",
       "2             5.0  ['restaurant', 'food', 'point_of_interest', 'e...  \n",
       "3             4.1  ['restaurant', 'food', 'point_of_interest', 'e...  \n",
       "4             4.4  ['restaurant', 'food', 'point_of_interest', 'e...  \n",
       "..            ...                                                ...  \n",
       "814           3.6  ['restaurant', 'food', 'point_of_interest', 'e...  \n",
       "815           NaN  ['restaurant', 'food', 'point_of_interest', 'e...  \n",
       "816           NaN  ['restaurant', 'food', 'point_of_interest', 'e...  \n",
       "817           3.0  ['bar', 'restaurant', 'food', 'point_of_intere...  \n",
       "818           3.0  ['bar', 'restaurant', 'food', 'point_of_intere...  \n",
       "\n",
       "[819 rows x 11 columns]"
      ]
     },
     "execution_count": 24,
     "metadata": {},
     "output_type": "execute_result"
    }
   ],
   "source": [
    "google_restaurant=pd.read_excel(tripadvisor_data_uri)\n",
    "google_restaurant"
   ]
  },
  {
   "cell_type": "markdown",
   "metadata": {},
   "source": [
    "**clean  addresses and names**"
   ]
  },
  {
   "cell_type": "code",
   "execution_count": 25,
   "metadata": {},
   "outputs": [],
   "source": [
    "google_restaurant[\"name_CLEAN\"]=ta.apply(lambda p:make_text_prep_func(p, name_column_blacklist, name_column_regex_replace,\"place_name\"),axis=1)"
   ]
  },
  {
   "cell_type": "code",
   "execution_count": 26,
   "metadata": {},
   "outputs": [],
   "source": [
    "google_restaurant[\"address_CLEAN\"]=ta.apply(lambda p:make_text_prep_func(p, address_column_blacklist, address_column_regex_replace,'place_address'),axis=1)"
   ]
  },
  {
   "cell_type": "code",
   "execution_count": 34,
   "metadata": {},
   "outputs": [
    {
     "data": {
      "text/plain": [
       "Index(['Unnamed: 0', 'business_type', 'place_name', 'place_id',\n",
       "       'place_latitude', 'place_longitude', 'place_address', 'place_circle',\n",
       "       'place_user_ratings_total', 'place_rating', 'place_types', 'name_CLEAN',\n",
       "       'address_CLEAN'],\n",
       "      dtype='object')"
      ]
     },
     "execution_count": 34,
     "metadata": {},
     "output_type": "execute_result"
    }
   ],
   "source": [
    "google_restaurant.columns"
   ]
  },
  {
   "cell_type": "markdown",
   "metadata": {},
   "source": [
    "## similarity analysis"
   ]
  },
  {
   "cell_type": "markdown",
   "metadata": {},
   "source": [
    "**cross join Google maps data and cmd golden**"
   ]
  },
  {
   "cell_type": "code",
   "execution_count": 31,
   "metadata": {},
   "outputs": [],
   "source": [
    "def match_join(l_sdf,\n",
    "               l_id,\n",
    "               l_lon,\n",
    "               l_lat,\n",
    "               l_name,\n",
    "               l_addr,\n",
    "               r_sdf,\n",
    "               r_id,\n",
    "               r_lon,\n",
    "               r_lat,\n",
    "               r_name,\n",
    "               r_addr,\n",
    "               distance_threshold_m,\n",
    "               minimal = True\n",
    "              ):\n",
    "  l_slice = l_sdf[[l_id, l_lon, l_lat, l_name, l_addr,\"Nom\", \"Adresse\"]]\n",
    "  r_slice = r_sdf[[r_id, r_lon, r_lat, r_name, r_addr,\"place_name\", \"place_address\"]]\n",
    "  l_slice.columns= \"L_\"+l_slice.columns\n",
    "  r_slice.columns = \"R_\"+ r_slice.columns\n",
    "  l_slice['key'] = 1\n",
    "  r_slice['key'] = 1\n",
    "  \n",
    "# to obtain the cross join we will merge on \n",
    "# the key and drop it.\n",
    " \n",
    "  inner_joined = l_slice.merge(r_slice, on ='key').drop(\"key\", 1)\n",
    "#  l_joined = l_slice.join(inner_joined, l_slice.columns)\n",
    "  return(inner_joined)"
   ]
  },
  {
   "cell_type": "code",
   "execution_count": 35,
   "metadata": {},
   "outputs": [],
   "source": [
    "matched = match_join(cmd_golden, \"CUSTOMER_COD\", \"LONGITUDE\", \"LATITUDE\", \"NOM_CLEAN\", \"ADRESSE_CLEAN\", google_restaurant, \"place_id\", \"place_longitude\", \"place_latitude\", \"name_CLEAN\", \"address_CLEAN\", 2000)"
   ]
  },
  {
   "cell_type": "code",
   "execution_count": null,
   "metadata": {},
   "outputs": [],
   "source": []
  },
  {
   "cell_type": "code",
   "execution_count": 36,
   "metadata": {},
   "outputs": [
    {
     "data": {
      "text/plain": [
       "L_CUSTOMER_COD       198\n",
       "L_LONGITUDE          198\n",
       "L_LATITUDE           198\n",
       "L_NOM_CLEAN          198\n",
       "L_ADRESSE_CLEAN      166\n",
       "L_Nom                198\n",
       "L_Adresse            171\n",
       "R_place_id           593\n",
       "R_place_longitude    591\n",
       "R_place_latitude     591\n",
       "R_name_CLEAN         546\n",
       "R_address_CLEAN      459\n",
       "R_place_name         571\n",
       "R_place_address      460\n",
       "dtype: int64"
      ]
     },
     "execution_count": 36,
     "metadata": {},
     "output_type": "execute_result"
    }
   ],
   "source": [
    "matched.nunique()"
   ]
  },
  {
   "cell_type": "markdown",
   "metadata": {},
   "source": [
    "**Compute distance between TripAdvisor outlets and cmd golden outlets**"
   ]
  },
  {
   "cell_type": "code",
   "execution_count": 39,
   "metadata": {},
   "outputs": [],
   "source": [
    "matched[\"dist_m\"]=matched.apply(lambda p:haversine_distance(p),axis=1)"
   ]
  },
  {
   "cell_type": "code",
   "execution_count": 40,
   "metadata": {},
   "outputs": [
    {
     "data": {
      "text/plain": [
       "(162162, 15)"
      ]
     },
     "execution_count": 40,
     "metadata": {},
     "output_type": "execute_result"
    }
   ],
   "source": [
    "matched.shape"
   ]
  },
  {
   "cell_type": "code",
   "execution_count": null,
   "metadata": {},
   "outputs": [],
   "source": [
    "#matched=matched.loc[matched[\"dist_m\"]<=2000]\n",
    "matched[\"dist_m\"].hist()"
   ]
  },
  {
   "cell_type": "code",
   "execution_count": 41,
   "metadata": {},
   "outputs": [],
   "source": [
    "distance_threshold_m=2000"
   ]
  },
  {
   "cell_type": "markdown",
   "metadata": {},
   "source": [
    "**distance similarity**"
   ]
  },
  {
   "cell_type": "code",
   "execution_count": 42,
   "metadata": {},
   "outputs": [],
   "source": [
    "matched[\"dist_similarity\"] =(distance_threshold_m - matched[\"dist_m\"])/distance_threshold_m"
   ]
  },
  {
   "cell_type": "code",
   "execution_count": 43,
   "metadata": {},
   "outputs": [
    {
     "data": {
      "text/html": [
       "<div>\n",
       "<style scoped>\n",
       "    .dataframe tbody tr th:only-of-type {\n",
       "        vertical-align: middle;\n",
       "    }\n",
       "\n",
       "    .dataframe tbody tr th {\n",
       "        vertical-align: top;\n",
       "    }\n",
       "\n",
       "    .dataframe thead th {\n",
       "        text-align: right;\n",
       "    }\n",
       "</style>\n",
       "<table border=\"1\" class=\"dataframe\">\n",
       "  <thead>\n",
       "    <tr style=\"text-align: right;\">\n",
       "      <th></th>\n",
       "      <th>L_CUSTOMER_COD</th>\n",
       "      <th>L_LONGITUDE</th>\n",
       "      <th>L_LATITUDE</th>\n",
       "      <th>L_NOM_CLEAN</th>\n",
       "      <th>L_ADRESSE_CLEAN</th>\n",
       "      <th>L_Nom</th>\n",
       "      <th>L_Adresse</th>\n",
       "      <th>R_place_id</th>\n",
       "      <th>R_place_longitude</th>\n",
       "      <th>R_place_latitude</th>\n",
       "      <th>R_name_CLEAN</th>\n",
       "      <th>R_address_CLEAN</th>\n",
       "      <th>R_place_name</th>\n",
       "      <th>R_place_address</th>\n",
       "      <th>dist_m</th>\n",
       "      <th>dist_similarity</th>\n",
       "    </tr>\n",
       "  </thead>\n",
       "  <tbody>\n",
       "    <tr>\n",
       "      <th>0</th>\n",
       "      <td>67250</td>\n",
       "      <td>3.842823</td>\n",
       "      <td>36.537640</td>\n",
       "      <td>foun hakim</td>\n",
       "      <td>ouac centr</td>\n",
       "      <td>FOUNES HAKIM</td>\n",
       "      <td>OUACIF CENTRE</td>\n",
       "      <td>ChIJHc8k6jh1jRIRLWmmBvncSRQ</td>\n",
       "      <td>4.431294</td>\n",
       "      <td>36.910246</td>\n",
       "      <td>el gargabi</td>\n",
       "      <td>n24 azeffoun</td>\n",
       "      <td>El Gargabia</td>\n",
       "      <td>N24, Azeffoun</td>\n",
       "      <td>66838.15</td>\n",
       "      <td>-32.419075</td>\n",
       "    </tr>\n",
       "    <tr>\n",
       "      <th>1</th>\n",
       "      <td>67250</td>\n",
       "      <td>3.842823</td>\n",
       "      <td>36.537640</td>\n",
       "      <td>foun hakim</td>\n",
       "      <td>ouac centr</td>\n",
       "      <td>FOUNES HAKIM</td>\n",
       "      <td>OUACIF CENTRE</td>\n",
       "      <td>ChIJHc8k6jh1jRIRLWmmBvncSRQ</td>\n",
       "      <td>4.431294</td>\n",
       "      <td>36.910246</td>\n",
       "      <td>el gargabi</td>\n",
       "      <td>n24 azeffoun</td>\n",
       "      <td>El Gargabia</td>\n",
       "      <td>N24, Azeffoun</td>\n",
       "      <td>66838.15</td>\n",
       "      <td>-32.419075</td>\n",
       "    </tr>\n",
       "    <tr>\n",
       "      <th>2</th>\n",
       "      <td>67250</td>\n",
       "      <td>3.842823</td>\n",
       "      <td>36.537640</td>\n",
       "      <td>foun hakim</td>\n",
       "      <td>ouac centr</td>\n",
       "      <td>FOUNES HAKIM</td>\n",
       "      <td>OUACIF CENTRE</td>\n",
       "      <td>ChIJFwvyn6-VjRIRbJk8CtjKvrA</td>\n",
       "      <td>4.148954</td>\n",
       "      <td>36.902533</td>\n",
       "      <td>terr bateau</td>\n",
       "      <td>w43x 2h8 iflissen</td>\n",
       "      <td>La terrasse du bateau</td>\n",
       "      <td>W43X+2H8, Iflissen</td>\n",
       "      <td>48895.38</td>\n",
       "      <td>-23.447690</td>\n",
       "    </tr>\n",
       "    <tr>\n",
       "      <th>3</th>\n",
       "      <td>67250</td>\n",
       "      <td>3.842823</td>\n",
       "      <td>36.537640</td>\n",
       "      <td>foun hakim</td>\n",
       "      <td>ouac centr</td>\n",
       "      <td>FOUNES HAKIM</td>\n",
       "      <td>OUACIF CENTRE</td>\n",
       "      <td>ChIJ959ZiX6ZjRIRtlQrSCmb6Jw</td>\n",
       "      <td>4.296403</td>\n",
       "      <td>36.904278</td>\n",
       "      <td>panoram</td>\n",
       "      <td>n24</td>\n",
       "      <td>Panorama restaurant</td>\n",
       "      <td>N24</td>\n",
       "      <td>57414.22</td>\n",
       "      <td>-27.707110</td>\n",
       "    </tr>\n",
       "    <tr>\n",
       "      <th>4</th>\n",
       "      <td>67250</td>\n",
       "      <td>3.842823</td>\n",
       "      <td>36.537640</td>\n",
       "      <td>foun hakim</td>\n",
       "      <td>ouac centr</td>\n",
       "      <td>FOUNES HAKIM</td>\n",
       "      <td>OUACIF CENTRE</td>\n",
       "      <td>ChIJ____uBJ1jRIRUqOFlI-Qhb0</td>\n",
       "      <td>4.419013</td>\n",
       "      <td>36.903226</td>\n",
       "      <td>azeffoun</td>\n",
       "      <td>port azeffoun</td>\n",
       "      <td>AZEFFOUN</td>\n",
       "      <td>PORT D'AZEFFOUN</td>\n",
       "      <td>65497.29</td>\n",
       "      <td>-31.748645</td>\n",
       "    </tr>\n",
       "    <tr>\n",
       "      <th>...</th>\n",
       "      <td>...</td>\n",
       "      <td>...</td>\n",
       "      <td>...</td>\n",
       "      <td>...</td>\n",
       "      <td>...</td>\n",
       "      <td>...</td>\n",
       "      <td>...</td>\n",
       "      <td>...</td>\n",
       "      <td>...</td>\n",
       "      <td>...</td>\n",
       "      <td>...</td>\n",
       "      <td>...</td>\n",
       "      <td>...</td>\n",
       "      <td>...</td>\n",
       "      <td>...</td>\n",
       "      <td>...</td>\n",
       "    </tr>\n",
       "    <tr>\n",
       "      <th>162157</th>\n",
       "      <td>37757</td>\n",
       "      <td>4.305728</td>\n",
       "      <td>36.574091</td>\n",
       "      <td>sagh youcef</td>\n",
       "      <td>ru colonel amirouch azazg</td>\n",
       "      <td>SAGHI YOUCEF</td>\n",
       "      <td>RUE COLONEL AMIROUCHE AZAZGA</td>\n",
       "      <td>ChIJixfijzxTjBIRVoAQ5_hs4tQ</td>\n",
       "      <td>4.235737</td>\n",
       "      <td>36.497225</td>\n",
       "      <td>git thaletat</td>\n",
       "      <td>f6wp v7x ouac</td>\n",
       "      <td>GÎte Thaletat</td>\n",
       "      <td>F6WP+V7X, Ouacifs</td>\n",
       "      <td>10590.38</td>\n",
       "      <td>-4.295190</td>\n",
       "    </tr>\n",
       "    <tr>\n",
       "      <th>162158</th>\n",
       "      <td>37757</td>\n",
       "      <td>4.305728</td>\n",
       "      <td>36.574091</td>\n",
       "      <td>sagh youcef</td>\n",
       "      <td>ru colonel amirouch azazg</td>\n",
       "      <td>SAGHI YOUCEF</td>\n",
       "      <td>RUE COLONEL AMIROUCHE AZAZGA</td>\n",
       "      <td>ChIJke2BrhlTjBIRnZF3X6sV700</td>\n",
       "      <td>4.246338</td>\n",
       "      <td>36.495591</td>\n",
       "      <td>escal djurdjur</td>\n",
       "      <td>n30 iboudraren</td>\n",
       "      <td>L'escale de djurdjura</td>\n",
       "      <td>N30, Iboudraren</td>\n",
       "      <td>10215.06</td>\n",
       "      <td>-4.107530</td>\n",
       "    </tr>\n",
       "    <tr>\n",
       "      <th>162159</th>\n",
       "      <td>37757</td>\n",
       "      <td>4.305728</td>\n",
       "      <td>36.574091</td>\n",
       "      <td>sagh youcef</td>\n",
       "      <td>ru colonel amirouch azazg</td>\n",
       "      <td>SAGHI YOUCEF</td>\n",
       "      <td>RUE COLONEL AMIROUCHE AZAZGA</td>\n",
       "      <td>ChIJb3QqcNY1jBIRWDeIcll0_kI</td>\n",
       "      <td>3.988154</td>\n",
       "      <td>36.491111</td>\n",
       "      <td>talw</td>\n",
       "      <td>n30b boghn</td>\n",
       "      <td>Restaurant Talwit</td>\n",
       "      <td>N30B, Boghni</td>\n",
       "      <td>29836.86</td>\n",
       "      <td>-13.918430</td>\n",
       "    </tr>\n",
       "    <tr>\n",
       "      <th>162160</th>\n",
       "      <td>37757</td>\n",
       "      <td>4.305728</td>\n",
       "      <td>36.574091</td>\n",
       "      <td>sagh youcef</td>\n",
       "      <td>ru colonel amirouch azazg</td>\n",
       "      <td>SAGHI YOUCEF</td>\n",
       "      <td>RUE COLONEL AMIROUCHE AZAZGA</td>\n",
       "      <td>ChIJd6qc8-ozjBIRPvZBki2vT4U</td>\n",
       "      <td>3.968891</td>\n",
       "      <td>36.476472</td>\n",
       "      <td>cafeteri</td>\n",
       "      <td>fxg9 hhj ait kouf</td>\n",
       "      <td>Caféteria</td>\n",
       "      <td>FXG9+HHJ, Aït Koufi</td>\n",
       "      <td>31995.73</td>\n",
       "      <td>-14.997865</td>\n",
       "    </tr>\n",
       "    <tr>\n",
       "      <th>162161</th>\n",
       "      <td>37757</td>\n",
       "      <td>4.305728</td>\n",
       "      <td>36.574091</td>\n",
       "      <td>sagh youcef</td>\n",
       "      <td>ru colonel amirouch azazg</td>\n",
       "      <td>SAGHI YOUCEF</td>\n",
       "      <td>RUE COLONEL AMIROUCHE AZAZGA</td>\n",
       "      <td>ChIJd6qc8-ozjBIRPvZBki2vT4U</td>\n",
       "      <td>3.968891</td>\n",
       "      <td>36.476472</td>\n",
       "      <td>cafeteri</td>\n",
       "      <td>fxg9 hhj ait kouf</td>\n",
       "      <td>Caféteria</td>\n",
       "      <td>FXG9+HHJ, Aït Koufi</td>\n",
       "      <td>31995.73</td>\n",
       "      <td>-14.997865</td>\n",
       "    </tr>\n",
       "  </tbody>\n",
       "</table>\n",
       "<p>162162 rows × 16 columns</p>\n",
       "</div>"
      ],
      "text/plain": [
       "        L_CUSTOMER_COD  L_LONGITUDE  L_LATITUDE  L_NOM_CLEAN  \\\n",
       "0                67250     3.842823   36.537640   foun hakim   \n",
       "1                67250     3.842823   36.537640   foun hakim   \n",
       "2                67250     3.842823   36.537640   foun hakim   \n",
       "3                67250     3.842823   36.537640   foun hakim   \n",
       "4                67250     3.842823   36.537640   foun hakim   \n",
       "...                ...          ...         ...          ...   \n",
       "162157           37757     4.305728   36.574091  sagh youcef   \n",
       "162158           37757     4.305728   36.574091  sagh youcef   \n",
       "162159           37757     4.305728   36.574091  sagh youcef   \n",
       "162160           37757     4.305728   36.574091  sagh youcef   \n",
       "162161           37757     4.305728   36.574091  sagh youcef   \n",
       "\n",
       "                  L_ADRESSE_CLEAN         L_Nom                     L_Adresse  \\\n",
       "0                      ouac centr  FOUNES HAKIM                 OUACIF CENTRE   \n",
       "1                      ouac centr  FOUNES HAKIM                 OUACIF CENTRE   \n",
       "2                      ouac centr  FOUNES HAKIM                 OUACIF CENTRE   \n",
       "3                      ouac centr  FOUNES HAKIM                 OUACIF CENTRE   \n",
       "4                      ouac centr  FOUNES HAKIM                 OUACIF CENTRE   \n",
       "...                           ...           ...                           ...   \n",
       "162157  ru colonel amirouch azazg  SAGHI YOUCEF  RUE COLONEL AMIROUCHE AZAZGA   \n",
       "162158  ru colonel amirouch azazg  SAGHI YOUCEF  RUE COLONEL AMIROUCHE AZAZGA   \n",
       "162159  ru colonel amirouch azazg  SAGHI YOUCEF  RUE COLONEL AMIROUCHE AZAZGA   \n",
       "162160  ru colonel amirouch azazg  SAGHI YOUCEF  RUE COLONEL AMIROUCHE AZAZGA   \n",
       "162161  ru colonel amirouch azazg  SAGHI YOUCEF  RUE COLONEL AMIROUCHE AZAZGA   \n",
       "\n",
       "                         R_place_id  R_place_longitude  R_place_latitude  \\\n",
       "0       ChIJHc8k6jh1jRIRLWmmBvncSRQ           4.431294         36.910246   \n",
       "1       ChIJHc8k6jh1jRIRLWmmBvncSRQ           4.431294         36.910246   \n",
       "2       ChIJFwvyn6-VjRIRbJk8CtjKvrA           4.148954         36.902533   \n",
       "3       ChIJ959ZiX6ZjRIRtlQrSCmb6Jw           4.296403         36.904278   \n",
       "4       ChIJ____uBJ1jRIRUqOFlI-Qhb0           4.419013         36.903226   \n",
       "...                             ...                ...               ...   \n",
       "162157  ChIJixfijzxTjBIRVoAQ5_hs4tQ           4.235737         36.497225   \n",
       "162158  ChIJke2BrhlTjBIRnZF3X6sV700           4.246338         36.495591   \n",
       "162159  ChIJb3QqcNY1jBIRWDeIcll0_kI           3.988154         36.491111   \n",
       "162160  ChIJd6qc8-ozjBIRPvZBki2vT4U           3.968891         36.476472   \n",
       "162161  ChIJd6qc8-ozjBIRPvZBki2vT4U           3.968891         36.476472   \n",
       "\n",
       "          R_name_CLEAN    R_address_CLEAN           R_place_name  \\\n",
       "0           el gargabi       n24 azeffoun            El Gargabia   \n",
       "1           el gargabi       n24 azeffoun            El Gargabia   \n",
       "2          terr bateau  w43x 2h8 iflissen  La terrasse du bateau   \n",
       "3              panoram                n24    Panorama restaurant   \n",
       "4             azeffoun      port azeffoun               AZEFFOUN   \n",
       "...                ...                ...                    ...   \n",
       "162157    git thaletat      f6wp v7x ouac          GÎte Thaletat   \n",
       "162158  escal djurdjur     n30 iboudraren  L'escale de djurdjura   \n",
       "162159            talw         n30b boghn      Restaurant Talwit   \n",
       "162160        cafeteri  fxg9 hhj ait kouf              Caféteria   \n",
       "162161        cafeteri  fxg9 hhj ait kouf              Caféteria   \n",
       "\n",
       "            R_place_address    dist_m  dist_similarity  \n",
       "0             N24, Azeffoun  66838.15       -32.419075  \n",
       "1             N24, Azeffoun  66838.15       -32.419075  \n",
       "2        W43X+2H8, Iflissen  48895.38       -23.447690  \n",
       "3                       N24  57414.22       -27.707110  \n",
       "4           PORT D'AZEFFOUN  65497.29       -31.748645  \n",
       "...                     ...       ...              ...  \n",
       "162157    F6WP+V7X, Ouacifs  10590.38        -4.295190  \n",
       "162158      N30, Iboudraren  10215.06        -4.107530  \n",
       "162159         N30B, Boghni  29836.86       -13.918430  \n",
       "162160  FXG9+HHJ, Aït Koufi  31995.73       -14.997865  \n",
       "162161  FXG9+HHJ, Aït Koufi  31995.73       -14.997865  \n",
       "\n",
       "[162162 rows x 16 columns]"
      ]
     },
     "execution_count": 43,
     "metadata": {},
     "output_type": "execute_result"
    }
   ],
   "source": [
    "matched\n"
   ]
  },
  {
   "cell_type": "markdown",
   "metadata": {},
   "source": [
    "**addresses and names similarities**"
   ]
  },
  {
   "cell_type": "code",
   "execution_count": 44,
   "metadata": {},
   "outputs": [],
   "source": [
    "matched[\"name_similarity\"]=matched.apply(lambda p:compound_similarity(p,\"L_NOM_CLEAN\",\"R_name_CLEAN\"),axis=1)\n",
    "matched[\"address_similarity\"]=matched.apply(lambda p:compound_similarity(p,\"L_ADRESSE_CLEAN\",\"R_address_CLEAN\"),axis=1)"
   ]
  },
  {
   "cell_type": "markdown",
   "metadata": {},
   "source": [
    "**similarity overall**"
   ]
  },
  {
   "cell_type": "code",
   "execution_count": 45,
   "metadata": {},
   "outputs": [],
   "source": [
    "matched[\"similarity\"]= matched[\"name_similarity\"]*0.15 +  matched[\"dist_similarity\"]*0.8+matched[\"address_similarity\"]*0.05"
   ]
  },
  {
   "cell_type": "markdown",
   "metadata": {},
   "source": [
    "**Rank by Customer ID**"
   ]
  },
  {
   "cell_type": "code",
   "execution_count": 46,
   "metadata": {},
   "outputs": [],
   "source": [
    "matched[\"rank\"]=matched.groupby(by=\"L_CUSTOMER_COD\")[\"similarity\"].rank(\"dense\", ascending=False)"
   ]
  },
  {
   "cell_type": "code",
   "execution_count": 47,
   "metadata": {},
   "outputs": [
    {
     "data": {
      "text/plain": [
       "False    158119\n",
       "True       4043\n",
       "Name: rank, dtype: int64"
      ]
     },
     "execution_count": 47,
     "metadata": {},
     "output_type": "execute_result"
    }
   ],
   "source": [
    "(matched[\"rank\"]<=15).value_counts()"
   ]
  },
  {
   "cell_type": "code",
   "execution_count": 48,
   "metadata": {},
   "outputs": [],
   "source": [
    "matched_filter=matched.loc[matched[\"rank\"]<=15]"
   ]
  },
  {
   "cell_type": "code",
   "execution_count": 49,
   "metadata": {},
   "outputs": [],
   "source": [
    "matched_filter.to_excel(\"C:/Users/Salif SAWADOGO/OneDrive - EQUATORIAL COCA-COLA BOTTLING COMPANY S.L/dynamic segmentation/matching/output/manual_match_google.xlsx\")"
   ]
  },
  {
   "cell_type": "code",
   "execution_count": null,
   "metadata": {},
   "outputs": [],
   "source": [
    "matched.L_CUSTOMER_COD.nunique()"
   ]
  },
  {
   "cell_type": "code",
   "execution_count": null,
   "metadata": {},
   "outputs": [],
   "source": [
    "cmd_golden.CUSTOMER_COD.nunique()"
   ]
  },
  {
   "cell_type": "code",
   "execution_count": null,
   "metadata": {},
   "outputs": [],
   "source": [
    "#Marrakech city shape to filter for\n",
    "tizi_ouzou = gpd.read_file(os.path.join(\"C:/Users/Salif SAWADOGO/OneDrive - EQUATORIAL COCA-COLA BOTTLING COMPANY S.L/dynamic segmentation/urbanicty/Tizi ouzou shapefile\", \"TZ.shp\")) "
   ]
  },
  {
   "cell_type": "code",
   "execution_count": null,
   "metadata": {},
   "outputs": [],
   "source": [
    "sub_set = gpd.sjoin(tizi_ouzou,temp, op=\"intersects\")"
   ]
  },
  {
   "cell_type": "code",
   "execution_count": null,
   "metadata": {},
   "outputs": [],
   "source": [
    "from matplotlib import pyplot as plt\n",
    "fig, ax = plt.subplots(figsize=(10, 10)) \n",
    "sub_set = gpd.sjoin(tizi_ouzou,ta_gdf, op=\"intersects\")\n",
    "sub_set.plot(ax=ax, color='darkred', lw=0.5)\n",
    "tizi_ouzou.geometry.boundary.plot(color=None,edgecolor='k',linewidth = 1,ax=ax) \n",
    "gpd.GeoDataFrame(sub_set, \n",
    "                 geometry=gpd.points_from_xy(sub_set[\"location_lon\"],sub_set[\"location_lat\"]), \n",
    "                 crs=\"epsg:4326\").plot(ax=ax,marker=\"o\",color=\"red\")"
   ]
  },
  {
   "cell_type": "code",
   "execution_count": null,
   "metadata": {},
   "outputs": [],
   "source": [
    "#algeria=gpd.read_file(\"D:dynamic segmentation/algeria census/data/algeria_administrative_level_data/dza_admbnda_adm1_unhcr_20200120.shp\")\n",
    "\n",
    "data_fruital=algeria.set_index(\"ADM1_EN\")\n",
    "\n",
    "fruital=[\"Alger\",'Tizi Ouzou','Boumerdes','Blida','Medea','Tipaza','Bouira',\"Bordj Bou Arrer\",'Ain-Defla','Djelfa','Ghardaia','Laghouat','Tamanrasset',\"M'Sila\",'Chlef','Ouargla']\n",
    "data_fruital=data_fruital.loc[fruital]\n",
    "data_fruital=data_fruital.reset_index()"
   ]
  },
  {
   "cell_type": "code",
   "execution_count": null,
   "metadata": {},
   "outputs": [],
   "source": [
    "from matplotlib import pyplot as plt\n",
    "fig, ax = plt.subplots(figsize=(10, 10)) \n",
    "sub_set = gpd.sjoin(algeria,ta_gdf, op=\"intersects\")\n",
    "sub_set.plot(ax=ax, color='None', lw=0.5)\n",
    "c=data_fruital.plot(column='ADM1_EN',\n",
    "                ax=ax,color=\"darkred\")\n",
    "algeria.geometry.boundary.plot(color=None,edgecolor='k',linewidth = 1,ax=ax) \n",
    "sub_set2=sub_set.merge(temp, how='inner')\n",
    "#gpd.GeoDataFrame(sub_set, \n",
    "#                 geometry=gpd.points_from_xy(sub_set[\"location_lon\"],sub_set[\"location_lat\"]), \n",
    "#                 crs=\"epsg:4326\").plot(ax=ax,marker=\"o\",color=\"red\",column=\"id\")\n",
    "for x, y, label in zip(sub_set2.geometry.centroid.x, sub_set2.geometry.centroid.y, sub_set2[\"count poi horeca\"]):\n",
    "    ax.annotate(label, xy=(x, y), xytext=(1, 1),textcoords=\"offset points\")"
   ]
  },
  {
   "cell_type": "code",
   "execution_count": null,
   "metadata": {},
   "outputs": [],
   "source": [
    "temp=sub_set.groupby(\"ADM1_EN\")['id'].count().\\\n",
    "    reset_index().\\\n",
    "    rename(columns={\"id\":\"count poi horeca\"}).\\\n",
    "    sort_values(by=\"count poi horeca\",ascending=False)"
   ]
  },
  {
   "cell_type": "code",
   "execution_count": null,
   "metadata": {},
   "outputs": [],
   "source": []
  },
  {
   "cell_type": "code",
   "execution_count": null,
   "metadata": {},
   "outputs": [],
   "source": [
    "sub_set"
   ]
  },
  {
   "cell_type": "code",
   "execution_count": null,
   "metadata": {},
   "outputs": [],
   "source": []
  },
  {
   "cell_type": "code",
   "execution_count": null,
   "metadata": {},
   "outputs": [],
   "source": [
    "ta_gdf = gpd.GeoDataFrame(ta, geometry=gpd.points_from_xy(ta[\"location_lon\"], ta[\"location_lat\"]), crs=\"epsg:4326\")"
   ]
  },
  {
   "cell_type": "code",
   "execution_count": null,
   "metadata": {},
   "outputs": [],
   "source": [
    "sub_set.shape"
   ]
  },
  {
   "cell_type": "code",
   "execution_count": null,
   "metadata": {},
   "outputs": [],
   "source": [
    "import pandas\n",
    "data = pandas.read_csv(\"D:/data_quality/data/customer_invoice_tizi_ouzou.csv\")"
   ]
  },
  {
   "cell_type": "code",
   "execution_count": null,
   "metadata": {},
   "outputs": [],
   "source": [
    "data['CHANNEL_CUSTOM'] = data['Détail Canal'].replace(['Frui-ALIMENTATION GE','Frui-SUPERETTE ET LI'], 'AG')\n",
    "data['CHANNEL_CUSTOM'] = data['CHANNEL_CUSTOM'].replace(['Frui-CREMERIE','Frui-RESTAURANT / RO' ,'Frui-CAFE/CAFETERIA/','Frui-NIGHT CLUB','Frui-HOTELS',], 'HORECA')\n",
    "data['CHANNEL_CUSTOM'] = data['CHANNEL_CUSTOM'].replace(['Frui-FAST FOOD / PIZ', 'Frui-PIZZERIA'], 'SNACK')\n",
    "data['CHANNEL_CUSTOM'] = data['CHANNEL_CUSTOM'].replace(['Frui-DOUCHE','Frui-BUREAUX DE TABA','Frui-MOUKASSIRAT',\"Frui-PATISSERIES\",'Frui-FOYER','Frui-CREMERIE',\"Frui-LOISIR\",'Frui-SALLE DES FETES','Frui-MDN',\"Frui-loisir\",\"Frui-ADMINISTRATION\",\"Frui-CYBER CAFE\"], 'OTHER')"
   ]
  },
  {
   "cell_type": "code",
   "execution_count": null,
   "metadata": {},
   "outputs": [],
   "source": [
    "data=data.loc[~data[\"Classification client\"].isin([\"Platinum\",\"Prestigieux\"])]\n",
    "data=data.loc[~data[\"CHANNEL_CUSTOM\"].isin([\"AG\"])]\n",
    "\n",
    "\n",
    "pandas.crosstab(data[\"Classification client\"], data.CHANNEL_CUSTOM, margins=True)"
   ]
  },
  {
   "cell_type": "markdown",
   "metadata": {},
   "source": [
    "## SIMILARITY ANALYSIS   : features importances"
   ]
  }
 ],
 "metadata": {
  "celltoolbar": "Aucun(e)",
  "kernelspec": {
   "display_name": "Python 3 (ipykernel)",
   "language": "python",
   "name": "python3"
  },
  "language_info": {
   "codemirror_mode": {
    "name": "ipython",
    "version": 3
   },
   "file_extension": ".py",
   "mimetype": "text/x-python",
   "name": "python",
   "nbconvert_exporter": "python",
   "pygments_lexer": "ipython3",
   "version": "3.9.7"
  },
  "toc": {
   "base_numbering": 1,
   "nav_menu": {},
   "number_sections": true,
   "sideBar": true,
   "skip_h1_title": false,
   "title_cell": "Table of Contents",
   "title_sidebar": "Contents",
   "toc_cell": false,
   "toc_position": {},
   "toc_section_display": true,
   "toc_window_display": false
  }
 },
 "nbformat": 4,
 "nbformat_minor": 4
}
