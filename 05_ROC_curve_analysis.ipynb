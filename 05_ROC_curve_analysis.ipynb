{
 "cells": [
  {
   "cell_type": "code",
   "execution_count": null,
   "id": "1e8551b6",
   "metadata": {},
   "outputs": [],
   "source": [
    "import numpy as np\n",
    "import pandas as pd\n",
    "import matplotlib.pyplot as plt\n",
    "from sklearn.metrics import roc_curve, auc, confusion_matrix, precision_recall_curve"
   ]
  },
  {
   "cell_type": "code",
   "execution_count": null,
   "id": "48350476",
   "metadata": {},
   "outputs": [],
   "source": [
    "full_set = pd.read_csv(\"/dbfs/mnt/AA/ba008/data_samples/matching/matching_iteration3/matching_iteration3_manual_match.csv\")"
   ]
  },
  {
   "cell_type": "code",
   "execution_count": null,
   "id": "f4127c43",
   "metadata": {},
   "outputs": [],
   "source": [
    "# get the most similar entries but also the ones that are manual matches so that we can learn from their similarity as well\n",
    "training_set = full_set.loc[(full_set[\"match\"] == 1) | (full_set[\"rank\"] == 1), [\"similarity\", \"match\"]]\n",
    "fpr, tpr, thresholds = roc_curve(training_set[\"match\"], training_set[\"similarity\"])\n",
    "roc_auc = auc(fpr, tpr)\n",
    "optimal_thr = thresholds[np.argmin((0-fpr)**2 + (1-tpr)**2)]\n",
    "optimal_tpr = tpr[thresholds==optimal_thr][0]\n",
    "optimal_fpr = fpr[thresholds==optimal_thr][0]"
   ]
  },
  {
   "cell_type": "code",
   "execution_count": null,
   "id": "9b96e1b5",
   "metadata": {},
   "outputs": [],
   "source": [
    "plt.figure()\n",
    "lw = 2\n",
    "plt.plot(fpr, tpr, color='darkorange',\n",
    "         lw=lw, label='ROC curve (area = %0.2f)' % roc_auc)\n",
    "plt.plot([0, 1], [0, 1], color='navy', lw=lw, linestyle='--')\n",
    "plt.scatter(optimal_fpr, optimal_tpr, color=\"red\", lw=lw, label=f\"Opt. similarity threshold: {optimal_thr}\\nOpt. TPR:{round(optimal_tpr, 2)}, Opt. FPR: {round(optimal_fpr, 2)}\")\n",
    "plt.xlim([0.0, 1.0])\n",
    "plt.ylim([0.0, 1.0])\n",
    "plt.xlabel('False Positive Rate')\n",
    "plt.ylabel('True Positive Rate')\n",
    "plt.title('Matching iteration 3 ROC curve')\n",
    "plt.legend(loc=\"lower right\")\n",
    "plt.show()"
   ]
  },
  {
   "cell_type": "code",
   "execution_count": null,
   "id": "7981630e",
   "metadata": {},
   "outputs": [],
   "source": [
    "tn, fp, fn, tp = confusion_matrix(training_set[\"match\"], (training_set[\"similarity\"] >= optimal_thr).astype(int)).ravel()"
   ]
  },
  {
   "cell_type": "code",
   "execution_count": null,
   "id": "b2850f97",
   "metadata": {},
   "outputs": [],
   "source": [
    "tn, fp, fn, tp"
   ]
  },
  {
   "cell_type": "code",
   "execution_count": null,
   "id": "e9daa433",
   "metadata": {},
   "outputs": [],
   "source": [
    "print(\"Accuracy:\", round((tp + tn)/(tp+tn+fp+fn),2))"
   ]
  }
 ],
 "metadata": {
  "kernelspec": {
   "display_name": "Python 3 (ipykernel)",
   "language": "python",
   "name": "python3"
  },
  "language_info": {
   "codemirror_mode": {
    "name": "ipython",
    "version": 3
   },
   "file_extension": ".py",
   "mimetype": "text/x-python",
   "name": "python",
   "nbconvert_exporter": "python",
   "pygments_lexer": "ipython3",
   "version": "3.9.7"
  },
  "toc": {
   "base_numbering": 1,
   "nav_menu": {},
   "number_sections": true,
   "sideBar": true,
   "skip_h1_title": false,
   "title_cell": "Table of Contents",
   "title_sidebar": "Contents",
   "toc_cell": false,
   "toc_position": {},
   "toc_section_display": true,
   "toc_window_display": false
  }
 },
 "nbformat": 4,
 "nbformat_minor": 5
}
