{
 "cells": [
  {
   "cell_type": "markdown",
   "metadata": {},
   "source": [
    "# DATA QUALITY - Fruital census"
   ]
  },
  {
   "cell_type": "markdown",
   "metadata": {},
   "source": [
    "# Library"
   ]
  },
  {
   "cell_type": "code",
   "execution_count": 2,
   "metadata": {},
   "outputs": [],
   "source": [
    "import warnings\n",
    "warnings.filterwarnings('ignore')"
   ]
  },
  {
   "cell_type": "code",
   "execution_count": 3,
   "metadata": {},
   "outputs": [],
   "source": [
    "import pandas as pd\n",
    "import numpy as np\n",
    "from pyspark.sql.functions import pandas_udf\n",
    "from pyspark.sql.functions import udf\n",
    "from typing import List, Dict, Optional, Callable, Union\n",
    "import re\n",
    "import string\n",
    "import pyspark\n",
    "import shapely\n",
    "import pandas as pd\n",
    "import geopandas as gpd\n",
    "import nltk\n",
    "import unidecode\n",
    "from shapely.geometry import Polygon, Point\n",
    "from geopandas import GeoDataFrame\n",
    "import os\n",
    "import fastparquet \n",
    "from nltk import ngrams\n",
    "from ngram import NGram\n",
    "from textdistance import damerau_levenshtein\n",
    "from textdistance import jaro_winkler\n",
    "from textdistance import sorensen_dice\n",
    "from textdistance import jaccard\n",
    "from textdistance import overlap\n",
    "from textdistance import ratcliff_obershelp \n"
   ]
  },
  {
   "cell_type": "markdown",
   "metadata": {},
   "source": [
    "# Data reading :CENSUS"
   ]
  },
  {
   "cell_type": "code",
   "execution_count": 4,
   "metadata": {},
   "outputs": [],
   "source": [
    "var_outlet = [\"notification3\",\"legal_name\",\"phone\",\"email\",\"beverage_exist\",\"license_gazous\",\n",
    "              \"want_apply_licence\",\"coke_brand_sell\",\"coke_sku_buy\",\"barcode_exist\",\"barcode_number\",\"bever_type\",\n",
    "              \"accept_data_sales\",]\n",
    "localisation=[\"adm_paper_exist\",\"sublocality_level_1\",\"locality\", \"administrative_area_level_2\",\"administrative_area_level_1\",\"postal_code\"]\n",
    "\n",
    "sales_colum=[\"winter_cases_gazous_week\",\"winter_sales_gazous_week\",\"summer_cases_gazous_week\",\n",
    "              \"summer_sales_gazous_week\",\"RGB_exist\",\"winter_cases_water_week\",\"winter_sales_water_week\",\n",
    "              \"summer_cases_water_week\",\"summer_sales_water_week\",\"winter_cases_juice_week\",\"winter_sales_juice_week\",\n",
    "              \"summer_cases_juice_week\",\"summer_sales_juice_week\",\"winter_cases_energy_week\",\"winter_sales_energy_week\",\n",
    "              \"summer_cases_energy_week\",\"summer_sales_energy_week\"]\n",
    "\n",
    "\n",
    "var_interviewer= [\"Start_Time\",\"End_Time\",\"Id\",\"Task_ID\",\"Task_title\",\"Task_Location_Coordinates\",\"Task_Location\",\"Task_Tags\",\n",
    "                \"Task_Meta\",\"Collector_ID\",\"First_Name\",\"Dob\",\"Gender\"]\n",
    "\n",
    "before_begin =[\"uid\",\"localisation\",\"notification1\",\"notification2\",\"channel\",\"name\",\"adress\",\"store_pic\",\"open_closed_temp\",\n",
    "              \"participations\", \"name_pic\",\"hours_indication\",\"hours_pic\",\"canopy_exist\",\"canopy_brand\",\"canopy_pict\",\n",
    "              \"cooler_exist\",\"cooler_brand\",\"coke_cooler_number\",\"coke_cooler1_door\",\"coke_cooler2_door\",\"coke_cooler3_door\",\n",
    "              \"coke_cooler4_door\", \"coke_cooler5_door\",\"pepsi_cooler_number\",\"hamoud_cooler_number\",\"other_cooler_number\",\n",
    "              \"rack_exist\",\"rack_pict\"]\n",
    "columns =  var_interviewer+before_begin+var_outlet+sales_colum+localisation\n",
    "path1=\"D:/data_quality/data/algiers.xls\"\n",
    "path2=\"D:/data_quality/data/outside-algiers.xls\"\n",
    "#to import the file , be sure that the module \"xlrd\" is installed\n",
    "df1=pd.read_excel(path1,names=columns)\n",
    "df2=pd.read_excel(path2,names=columns)\n",
    "df=df1.append(df2)\n",
    "\n",
    "pd.options.display.max_rows = 1000\n",
    "pd.options.display.max_columns= 100\n"
   ]
  },
  {
   "cell_type": "code",
   "execution_count": 5,
   "metadata": {},
   "outputs": [],
   "source": [
    "#df.to_excel(r\"D:/data_quality/data/df.xlsx\", index = True)\n",
    "#cmd_matching.to_excel(r\"D:/data_quality/data/cmd_matching.xlsx\", index = True\")"
   ]
  },
  {
   "cell_type": "markdown",
   "metadata": {},
   "source": [
    "**Recoding**"
   ]
  },
  {
   "cell_type": "code",
   "execution_count": 6,
   "metadata": {},
   "outputs": [],
   "source": [
    "regex1 = \"Traditional store: small grocery retailer, usually attended by their owner. It sells basic daily staples like sugar, rice and beans, and packaged foods like dairy products, cleaning & beauty products, beverages and cigarettes.\"\n",
    "regex2 = \"Fast Food restaurant: it has a set menu, which does not change. It can be part of a chain of stores, which share the same menu, name and logo. Pizzerias, fried chicken and burgers are examples of fast-food.\"\n",
    "regex3 = \"Cafe: they serve a wide selection of coffees and teas and light snacks or simple dishes. It usually has a counter with prepared meals and a coffee machine. They have a seating area for clients.\"\n",
    "regex4 = \"Kiosk: small retailers, which primarily sell tobacco, cosmetics, baby diapers or confectionery.\"\n",
    "regex5 = \"Superette: small independent supermarket. Clients can enter the store, select their purchase and pay at a cashier\"\n",
    "regex6 = \"Tea kiosk: small retailers, specialized in selling tea and snacks like nuts and sweets\"\n",
    "regex7 = \"Bakery or patisserie: retailers which specialize in selling bakery or pastry products.\"\n",
    "regex8 =\"Restaurant: serves prepared meals and beverages. It has a daily menu or “a la carte”. It typically has a kitchen area, and a seating area with tables and chairs for consumers.\"                                                       \n",
    "\n",
    "def my_recode(chaines):\n",
    "    if chaines == regex1:\n",
    "        return \"Traditional\"\n",
    "    if chaines == regex2:\n",
    "        return \"Snack\"\n",
    "    if chaines == regex3:\n",
    "        return \"Cafe\"\n",
    "    if chaines == regex4:\n",
    "        return \"Kiosk\"\n",
    "    if chaines == regex5:\n",
    "        return \"Superette\"\n",
    "    if chaines == regex6:\n",
    "        return \"Tea\"\n",
    "    if chaines == regex7:\n",
    "        return \"Patisserie\"\n",
    "    if chaines == regex8:\n",
    "        return \"Restaurant\"\n",
    "df['chaine'] = df['channel'].apply(my_recode)\n",
    "\n",
    "\n",
    "df.replace(\"Médéa Province\",\"Wilaya de Médéa\",inplace=True)\n",
    "df.replace(\"Aïn Defla Province\",\"Wilaya de Aïn Defla\",inplace=True)\n",
    "df.replace(\"Bordj Bou Arréridj Province\",\"Wilaya de Bordj Bou Arréridj\",inplace=True)\n",
    "df.replace(\"Bouïra Province\",\"Wilaya de Bouïra\",inplace=True)\n",
    "df.replace(\"Tizi Ouzou Province\",\"Wilaya de Tizi Ouzou\",inplace=True)\n",
    "df.replace(\"Aïn Defla Province\",\"Wilaya de Aïn Defla\",inplace=True)\n",
    "df.replace(\"Wilaya de Bouira,Wilaya de Bouira\",\"Wilaya de Bouira\",inplace=True)\n",
    "df.replace(\"Wilaya de Bouira,Wilaya de Bouira,Wilaya de Bouira\",\"Wilaya de Bouira\",inplace=True)\n",
    "df.replace(\"Bouira Province\",\"Wilaya de Bouira\",inplace=True)\n",
    "df.replace(\"Djelfa Province\",\"Wilaya de Djelfa\",inplace=True)\n",
    "df.replace(\"Algiers Province\",\"Wilaya d'Alger\",inplace=True)\n",
    "df.replace(\"Blida Province\",\"Wilaya de Blida\",inplace=True)\n",
    "df.replace(\"Boumerdès Province\",\"Wilaya de Boumerdès\",inplace=True)\n",
    "df.replace(\"Tipaza Province\",\"Wilaya de Tipaza\",inplace=True)\n",
    "df[\"administrative_area_level_1\"]=df[\"administrative_area_level_1\"].astype(str)"
   ]
  },
  {
   "cell_type": "code",
   "execution_count": 7,
   "metadata": {},
   "outputs": [],
   "source": [
    "df[\"administrative_area_level_1\"]= df[\"administrative_area_level_1\"].apply(lambda p:  \"Wilaya de Bouïra\" if (\"Bouira\" in p) else p)"
   ]
  },
  {
   "cell_type": "code",
   "execution_count": 8,
   "metadata": {},
   "outputs": [],
   "source": [
    "df[\"administrative_area_level_1\"]= df[\"administrative_area_level_1\"].apply(lambda p:  \"Wilaya de BBA\" if (\"Bordj Bou\" in p) else p)"
   ]
  },
  {
   "cell_type": "code",
   "execution_count": 9,
   "metadata": {},
   "outputs": [],
   "source": [
    "df[\"administrative_area_level_1\"] = df[\"administrative_area_level_1\"].apply(lambda p:  \"Wilaya d'Alger\" if (\"ولاية الجزائر\" in p) else p)"
   ]
  },
  {
   "cell_type": "code",
   "execution_count": 10,
   "metadata": {},
   "outputs": [],
   "source": [
    "df[\"administrative_area_level_1\"] = df[\"administrative_area_level_1\"].apply(lambda p:  \"Wilaya de Aïn Defla\" if (\"ولاية عين الدفلى\" in p) else p)"
   ]
  },
  {
   "cell_type": "code",
   "execution_count": 11,
   "metadata": {},
   "outputs": [
    {
     "data": {
      "text/plain": [
       "Wilaya d'Alger          8195\n",
       "Wilaya de Blida         2163\n",
       "Wilaya de Boumerdès     1867\n",
       "Wilaya de Bouïra        1786\n",
       "Wilaya de Aïn Defla     1664\n",
       "Wilaya de Tizi Ouzou    1305\n",
       "Wilaya de BBA           1160\n",
       "Wilaya de Djelfa        1128\n",
       "Wilaya de Tipaza        1091\n",
       "Wilaya de Médéa          331\n",
       "nan                       66\n",
       "Name: administrative_area_level_1, dtype: int64"
      ]
     },
     "execution_count": 11,
     "metadata": {},
     "output_type": "execute_result"
    }
   ],
   "source": [
    "df.administrative_area_level_1.value_counts()"
   ]
  },
  {
   "cell_type": "code",
   "execution_count": 12,
   "metadata": {},
   "outputs": [],
   "source": [
    "df.replace(\"wave:wave_1, city:algiers\",\"Wilaya d'Alger\",inplace=True)"
   ]
  },
  {
   "cell_type": "code",
   "execution_count": 13,
   "metadata": {},
   "outputs": [],
   "source": [
    "def nanlocation(row):\n",
    "    if row[\"administrative_area_level_1\"]==\"nan\":\n",
    "        if \"Alg\" in  row[\"Task_Location\"] :\n",
    "            row[\"administrative_area_level_1\"]= \"Wilaya d'Alger\"   \n",
    "        elif (\"boumerdes\" in row[\"Task_Location\"] ):\n",
    "                    row[\"administrative_area_level_1\"]= \"Wilaya de Bourmerdès\"\n",
    "        elif \"djelfa\" in row[\"Task_Location\"] :\n",
    "                        row[\"administrative_area_level_1\"]= \"Wilaya de Djelfa\"\n",
    "        elif \"defla\" in row[\"Task_Location\"] :\n",
    "                            row[\"administrative_area_level_1\"]= \"Wilaya de Aïn Defla\"\n",
    "        elif \"tipaza\" in row[\"Task_Location\"] :\n",
    "                                row[\"administrative_area_level_1\"]= \"Wilaya de Tipaza\"\n",
    "        elif \"blida\" in row[\"Task_Location\"] :\n",
    "                                    row[\"administrative_area_level_1\"]= \"Wilaya de Blida\"\n",
    "        else :\n",
    "                                         row[\"administrative_area_level_1\"]= \"Wilaya de Tizi Ouzou\"\n",
    "    else :\n",
    "        row[\"administrative_area_level_1\"]=row[\"administrative_area_level_1\"]\n",
    "    return row\n",
    "df=df.apply(lambda p:nanlocation(p),axis=1)"
   ]
  },
  {
   "cell_type": "code",
   "execution_count": 14,
   "metadata": {},
   "outputs": [
    {
     "data": {
      "text/plain": [
       "Wilaya d'Alger          8199\n",
       "Wilaya de Blida         2163\n",
       "Wilaya de Boumerdès     1867\n",
       "Wilaya de Bouïra        1786\n",
       "Wilaya de Aïn Defla     1664\n",
       "Wilaya de Tizi Ouzou    1367\n",
       "Wilaya de BBA           1160\n",
       "Wilaya de Djelfa        1128\n",
       "Wilaya de Tipaza        1091\n",
       "Wilaya de Médéa          331\n",
       "Name: administrative_area_level_1, dtype: int64"
      ]
     },
     "execution_count": 14,
     "metadata": {},
     "output_type": "execute_result"
    }
   ],
   "source": [
    "df.administrative_area_level_1.value_counts()"
   ]
  },
  {
   "cell_type": "code",
   "execution_count": 15,
   "metadata": {},
   "outputs": [
    {
     "data": {
      "text/plain": [
       "20756"
      ]
     },
     "execution_count": 15,
     "metadata": {},
     "output_type": "execute_result"
    }
   ],
   "source": [
    "df['Id'].nunique()"
   ]
  },
  {
   "cell_type": "code",
   "execution_count": 16,
   "metadata": {
    "scrolled": true
   },
   "outputs": [
    {
     "data": {
      "text/plain": [
       "0       petit prince\n",
       "1       super market\n",
       "2    Le petit yacine\n",
       "3       Ghoul khaled\n",
       "4         Mont froid\n",
       "Name: legal_name, dtype: object"
      ]
     },
     "execution_count": 16,
     "metadata": {},
     "output_type": "execute_result"
    }
   ],
   "source": [
    "df.legal_name.head()"
   ]
  },
  {
   "cell_type": "code",
   "execution_count": 17,
   "metadata": {},
   "outputs": [],
   "source": [
    "df[var_interviewer]=df[var_interviewer].astype(str)\n",
    "df[localisation]=df[localisation].astype(str)\n",
    "df[before_begin]=df[before_begin].astype(str)\n",
    "df[var_outlet]=df[var_outlet].astype(str)\n",
    "df['RGB_exist']=df['RGB_exist'].astype(str)\n",
    "\n",
    "df=df.rename(columns = {'barcode_number': 'Client_c'})\n",
    "df['Client_c']=df['Client_c'].astype(str)\n"
   ]
  },
  {
   "cell_type": "markdown",
   "metadata": {},
   "source": [
    "# Matching preparation functions"
   ]
  },
  {
   "cell_type": "markdown",
   "metadata": {},
   "source": [
    "**function toools**"
   ]
  },
  {
   "cell_type": "code",
   "execution_count": 18,
   "metadata": {},
   "outputs": [],
   "source": [
    "def function_vectorizer(input_function: Callable) -> Callable:\n",
    "    \"\"\"This function takes an input funcion that works with arbitrary input\n",
    "    and vectorizes it so that the input function is applied to iterables\n",
    "    (such as columns of a Spark DataFrame).\n",
    "    The ouptut is always going to be pandas Series to ensure compliance\n",
    "    with Spark DataFrames.\n",
    "    \n",
    "    Arguments:\n",
    "        input_function {Callable} -- The input function.\n",
    "    \n",
    "    Returns:\n",
    "        Callable -- The function vectorized (i.e. acting on each element of an\n",
    "        iterable).\n",
    "    \"\"\"\n",
    " \n",
    "    def vectorized_function(*args):\n",
    "        return pd.Series([input_function(*tup) for tup in zip(*args)])\n",
    "    \n",
    "    return vectorized_function\n"
   ]
  },
  {
   "cell_type": "markdown",
   "metadata": {},
   "source": [
    "**Test processing**"
   ]
  },
  {
   "cell_type": "code",
   "execution_count": 19,
   "metadata": {},
   "outputs": [],
   "source": [
    "name_column_blacklist = [\"cafe\", \"cf\", \"restaurant\", \"estaurant\", \"rest\", \"ag\", \"ste\", \"café\", \"snack\", \"hotel\", \"sarl\", \"rotisserie\", \"marrakech\"]\n",
    "name_column_regex_replace = {r\"\\'\": \"\", r\"\\d{5}\": \"\", r\"\\s+\": \" \"}\n",
    "address_column_blacklist = []\n",
    "address_column_regex_replace = {r\"\\'\": \"\", r\"\\s+\": \" \", \"avenu \": \"av \", \"boulevard \": \"bd \"}"
   ]
  },
  {
   "cell_type": "code",
   "execution_count": 20,
   "metadata": {},
   "outputs": [
    {
     "name": "stderr",
     "output_type": "stream",
     "text": [
      "[nltk_data] Downloading package punkt to C:\\Users\\Salif\n",
      "[nltk_data]     SAWADOGO\\AppData\\Roaming\\nltk_data...\n",
      "[nltk_data]   Package punkt is already up-to-date!\n",
      "[nltk_data] Downloading package stopwords to C:\\Users\\Salif\n",
      "[nltk_data]     SAWADOGO\\AppData\\Roaming\\nltk_data...\n",
      "[nltk_data]   Package stopwords is already up-to-date!\n"
     ]
    }
   ],
   "source": [
    "# Snowball stemmer was chosen in favor of Porter Stemmer which is a bit more aggressive and tends to remove too much from a word\n",
    "import nltk\n",
    "from nltk.stem.snowball import SnowballStemmer\n",
    "from nltk.tokenize import word_tokenize\n",
    "from nltk.corpus import stopwords\n",
    "nltk.download(\"punkt\")\n",
    "nltk.download(\"stopwords\")\n",
    " \n",
    "# unidecode is the library needed for ASCII folding\n",
    "from unidecode import unidecode\n",
    "import string\n",
    "# Compact Language Detector v3 is a very fast and performant algorithm by Google for language detection: more info here: https://pypi.org/project/pycld3/\n",
    "import re\n",
    " \n",
    "import pyspark.sql.functions as F\n",
    "from typing import List, Dict, Optional, Callable\n"
   ]
  },
  {
   "cell_type": "code",
   "execution_count": 21,
   "metadata": {},
   "outputs": [],
   "source": [
    "name_column_blacklist = [\"cafe\", \"cf\", \"restaurant\", \"estaurant\", \"rest\", \"ag\", \"ste\", \"café\", \"snack\", \"hotel\", \"sarl\", \"rotisserie\", \"marrakech\"]\n",
    "name_column_regex_replace = {r\"\\'\": \"\", r\"\\d{5}\": \"\", r\"\\s+\": \" \"}\n",
    "address_column_blacklist = []\n",
    "address_column_regex_replace = {r\"\\'\": \"\", r\"\\s+\": \" \", \"avenu \": \"av \", \"boulevard \": \"bd \"} \n",
    "def make_text_prep_func(row, word_blacklist, regex_replace, colonne) :\n",
    "    try:\n",
    "      STOPWORDS_EN = stopwords.words(\"english\")\n",
    "      STOPWORDS_FR = stopwords.words(\"french\")\n",
    "      STEMMER_EN = SnowballStemmer(language='english')\n",
    "      STEMMER_FR = SnowballStemmer(language='french')\n",
    "    except:\n",
    "      nltk.download(\"punkt\")\n",
    "      nltk.download(\"stopwords\")\n",
    "      STOPWORDS_EN = stopwords.words(\"english\")\n",
    "      STOPWORDS_FR = stopwords.words(\"french\")\n",
    "      STEMMER_EN = SnowballStemmer(language='english')\n",
    "      STEMMER_FR = SnowballStemmer(language='french')\n",
    "    s=row[colonne]\n",
    " \n",
    "    if s is None or s==\"\":\n",
    "       return \"\"\n",
    "#     STOPWORDS_EN = ['i', 'me', 'my', 'myself', 'we', 'our', 'ours', 'ourselves', 'you', \"you're\", \"you've\", \"you'll\", \"you'd\", 'your', 'yours', 'yourself', 'yourselves', 'he', 'him', 'his', 'himself', 'she', \"she's\", 'her', 'hers', 'herself', 'it', \"it's\", 'its', 'itself', 'they', 'them', 'their', 'theirs', 'themselves', 'what', 'which', 'who', 'whom', 'this', 'that', \"that'll\", 'these', 'those', 'am', 'is', 'are', 'was', 'were', 'be', 'been', 'being', 'have', 'has', 'had', 'having', 'do', 'does', 'did', 'doing', 'a', 'an', 'the', 'and', 'but', 'if', 'or', 'because', 'as', 'until', 'while', 'of', 'at', 'by', 'for', 'with', 'about', 'against', 'between', 'into', 'through', 'during', 'before', 'after', 'above', 'below', 'to', 'from', 'up', 'down', 'in', 'out', 'on', 'off', 'over', 'under', 'again', 'further', 'then', 'once', 'here', 'there', 'when', 'where', 'why', 'how', 'all', 'any', 'both', 'each', 'few', 'more', 'most', 'other', 'some', 'such', 'no', 'nor', 'not', 'only', 'own', 'same', 'so', 'than', 'too', 'very', 's', 't', 'can', 'will', 'just', 'don', \"don't\", 'should', \"should've\", 'now', 'd', 'll', 'm', 'o', 're', 've', 'y', 'ain', 'aren', \"aren't\", 'couldn', \"couldn't\", 'didn', \"didn't\", 'doesn', \"doesn't\", 'hadn', \"hadn't\", 'hasn', \"hasn't\", 'haven', \"haven't\", 'isn', \"isn't\", 'ma', 'mightn', \"mightn't\", 'mustn', \"mustn't\", 'needn', \"needn't\", 'shan', \"shan't\", 'shouldn', \"shouldn't\", 'wasn', \"wasn't\", 'weren', \"weren't\", 'won', \"won't\", 'wouldn', \"wouldn't\"]\n",
    "#     STOPWORDS_FR = ['au', 'aux', 'avec', 'ce', 'ces', 'dans', 'de', 'des', 'du', 'elle', 'en', 'et', 'eux', 'il', 'ils', 'je', 'la', 'le', 'les', 'leur', 'lui', 'ma', 'mais', 'me', 'même', 'mes', 'moi', 'mon', 'ne', 'nos', 'notre', 'nous', 'on', 'ou', 'par', 'pas', 'pour', 'qu', 'que', 'qui', 'sa', 'se', 'ses', 'son', 'sur', 'ta', 'te', 'tes', 'toi', 'ton', 'tu', 'un', 'une', 'vos', 'votre', 'vous', 'c', 'd', 'j', 'l', 'à', 'm', 'n', 's', 't', 'y', 'été', 'étée', 'étées', 'étés', 'étant', 'étante', 'étants', 'étantes', 'suis', 'es', 'est', 'sommes', 'êtes', 'sont', 'serai', 'seras', 'sera', 'serons', 'serez', 'seront', 'serais', 'serait', 'serions', 'seriez', 'seraient', 'étais', 'était', 'étions', 'étiez', 'étaient', 'fus', 'fut', 'fûmes', 'fûtes', 'furent', 'sois', 'soit', 'soyons', 'soyez', 'soient', 'fusse', 'fusses', 'fût', 'fussions', 'fussiez', 'fussent', 'ayant', 'ayante', 'ayantes', 'ayants', 'eu', 'eue', 'eues', 'eus', 'ai', 'as', 'avons', 'avez', 'ont', 'aurai', 'auras', 'aura', 'aurons', 'aurez', 'auront', 'aurais', 'aurait', 'aurions', 'auriez', 'auraient', 'avais', 'avait', 'avions', 'aviez', 'avaient', 'eut', 'eûmes', 'eûtes', 'eurent', 'aie', 'aies', 'ait', 'ayons', 'ayez', 'aient', 'eusse', 'eusses', 'eût', 'eussions', 'eussiez', 'eussent']\n",
    "    stop_words = STOPWORDS_EN + word_blacklist\n",
    "    stemmer = STEMMER_EN\n",
    "    s = s.lower()\n",
    " \n",
    "    \n",
    "    stop_words = STOPWORDS_FR + word_blacklist\n",
    "    stemmer = STEMMER_FR\n",
    "    s_clean = s.translate(str.maketrans(string.punctuation, ' ' * len(string.punctuation)))\n",
    "    s_tokens = word_tokenize(s_clean)\n",
    "    s_tokens_no_stop = [word for word in s_tokens if word not in stop_words]\n",
    "    s_tokens_stemmed = [stemmer.stem(word) for word in s_tokens_no_stop]\n",
    "    s_ascii = unidecode(\" \".join(s_tokens_stemmed))\n",
    "    \n",
    "    for regex, replace in regex_replace.items():\n",
    "      s_ascii = re.sub(regex, replace, s_ascii)\n",
    "    return(s_ascii.strip())\n",
    "  \n"
   ]
  },
  {
   "cell_type": "code",
   "execution_count": 22,
   "metadata": {},
   "outputs": [
    {
     "data": {
      "text/plain": [
       "[]"
      ]
     },
     "execution_count": 22,
     "metadata": {},
     "output_type": "execute_result"
    }
   ],
   "source": [
    "address_column_blacklist"
   ]
  },
  {
   "cell_type": "markdown",
   "metadata": {},
   "source": [
    "**geospatial function**"
   ]
  },
  {
   "cell_type": "code",
   "execution_count": 23,
   "metadata": {},
   "outputs": [],
   "source": [
    "def haversine_distance(row):\n",
    "\n",
    "    longit_a=row.R_long_c\n",
    "    latit_a=row.R_lat_c\n",
    "    longit_b=row.L_long_cmd\n",
    "    latit_b=row.L_lat_cmd\n",
    "    # Transform to radians\n",
    "    longit_a, latit_a, longit_b, latit_b = map(np.radians, [longit_a,  latit_a, longit_b, latit_b])\n",
    "    dist_longit = longit_b - longit_a\n",
    "    dist_latit = latit_b - latit_a\n",
    "    # Calculate area\n",
    "    area = np.sin(dist_latit/2)**2 + np.cos(latit_a) * np.cos(latit_b) * np.sin(dist_longit/2)**2\n",
    "    # Calculate the central angle\n",
    "    central_angle = 2 * np.arcsin(np.sqrt(area))\n",
    "    #   central_angle = 2 * np.arctan2(np.sqrt(area), np.sqrt(1-area))\n",
    "    radius = 6371000\n",
    "    # Calculate Distance\n",
    "    distance = central_angle * radius\n",
    "    return abs(round(distance, 2))\n",
    "  \n",
    "# haversine_distance_sdf = F.pandas_udf(function_vectorizer(haversine_distance),\"double\")"
   ]
  },
  {
   "cell_type": "code",
   "execution_count": 24,
   "metadata": {},
   "outputs": [],
   "source": [
    "def haversine_distance(row):\n",
    "\n",
    "    longit_a=row.R_long_c\n",
    "    latit_a=row.R_lat_c\n",
    "    longit_b=row.L_long_cmd\n",
    "    latit_b=row.L_lat_cmd\n",
    "    # Transform to radians\n",
    "    longit_a, latit_a, longit_b, latit_b = map(np.radians, [longit_a,  latit_a, longit_b, latit_b])\n",
    "    dist_longit = longit_b - longit_a\n",
    "    dist_latit = latit_b - latit_a\n",
    "    # Calculate area\n",
    "    area = np.sin(dist_latit/2)**2 + np.cos(latit_a) * np.cos(latit_b) * np.sin(dist_longit/2)**2\n",
    "    # Calculate the central angle\n",
    "    central_angle = 2 * np.arcsin(np.sqrt(area))\n",
    "    #   central_angle = 2 * np.arctan2(np.sqrt(area), np.sqrt(1-area))\n",
    "    radius = 6371000\n",
    "    # Calculate Distance\n",
    "    distance = central_angle * radius\n",
    "    return abs(round(distance, 2))\n",
    "  "
   ]
  },
  {
   "cell_type": "markdown",
   "metadata": {},
   "source": [
    "**test similaity**"
   ]
  },
  {
   "cell_type": "code",
   "execution_count": 25,
   "metadata": {},
   "outputs": [],
   "source": [
    "# def compound_similarity(s1: str, s2: str) -> float :\n",
    "def compound_similarity(row,col1,col2):\n",
    "    s1 = row[col1]\n",
    "    s2 = row[col2]\n",
    "    if s1 is None:\n",
    "        s1 = \"\"\n",
    "    if s2 is None:\n",
    "        s2 = \"\"\n",
    "    if s1 == \"\" and s2 == \"\":\n",
    "        return 0.\n",
    "    scores = [\n",
    "                 damerau_levenshtein.normalized_similarity(s1, s2),\n",
    "                 jaro_winkler.normalized_similarity(s1, s2),\n",
    "                 sorensen_dice.normalized_similarity(s1, s2),\n",
    "                 jaccard.normalized_similarity(s1, s2),\n",
    "                 overlap.normalized_similarity(s1, s2),\n",
    "                 ratcliff_obershelp.normalized_similarity(s1, s2),\n",
    "                 NGram.compare(s1, s2, N=2)\n",
    "             ]\n",
    "    return np.mean(scores)"
   ]
  },
  {
   "cell_type": "markdown",
   "metadata": {},
   "source": [
    "# TIZI OUZOU census data prep"
   ]
  },
  {
   "cell_type": "code",
   "execution_count": 26,
   "metadata": {},
   "outputs": [
    {
     "data": {
      "text/plain": [
       "0        0.108232\n",
       "1        0.000000\n",
       "2        0.354432\n",
       "3        1.000000\n",
       "4        0.257670\n",
       "           ...   \n",
       "12364    0.000000\n",
       "12365    0.000000\n",
       "12366    0.000000\n",
       "12367    0.000000\n",
       "12368    0.000000\n",
       "Length: 20756, dtype: float64"
      ]
     },
     "execution_count": 26,
     "metadata": {},
     "output_type": "execute_result"
    }
   ],
   "source": [
    " df.apply(lambda p:compound_similarity(p,\"name\",\"adress\"),axis=1)"
   ]
  },
  {
   "cell_type": "code",
   "execution_count": 27,
   "metadata": {
    "scrolled": true
   },
   "outputs": [
    {
     "data": {
      "text/plain": [
       "<bound method NDFrame.head of 0        POINT (2.9159386 36.7599847)\n",
       "1        POINT (2.9162742 36.7602664)\n",
       "2        POINT (3.0492059 36.7096743)\n",
       "3        POINT (3.0480573 36.7102392)\n",
       "4        POINT (3.0608457 36.7128262)\n",
       "                     ...             \n",
       "12364    POINT (3.6813984 36.5354416)\n",
       "12365    POINT (3.6814171 36.5354474)\n",
       "12366    POINT (3.6813876 36.5361546)\n",
       "12367    POINT (3.6807181 36.5363611)\n",
       "12368    POINT (3.6810584 36.5354708)\n",
       "Name: localisation, Length: 20756, dtype: object>"
      ]
     },
     "execution_count": 27,
     "metadata": {},
     "output_type": "execute_result"
    }
   ],
   "source": [
    "df['localisation'].head"
   ]
  },
  {
   "cell_type": "markdown",
   "metadata": {},
   "source": [
    "**Split coordinates into columnn lattitude and longitude**"
   ]
  },
  {
   "cell_type": "code",
   "execution_count": 28,
   "metadata": {},
   "outputs": [],
   "source": [
    "df[['Point','long_c','lat_c']] = df.localisation.str.split(\" \",expand=True)"
   ]
  },
  {
   "cell_type": "code",
   "execution_count": 29,
   "metadata": {},
   "outputs": [],
   "source": [
    "df['long_c']=df['long_c'].str.replace(r\"\\(\",\"\")\n",
    "df['lat_c']=df['lat_c'].str.replace(r\"\\)\",\"\")"
   ]
  },
  {
   "cell_type": "code",
   "execution_count": 30,
   "metadata": {},
   "outputs": [],
   "source": [
    "df['long_c']=df['long_c'].astype(float)\n",
    "df['lat_c']=df['lat_c'].astype(float)\n",
    "df['chaine']=df['chaine'].astype(str)"
   ]
  },
  {
   "cell_type": "code",
   "execution_count": 31,
   "metadata": {},
   "outputs": [],
   "source": [
    "df=df[df.duplicated(subset=['Client_c'],keep=False)==False]"
   ]
  },
  {
   "cell_type": "code",
   "execution_count": 32,
   "metadata": {},
   "outputs": [],
   "source": [
    "df_census=df[['Id','adress','legal_name','long_c','lat_c','Client_c','locality','chaine','administrative_area_level_1']]"
   ]
  },
  {
   "cell_type": "code",
   "execution_count": 33,
   "metadata": {},
   "outputs": [],
   "source": [
    "df_census_with_code=df_census"
   ]
  },
  {
   "cell_type": "code",
   "execution_count": 34,
   "metadata": {},
   "outputs": [],
   "source": [
    "df_census_with_code['administrative_area_level_1']=df_census_with_code['administrative_area_level_1'].str.replace(\" \",\"_\")\n",
    "df_census_with_code['administrative_area_level_1']=df_census_with_code['administrative_area_level_1'].str.replace(\"d'\",\"\")\n",
    "df_census_with_code['administrative_area_level_1']=df_census_with_code['administrative_area_level_1'].str.replace(\"_de_\",\"_\")"
   ]
  },
  {
   "cell_type": "code",
   "execution_count": 35,
   "metadata": {},
   "outputs": [
    {
     "data": {
      "text/plain": [
       "['Wilaya_Alger',\n",
       " 'Wilaya_Boumerdès',\n",
       " 'Wilaya_Blida',\n",
       " 'Wilaya_Aïn_Defla',\n",
       " 'Wilaya_Bouïra',\n",
       " 'Wilaya_Tizi_Ouzou',\n",
       " 'Wilaya_Tipaza',\n",
       " 'Wilaya_BBA',\n",
       " 'Wilaya_Médéa',\n",
       " 'Wilaya_Djelfa']"
      ]
     },
     "execution_count": 35,
     "metadata": {},
     "output_type": "execute_result"
    }
   ],
   "source": [
    "wilaya_label=df_census_with_code.administrative_area_level_1.value_counts().reset_index()\n",
    "wilaya_label=wilaya_label[\"index\"]\n",
    "wilaya_label=wilaya_label.tolist()\n",
    "wilaya_label"
   ]
  },
  {
   "cell_type": "code",
   "execution_count": 36,
   "metadata": {},
   "outputs": [],
   "source": [
    "wilaya_label.sort(reverse=True)"
   ]
  },
  {
   "cell_type": "code",
   "execution_count": 37,
   "metadata": {},
   "outputs": [],
   "source": [
    "df_census_with_code[\"lat_c\"]=df_census_with_code[\"lat_c\"].astype(float)\n",
    "df_census_with_code[\"long_c\"]=df_census_with_code[\"long_c\"].astype(float)"
   ]
  },
  {
   "cell_type": "code",
   "execution_count": 38,
   "metadata": {},
   "outputs": [],
   "source": [
    "base_wilaya_census=[ df_census_with_code[df_census_with_code.administrative_area_level_1==i] for i in wilaya_label]"
   ]
  },
  {
   "cell_type": "markdown",
   "metadata": {},
   "source": [
    "## Read CMD data and construct tizi ouzou cmd"
   ]
  },
  {
   "cell_type": "code",
   "execution_count": 39,
   "metadata": {
    "scrolled": true
   },
   "outputs": [],
   "source": [
    "path=\"C:/Users/Salif SAWADOGO/OneDrive - EQUATORIAL COCA-COLA BOTTLING COMPANY S.L/dynamic segmentation/algeria census/data/BDD G 26.04.2021.XLSX\"\n",
    "cmd=pd.read_excel(path)"
   ]
  },
  {
   "cell_type": "code",
   "execution_count": 40,
   "metadata": {},
   "outputs": [],
   "source": [
    "cmd.Longitude=cmd.Longitude.astype(float)\n",
    "cmd.Latitude=cmd.Latitude.astype(float)"
   ]
  },
  {
   "cell_type": "code",
   "execution_count": 41,
   "metadata": {},
   "outputs": [],
   "source": [
    "cmd = gpd.GeoDataFrame(cmd, geometry=gpd.points_from_xy(cmd.Longitude, cmd.Latitude),crs=\"EPSG:3857\")"
   ]
  },
  {
   "cell_type": "code",
   "execution_count": 42,
   "metadata": {},
   "outputs": [],
   "source": [
    "cmd['Longitude'] = cmd.geometry.x\n",
    "cmd['Latitude'] = cmd.geometry.y"
   ]
  },
  {
   "cell_type": "code",
   "execution_count": 43,
   "metadata": {},
   "outputs": [],
   "source": [
    "cmd=cmd.rename(columns = {'Longitude': 'long_cmd'})\n",
    "cmd=cmd.rename(columns = {'Latitude': 'lat_cmd'})\n",
    "cmd[\"lat_cmd\"]=cmd[\"lat_cmd\"].astype(float)\n",
    "cmd[\"long_cmd\"]=cmd[\"long_cmd\"].astype(float)"
   ]
  },
  {
   "cell_type": "code",
   "execution_count": 44,
   "metadata": {},
   "outputs": [
    {
     "data": {
      "text/plain": [
       "64534"
      ]
     },
     "execution_count": 44,
     "metadata": {},
     "output_type": "execute_result"
    }
   ],
   "source": [
    "cmd['Client'].count()"
   ]
  },
  {
   "cell_type": "code",
   "execution_count": 45,
   "metadata": {},
   "outputs": [
    {
     "data": {
      "text/plain": [
       "63234"
      ]
     },
     "execution_count": 45,
     "metadata": {},
     "output_type": "execute_result"
    }
   ],
   "source": [
    "cmd['Nom'].nunique()"
   ]
  },
  {
   "cell_type": "code",
   "execution_count": 46,
   "metadata": {},
   "outputs": [
    {
     "data": {
      "text/plain": [
       "0"
      ]
     },
     "execution_count": 46,
     "metadata": {},
     "output_type": "execute_result"
    }
   ],
   "source": [
    "cmd['Nom'].isna().sum()"
   ]
  },
  {
   "cell_type": "code",
   "execution_count": 47,
   "metadata": {},
   "outputs": [
    {
     "data": {
      "text/plain": [
       "(1301, 79)"
      ]
     },
     "execution_count": 47,
     "metadata": {},
     "output_type": "execute_result"
    }
   ],
   "source": [
    "# investigate duplicated customers\n",
    "repeated_customers = cmd[cmd.duplicated(subset=['Nom'])].sort_values(by=['Nom'])   \n",
    "repeated_customers.shape"
   ]
  },
  {
   "cell_type": "markdown",
   "metadata": {},
   "source": [
    "**wilaya coding**"
   ]
  },
  {
   "cell_type": "code",
   "execution_count": 48,
   "metadata": {},
   "outputs": [],
   "source": [
    "cmd[\"Localité\"] = cmd[\"Localité\"].apply(lambda p:  \"TIZI OUZOU\" if (\"TIZI\" in p.upper() and \"OUZOU\" in p.upper()) else p)"
   ]
  },
  {
   "cell_type": "code",
   "execution_count": 49,
   "metadata": {},
   "outputs": [],
   "source": [
    "cmd[\"wilayat_code\"] = cmd.Commune.apply(lambda p:p.split(\"-\")[0])"
   ]
  },
  {
   "cell_type": "code",
   "execution_count": 50,
   "metadata": {},
   "outputs": [
    {
     "data": {
      "text/plain": [
       "16        25340\n",
       "15         7677\n",
       "35         6359\n",
       "09         5780\n",
       "42         3771\n",
       "10         3164\n",
       "26         2734\n",
       "44         2646\n",
       "34         2630\n",
       "Autre      1875\n",
       "17         1049\n",
       "47          878\n",
       "03          352\n",
       "11          253\n",
       "28            9\n",
       "02            7\n",
       "BBA2          5\n",
       "BBA           4\n",
       "30            1\n",
       "Larbaa        1\n",
       "Name: wilayat_code, dtype: int64"
      ]
     },
     "execution_count": 50,
     "metadata": {},
     "output_type": "execute_result"
    }
   ],
   "source": [
    "cmd_autre=cmd.loc[cmd[\"wilayat_code\"]==\"Autre\"]\n",
    "cmd[\"wilayat_code\"].value_counts()"
   ]
  },
  {
   "cell_type": "code",
   "execution_count": 51,
   "metadata": {},
   "outputs": [
    {
     "data": {
      "text/plain": [
       "False    1875\n",
       "Name: Zone, dtype: int64"
      ]
     },
     "execution_count": 51,
     "metadata": {},
     "output_type": "execute_result"
    }
   ],
   "source": [
    "cmd_autre=cmd.loc[cmd[\"wilayat_code\"]==\"Autre\"]\n",
    "(cmd_autre[\"Zone\"]==\"TIZI OUZOU\").value_counts()\n",
    "#okay no autre for tizi ouzou"
   ]
  },
  {
   "cell_type": "code",
   "execution_count": 52,
   "metadata": {},
   "outputs": [],
   "source": [
    "#CODE MANAUALLY"
   ]
  },
  {
   "cell_type": "code",
   "execution_count": 53,
   "metadata": {},
   "outputs": [],
   "source": [
    "def autre_wilayat(row):\n",
    "    if row['wilayat_code']=='Autre':\n",
    "        \n",
    "       row['wilayat_code']=row['Localité']\n",
    "    return row"
   ]
  },
  {
   "cell_type": "code",
   "execution_count": 54,
   "metadata": {},
   "outputs": [],
   "source": [
    "def autre_prestigieux(row):\n",
    "    if row['wilayat_code']=='PRESTIGIEUX' :\n",
    "       row['wilayat_code']=  row['Localité']\n",
    "    return row"
   ]
  },
  {
   "cell_type": "code",
   "execution_count": 55,
   "metadata": {},
   "outputs": [],
   "source": [
    "cmd= cmd.apply(autre_wilayat, axis=1)\n",
    "cmd= cmd.apply(autre_prestigieux, axis=1)\n",
    "cmd['wilayat_code']=cmd['wilayat_code'].str.replace(\"BLIDA\",\"9\")\n",
    "cmd['wilayat_code']=cmd['wilayat_code'].str.replace(\"ZERALDA\",\"16\")\n",
    "cmd['wilayat_code'] = cmd['wilayat_code'].apply(lambda p:  \"34\" if (\"BBA\" in p.upper()) else p)"
   ]
  },
  {
   "cell_type": "code",
   "execution_count": 56,
   "metadata": {},
   "outputs": [
    {
     "data": {
      "text/plain": [
       "16                              25340\n",
       "15                               7677\n",
       "35                               6359\n",
       "09                               5780\n",
       "42                               3771\n",
       "10                               3164\n",
       "34                               2986\n",
       "26                               2734\n",
       "44                               2646\n",
       "ALGER                            1383\n",
       "17                               1049\n",
       "47                                878\n",
       "03                                352\n",
       "11                                253\n",
       "MEDEA                              64\n",
       "médéa                              26\n",
       "28                                  9\n",
       "02                                  7\n",
       "medea                               6\n",
       "AIN NAADJA                          2\n",
       "alger                               2\n",
       "ain nnadja                          2\n",
       "SHAOULA W ALGER                     1\n",
       "BOUZAREAH  W.ALGER                  1\n",
       "BOUGUARA W 9                        1\n",
       "DAR EL BEIDA W ALGER                1\n",
       "BENI TAMOU W 9                      1\n",
       "DELY IBRAHIME ALGER                 1\n",
       "DELY BRAHIM                         1\n",
       "CHERAGA W.ALGER                     1\n",
       "KHEMISTI  BOUSMAIL  W.TIPAZA        1\n",
       "Larbaa                              1\n",
       "RIADH EL FETH W.ALGER               1\n",
       "RAIS HAMIDOU                        1\n",
       "BOULOUGHINE                         1\n",
       "EL MADANIA                          1\n",
       "BOUFARIK W 9                        1\n",
       "DOUAOUDA W TIPAZA                   1\n",
       "30                                  1\n",
       "HYDRA ALGER                         1\n",
       "Alger                               1\n",
       "W.ALGER                             1\n",
       "ain naadja                          1\n",
       "BIRTOUTA                            1\n",
       "CHERAGA   ALGER                     1\n",
       "16 W ALGER                          1\n",
       "BEN AKNOUN                          1\n",
       "ALGER  W ALGER                      1\n",
       "BABA HASSEN                         1\n",
       "ALGER CENTRE                        1\n",
       "BELOUIZDA                           1\n",
       "STAOUALI ALGER                      1\n",
       "B MESSOUS                           1\n",
       "AIN BENIAN W ALGER                  1\n",
       "REGHAIA W ALGER                     1\n",
       "TIPAZA                              1\n",
       "TIZI OUZOU                          1\n",
       "BIRKHADEM                           1\n",
       "BOUZEREAH                           1\n",
       "AIN DEFLA                           1\n",
       "KHEMIS  KHECHNA W BOUMERDES         1\n",
       "GUE DE CONSTANTINE W ALGER          1\n",
       "KOUBA                               1\n",
       "BOUZAREAH W ALGER                   1\n",
       "KOUBA  W ALGER                      1\n",
       "9                                   1\n",
       "ALGER CENTRE  W ALGER               1\n",
       "Name: wilayat_code, dtype: int64"
      ]
     },
     "execution_count": 56,
     "metadata": {},
     "output_type": "execute_result"
    }
   ],
   "source": [
    "cmd[\"wilayat_code\"].value_counts()"
   ]
  },
  {
   "cell_type": "code",
   "execution_count": 57,
   "metadata": {},
   "outputs": [],
   "source": [
    "cmd['wilayat_code']=cmd['wilayat_code'].str.replace(\"Larbaa\",\"9\")\n",
    "cmd['wilayat_code'] = cmd['wilayat_code'].apply(lambda p:  \"15\" if (\"TIZI\" in p.upper()) else p)\n",
    "cmd['wilayat_code'] = cmd['wilayat_code'].apply(lambda p:  \"42\" if (\"TIPAZA\" in p.upper()) else p)\n",
    "cmd['wilayat_code'] = cmd['wilayat_code'].apply(lambda p:  \"16\" if (\"16\" in p.upper()) else p)\n",
    "cmd['wilayat_code'] = cmd['wilayat_code'].apply(lambda p:  \"9\" if (\"9\" in p.upper()) else p)\n",
    "cmd['wilayat_code'] = cmd['wilayat_code'].apply(lambda p:  \"16\" if (\"BOUZEREAH\" in p.upper()) else p)\n",
    "cmd['wilayat_code'] = cmd['wilayat_code'].apply(lambda p:  \"16\" if (\"BABA HASSEN\" in p.upper()) else p)\n",
    "cmd['wilayat_code'] = cmd['wilayat_code'].apply(lambda p:  \"16\" if (\"DELY BRAHIM\" in p.upper()) else p)\n",
    "cmd['wilayat_code'] = cmd['wilayat_code'].apply(lambda p:  \"16\" if (\"BIRKHADEM\" in p.upper()) else p)\n",
    "cmd['wilayat_code'] = cmd['wilayat_code'].apply(lambda p:  \"35\" if (\"KHEMIS  KHECHNA W BOUMERDES\" in p.upper()) else p)\n",
    "cmd['wilayat_code'] = cmd['wilayat_code'].apply(lambda p:  \"44\" if (\"AIN DEFLA\" in p.upper()) else p)\n",
    "cmd['wilayat_code'] = cmd['wilayat_code'].apply(lambda p:  \"44\" if (\"MEDEA\" in p.upper()) else p)\n",
    "cmd['wilayat_code'] = cmd['wilayat_code'].apply(lambda p:  \"26\" if (\"MÉDÉA\" in p.upper()) else p)\n",
    "cmd['wilayat_code'] = cmd['wilayat_code'].apply(lambda p:  \"26\" if (\"ALGER\" in p.upper()) else p)\n",
    "liste=\"BEN AKNOUN B MESSOUS EL MADANIA KOUBA BOULOUGHINE BIRTOUTA RAIS HAMIDOU BELOUIZDA\"\n",
    "cmd['wilayat_code'] = cmd['wilayat_code'].apply(lambda p:  \"16\" if (p in liste.upper()) else p)\n",
    "cmd['wilayat_code'] = cmd['wilayat_code'].apply(lambda p:  \"16\" if (\"AIN N\" in p.upper()) else p)\n",
    "cmd[\"wilayat_code\"]=cmd[\"wilayat_code\"].astype(int)"
   ]
  },
  {
   "cell_type": "code",
   "execution_count": 58,
   "metadata": {},
   "outputs": [
    {
     "data": {
      "text/plain": [
       "16    25358\n",
       "15     7678\n",
       "35     6360\n",
       "9      5785\n",
       "26     4164\n",
       "42     3774\n",
       "10     3164\n",
       "34     2986\n",
       "44     2717\n",
       "17     1049\n",
       "47      878\n",
       "3       352\n",
       "11      253\n",
       "28        9\n",
       "2         7\n",
       "30        1\n",
       "Name: wilayat_code, dtype: int64"
      ]
     },
     "execution_count": 58,
     "metadata": {},
     "output_type": "execute_result"
    }
   ],
   "source": [
    "cmd[\"wilayat_code\"].value_counts()"
   ]
  },
  {
   "cell_type": "code",
   "execution_count": 59,
   "metadata": {},
   "outputs": [],
   "source": [
    "def my_wilayat(row):\n",
    "    if row['wilayat_code'] == 16 :\n",
    "        row['wilayat_code'] = \"Wilaya_Alger\"\n",
    "    if row['wilayat_code'] == 15 :\n",
    "        row['wilayat_code'] = 'Wilaya_Tizi_Ouzou'\n",
    "    if row['wilayat_code'] == 9 :\n",
    "        row['wilayat_code'] = 'Wilaya_Blida'\n",
    "    if row['wilayat_code'] == 35 :\n",
    "        row['wilayat_code'] = \"Wilaya_Boumerdès\"\n",
    "    if row['wilayat_code'] == 42 :\n",
    "        row['wilayat_code'] = 'Wilaya_Tipaza'\n",
    "    if row['wilayat_code'] == 10 :\n",
    "        row['wilayat_code'] = 'Wilaya_Bouïra'\n",
    "    if row['wilayat_code'] == 34 :\n",
    "        row['wilayat_code'] = 'Wilaya_BBA'\n",
    "    if row['wilayat_code']== 26 :\n",
    "        row['wilayat_code'] = 'Wilaya_Médéa'\n",
    "    if row['wilayat_code'] == 44 :\n",
    "        row['wilayat_code'] = 'Wilaya_Aïn_Defla'\n",
    "    if row['wilayat_code'] == 17 :\n",
    "        row['wilayat_code'] = 'Wilaya_Djelfa'\n",
    "    if row['wilayat_code'] == 47 :\n",
    "        row['wilayat_code'] = \"GHARDAIA\"\n",
    "    if row['wilayat_code'] == 3 :\n",
    "        row['wilayat_code'] = \"LAGHOUAT\"\n",
    "    if row['wilayat_code'] == 11 :\n",
    "        row['wilayat_code'] = \"TAMANRASSET\"\n",
    "    if row['wilayat_code'] == 28 :\n",
    "        row['wilayat_code'] = \"M’Sila\"\n",
    "    if row['wilayat_code'] == 2 :\n",
    "        row['wilayat_code'] = \"CHLEF\"\n",
    "    if row['wilayat_code'] == 30 :\n",
    "        row['wilayat_code'] = \"OUARGLA\"\n",
    "    return row\n"
   ]
  },
  {
   "cell_type": "code",
   "execution_count": 60,
   "metadata": {},
   "outputs": [],
   "source": [
    "cmd= cmd.apply(my_wilayat, axis=1)"
   ]
  },
  {
   "cell_type": "code",
   "execution_count": 61,
   "metadata": {},
   "outputs": [
    {
     "data": {
      "text/plain": [
       "Wilaya_Alger         25358\n",
       "Wilaya_Tizi_Ouzou     7678\n",
       "Wilaya_Boumerdès      6360\n",
       "Wilaya_Blida          5785\n",
       "Wilaya_Médéa          4164\n",
       "Wilaya_Tipaza         3774\n",
       "Wilaya_Bouïra         3164\n",
       "Wilaya_BBA            2986\n",
       "Wilaya_Aïn_Defla      2717\n",
       "Wilaya_Djelfa         1049\n",
       "GHARDAIA               878\n",
       "LAGHOUAT               352\n",
       "TAMANRASSET            253\n",
       "M’Sila                   9\n",
       "CHLEF                    7\n",
       "OUARGLA                  1\n",
       "Name: wilayat_code, dtype: int64"
      ]
     },
     "execution_count": 61,
     "metadata": {},
     "output_type": "execute_result"
    }
   ],
   "source": [
    "cmd[\"wilayat_code\"].value_counts()"
   ]
  },
  {
   "cell_type": "code",
   "execution_count": 62,
   "metadata": {},
   "outputs": [
    {
     "data": {
      "text/plain": [
       "REFUS REFUS         44\n",
       "TOUATI MOHAMED       5\n",
       "TAHRAOUI MOHAMED     4\n",
       "ZAOUI MOHAMED        4\n",
       "PROTECTION CIVIL     4\n",
       "                    ..\n",
       "boukarci malik       1\n",
       "GHIAR FATAH          1\n",
       "SNADJKI TOUFIK       1\n",
       "BELMECHERI SALMA     1\n",
       "ZIANI KHELIFA        1\n",
       "Name: Nom, Length: 42579, dtype: int64"
      ]
     },
     "execution_count": 62,
     "metadata": {},
     "output_type": "execute_result"
    }
   ],
   "source": [
    "cmd_copy=cmd[~cmd.lat_cmd.isnull()]\n",
    "cmd_copy.Nom.value_counts()"
   ]
  },
  {
   "cell_type": "code",
   "execution_count": 63,
   "metadata": {},
   "outputs": [],
   "source": [
    "tizi_ouzou=cmd_copy.loc[cmd_copy[\"wilayat_code\"]==\"TIZI OUZOU\"]\n",
    "#Tizi_Ouzou_all=cmd.loc[cmd[\"wilayat_code\"]==\"TIZI OUZOU\"]"
   ]
  },
  {
   "cell_type": "code",
   "execution_count": 64,
   "metadata": {},
   "outputs": [],
   "source": [
    "base_wilaya_cmd=[ cmd_copy[cmd_copy.wilayat_code==i] for i in wilaya_label]"
   ]
  },
  {
   "cell_type": "code",
   "execution_count": 65,
   "metadata": {},
   "outputs": [],
   "source": [
    "cmd[\"lat_cmd\"]=cmd[\"lat_cmd\"].astype(float)\n",
    "cmd[\"long_cmd\"]=cmd[\"long_cmd\"].astype(float)"
   ]
  },
  {
   "cell_type": "markdown",
   "metadata": {},
   "source": [
    "CLEAN string for Analysis"
   ]
  },
  {
   "cell_type": "markdown",
   "metadata": {},
   "source": [
    "**merging for similary analysis**"
   ]
  },
  {
   "cell_type": "code",
   "execution_count": 66,
   "metadata": {},
   "outputs": [],
   "source": [
    "def match_join(l_sdf,\n",
    "               l_id,\n",
    "               l_lon,\n",
    "               l_lat,\n",
    "               l_name,\n",
    "               l_addr,\n",
    "               r_sdf,\n",
    "               r_id,\n",
    "               r_lon,\n",
    "               r_lat,\n",
    "               r_name,\n",
    "               r_addr,\n",
    "               distance_threshold_m,\n",
    "               minimal = True\n",
    "              ):\n",
    "  l_slice = l_sdf[[l_id, l_lon, l_lat, l_name, l_addr]]\n",
    "  r_slice = r_sdf[[r_id, r_lon, r_lat, r_name, r_addr]]\n",
    "  \n",
    "  l_slice.columns= \"L_\"+l_slice.columns\n",
    "  r_slice.columns = \"R_\"+ r_slice.columns\n",
    "  \n",
    "  l_slice['key'] = 1\n",
    "  r_slice['key'] = 1\n",
    "  \n",
    "# to obtain the cross join we will merge on \n",
    "# the key and drop it.\n",
    " \n",
    "  inner_joined = l_slice.merge(r_slice, on ='key').drop(\"key\", 1)\n",
    "#  l_joined = l_slice.join(inner_joined, l_slice.columns)\n",
    "  return(inner_joined)"
   ]
  },
  {
   "cell_type": "code",
   "execution_count": 67,
   "metadata": {},
   "outputs": [],
   "source": [
    "def statut(row):\n",
    "    if (row[\"R_Client_c\"]== \"nan\" ): \n",
    "        row[\"statut\"]=0\n",
    "    elif (row[\"R_Client_c\"]==row[\"L_Client\"]) : \n",
    "        row[\"statut\"]=1\n",
    "    else :\n",
    "        row[\"statut\"]=0\n",
    "    return row"
   ]
  },
  {
   "cell_type": "code",
   "execution_count": 69,
   "metadata": {},
   "outputs": [],
   "source": [
    "PATH=\"C:/Users/Salif SAWADOGO/OneDrive - EQUATORIAL COCA-COLA BOTTLING COMPANY S.L/dynamic segmentation/algeria census/matching/data/all_territory\"\n",
    "#for i in range(0,len(base_wilaya_census)):\n",
    "   \n",
    "    "
   ]
  },
  {
   "cell_type": "markdown",
   "metadata": {},
   "source": [
    "### ALGER"
   ]
  },
  {
   "cell_type": "code",
   "execution_count": 70,
   "metadata": {},
   "outputs": [],
   "source": [
    "from sklearn.metrics import accuracy_score\n",
    "from sklearn.preprocessing import LabelEncoder\n",
    "from sklearn.metrics import confusion_matrix\n",
    "from xgboost import plot_importance\n",
    "%matplotlib inline\n",
    "from matplotlib import pyplot as plt\n",
    "from sklearn.linear_model import LogisticRegression\n",
    "from sklearn.metrics import  roc_curve, auc, confusion_matrix, precision_recall_curve"
   ]
  },
  {
   "cell_type": "code",
   "execution_count": 74,
   "metadata": {},
   "outputs": [],
   "source": [
    "base_wilaya_cmd[9][\"Adresse_CLEAN\"]=base_wilaya_cmd[9].apply(lambda p:make_text_prep_func(p, address_column_blacklist, address_column_regex_replace,\"Adresse\"),axis=1)\n",
    "base_wilaya_cmd[9][\"Nom_CLEAN\"]=base_wilaya_cmd[9].apply(lambda p:make_text_prep_func(p, name_column_blacklist, name_column_regex_replace,\"Nom\"),axis=1)\n",
    "base_wilaya_census[9][\"legal_name_CLEAN\"]=base_wilaya_census[9].apply(lambda p:make_text_prep_func(p, name_column_blacklist, name_column_regex_replace,\"legal_name\"),axis=1)\n",
    "base_wilaya_census[9][\"address_CLEAN\"]=base_wilaya_census[9].apply(lambda p:make_text_prep_func(p, address_column_blacklist, address_column_regex_replace,'adress'),axis=1)\n",
    "    "
   ]
  },
  {
   "cell_type": "code",
   "execution_count": 235,
   "metadata": {},
   "outputs": [],
   "source": [
    "base_wilaya_cmd[9][\"Client\"]=base_wilaya_cmd[9][\"Client\"].astype(float)\n",
    "base_wilaya_census[9][\"Client_c\"]=base_wilaya_census[9][\"Client_c\"].astype(float)\n",
    "matched = match_join(base_wilaya_cmd[9],\"Client\", \"long_cmd\", \"lat_cmd\", \"Nom_CLEAN\", \"Adresse_CLEAN\", base_wilaya_census[9], \"Client_c\", \"long_c\", \"lat_c\", \"legal_name_CLEAN\", \"address_CLEAN\",260)"
   ]
  },
  {
   "cell_type": "code",
   "execution_count": 223,
   "metadata": {
    "scrolled": true
   },
   "outputs": [
    {
     "data": {
      "text/plain": [
       "(25323506, 10)"
      ]
     },
     "execution_count": 223,
     "metadata": {},
     "output_type": "execute_result"
    }
   ],
   "source": [
    "matched.shape"
   ]
  },
  {
   "cell_type": "code",
   "execution_count": 77,
   "metadata": {},
   "outputs": [
    {
     "ename": "NameError",
     "evalue": "name 'batches' is not defined",
     "output_type": "error",
     "traceback": [
      "\u001b[1;31m---------------------------------------------------------------------------\u001b[0m",
      "\u001b[1;31mNameError\u001b[0m                                 Traceback (most recent call last)",
      "\u001b[1;32m<ipython-input-77-4ac424215b05>\u001b[0m in \u001b[0;36m<module>\u001b[1;34m\u001b[0m\n\u001b[1;32m----> 1\u001b[1;33m \u001b[0mlen\u001b[0m\u001b[1;33m(\u001b[0m\u001b[0mbatches\u001b[0m\u001b[1;33m)\u001b[0m\u001b[1;33m\u001b[0m\u001b[1;33m\u001b[0m\u001b[0m\n\u001b[0m",
      "\u001b[1;31mNameError\u001b[0m: name 'batches' is not defined"
     ]
    }
   ],
   "source": [
    "len(batches)"
   ]
  },
  {
   "cell_type": "code",
   "execution_count": 226,
   "metadata": {},
   "outputs": [
    {
     "name": "stdout",
     "output_type": "stream",
     "text": [
      "0\n",
      "1\n",
      "2\n",
      "3\n",
      "4\n",
      "5\n",
      "6\n",
      "7\n",
      "8\n",
      "9\n",
      "10\n",
      "11\n",
      "12\n",
      "13\n",
      "14\n",
      "15\n",
      "16\n",
      "17\n",
      "18\n",
      "19\n",
      "20\n",
      "21\n",
      "22\n",
      "23\n",
      "24\n",
      "25\n"
     ]
    }
   ],
   "source": [
    "batch_size=1000000\n",
    "batches = [matched[k:k + batch_size] for k in range(0, len(matched), batch_size)]\n",
    "for i in range(0,len(batches)):\n",
    "#barecode types\n",
    "    \n",
    "\n",
    "    #haversine distance between outlets\n",
    "    batches[i][\"dist_m\"]=batches[i].apply(lambda p:haversine_distance(p),axis=1)\n",
    "    matched_distance=batches[i].loc[batches[i][\"dist_m\"]<=260]\n",
    "    matched_distance=matched_distance.apply(statut,axis=1)\n",
    "\n",
    "    matched_distance=matched_distance.apply(statut,axis=1)\n",
    "    distance_threshold_m=260\n",
    "    #Similaries scores\n",
    "    matched_distance[\"dist_similarity\"] =(distance_threshold_m - matched_distance[\"dist_m\"])/distance_threshold_m\n",
    "    matched_distance[\"name_similarity\"]=matched_distance.apply(lambda p:compound_similarity(p,\"L_Nom_CLEAN\",\"R_legal_name_CLEAN\"),axis=1)\n",
    "    matched_distance[\"address_similarity\"]=matched_distance.apply(lambda p:compound_similarity(p,\"L_Adresse_CLEAN\",\"R_address_CLEAN\"),axis=1)\n",
    "    #similary overall\n",
    "    matched_distance[\"similarity\"]= matched_distance[\"name_similarity\"]*(0.575+0.607)/2 +  matched_distance[\"dist_similarity\"]*(0.425+ 0.352)/2+matched_distance[\"address_similarity\"]*(0.021)\n",
    "    matched_distance[\"similarity3\"]= matched_distance[\"name_similarity\"]*0.7 +  matched_distance[\"dist_similarity\"]*0.25+matched_distance[\"address_similarity\"]*0.05\n",
    "    matched_distance[\"rank3\"]=matched_distance.groupby(by=\"R_Client_c\")[\"similarity3\"].rank(\"dense\", ascending=False)\n",
    "    matched_distance[\"rank\"]=matched_distance.groupby(by=\"R_Client_c\")[\"similarity\"].rank(\"dense\", ascending=False)\n",
    "    matched_distance.to_excel(PATH+\"\\dataAlg_\"+str(i)+\".xlsx\",index=False)\n",
    "    print(i)\n"
   ]
  },
  {
   "cell_type": "code",
   "execution_count": 227,
   "metadata": {},
   "outputs": [
    {
     "name": "stdout",
     "output_type": "stream",
     "text": [
      "0\n",
      "1\n",
      "2\n",
      "3\n",
      "4\n",
      "5\n",
      "6\n",
      "7\n",
      "8\n",
      "9\n",
      "10\n",
      "11\n",
      "12\n",
      "13\n",
      "14\n",
      "15\n",
      "16\n",
      "17\n",
      "18\n",
      "19\n",
      "20\n",
      "21\n",
      "22\n",
      "23\n",
      "24\n",
      "25\n"
     ]
    }
   ],
   "source": [
    "training_setAlger = pd.DataFrame()\n",
    "\n",
    "\n",
    "for i in range(0,len(batches)):\n",
    "    temp=pd.read_excel(PATH+\"/dataAlg_\"+str(i)+\".xlsx\")\n",
    "    training_setAlger=training_setAlger.append(temp)\n",
    "    del temp\n",
    "    print(i)"
   ]
  },
  {
   "cell_type": "code",
   "execution_count": null,
   "metadata": {},
   "outputs": [],
   "source": []
  },
  {
   "cell_type": "code",
   "execution_count": 97,
   "metadata": {},
   "outputs": [],
   "source": []
  },
  {
   "cell_type": "code",
   "execution_count": 98,
   "metadata": {},
   "outputs": [],
   "source": []
  },
  {
   "cell_type": "code",
   "execution_count": 177,
   "metadata": {
    "scrolled": true
   },
   "outputs": [
    {
     "name": "stdout",
     "output_type": "stream",
     "text": [
      "0\n",
      "1\n",
      "2\n",
      "3\n",
      "4\n",
      "5\n",
      "6\n",
      "7\n",
      "8\n"
     ]
    }
   ],
   "source": [
    "training_setOusideAlger = pd.DataFrame()\n",
    "training_setOusideAlger3 = pd.DataFrame()\n",
    "for i in range(0,9):\n",
    "    temp=pd.read_excel(PATH+\"/data_\"+str(i)+\".xlsx\")\n",
    "    temp3=pd.read_excel(PATH+\"/data3_\"+str(i)+\".xlsx\")\n",
    "\n",
    "    training_setOusideAlger=training_setOusideAlger.append(temp)\n",
    "    training_setOusideAlger3=training_setOusideAlger3.append(temp3)\n",
    "    del temp3\n",
    "    del temp\n",
    "    print(i)"
   ]
  },
  {
   "cell_type": "code",
   "execution_count": 211,
   "metadata": {},
   "outputs": [],
   "source": [
    "temp=pd.read_excel(PATH+\"/data3_1.xlsx\")"
   ]
  },
  {
   "cell_type": "code",
   "execution_count": 212,
   "metadata": {},
   "outputs": [
    {
     "data": {
      "text/plain": [
       "0    9366\n",
       "1     245\n",
       "Name: statut, dtype: int64"
      ]
     },
     "execution_count": 212,
     "metadata": {},
     "output_type": "execute_result"
    }
   ],
   "source": [
    "(temp.statut).value_counts()"
   ]
  },
  {
   "cell_type": "code",
   "execution_count": 213,
   "metadata": {},
   "outputs": [
    {
     "data": {
      "text/plain": [
       "((38693, 19), (38693, 18), (105856, 19), (105856, 18))"
      ]
     },
     "execution_count": 213,
     "metadata": {},
     "output_type": "execute_result"
    }
   ],
   "source": [
    "training_setAlger.shape,training_setAlger3.shape,training_setOusideAlger.shape,training_setOusideAlger3.shape"
   ]
  },
  {
   "cell_type": "code",
   "execution_count": 214,
   "metadata": {},
   "outputs": [
    {
     "data": {
      "text/plain": [
       "((144549, 19), (144549, 18))"
      ]
     },
     "execution_count": 214,
     "metadata": {},
     "output_type": "execute_result"
    }
   ],
   "source": [
    "Algerie=training_setAlger.append(training_setOusideAlger)\n",
    "Algerie3=training_setAlger3.append(training_setOusideAlger3)\n",
    "Algerie.shape,Algerie3.shape"
   ]
  },
  {
   "cell_type": "code",
   "execution_count": 215,
   "metadata": {},
   "outputs": [
    {
     "data": {
      "text/plain": [
       "['Wilaya_Tizi_Ouzou',\n",
       " 'Wilaya_Tipaza',\n",
       " 'Wilaya_Médéa',\n",
       " 'Wilaya_Djelfa',\n",
       " 'Wilaya_Bouïra',\n",
       " 'Wilaya_Boumerdès',\n",
       " 'Wilaya_Blida',\n",
       " 'Wilaya_BBA',\n",
       " 'Wilaya_Aïn_Defla',\n",
       " 'Wilaya_Alger']"
      ]
     },
     "execution_count": 215,
     "metadata": {},
     "output_type": "execute_result"
    }
   ],
   "source": [
    "wilaya_label"
   ]
  },
  {
   "cell_type": "code",
   "execution_count": 228,
   "metadata": {},
   "outputs": [],
   "source": [
    "training_set =training_setAlger .loc[(training_setAlger [\"statut\"] == 1) | (training_setAlger [\"rank3\"] == 1)]"
   ]
  },
  {
   "cell_type": "code",
   "execution_count": 229,
   "metadata": {},
   "outputs": [
    {
     "data": {
      "text/plain": [
       "0    17997\n",
       "1     1189\n",
       "Name: statut, dtype: int64"
      ]
     },
     "execution_count": 229,
     "metadata": {},
     "output_type": "execute_result"
    }
   ],
   "source": [
    "(training_set.statut).value_counts()"
   ]
  },
  {
   "cell_type": "markdown",
   "metadata": {},
   "source": [
    "_output vizualisation_"
   ]
  },
  {
   "cell_type": "code",
   "execution_count": 230,
   "metadata": {},
   "outputs": [],
   "source": [
    "def confusio_matrix(y_test, y_predicted):\n",
    "  cm = confusion_matrix(y_test, y_predicted)\n",
    "  tn, fp, fn, tp = confusion_matrix(y_test, y_predicted).astype(int).ravel()\n",
    "  print(\"Accuracy:\", round((tp + tn)/(tp+tn+fp+fn),2))\n",
    "  print(\"Recall:\", round(tp /(tp+fn),2))\n",
    "  print(\"precision:\", round( tp/(tp+fp),2))\n",
    "  plt.figure(figsize=(5,5))\n",
    "  plt.clf()\n",
    "  plt.imshow(cm, interpolation='nearest',cmap=plt.cm.Wistia)\n",
    "  classNames = ['Negative','Positive']\n",
    "  plt.title('Matrice de confusion')\n",
    "  plt.ylabel('True label')\n",
    "  plt.xlabel('Predicted label')\n",
    "  tick_marks = np.arange(len(classNames))\n",
    "  plt.xticks(tick_marks, classNames, rotation=45)\n",
    "  plt.yticks(tick_marks, classNames)\n",
    "  s = [['TN','FP'], ['FN', 'TP']]\n",
    "  \n",
    "  for i in range(2):\n",
    "      for j in range(2):\n",
    "          plt.text(j,i, str(s[i][j])+\" = \"+str(cm[i][j]))\n",
    "  plt.show()"
   ]
  },
  {
   "cell_type": "markdown",
   "metadata": {},
   "source": [
    "## ROC"
   ]
  },
  {
   "cell_type": "markdown",
   "metadata": {},
   "source": [
    " * combinaison of the two models coeficients*"
   ]
  },
  
   ],
   "source": [
    "fpr, tpr, thresholds = roc_curve(training_set[\"statut\"],training_set[\"similarity1\"])\n",
    "roc_auc = auc(fpr, tpr)\n",
    "optimal_thr = thresholds[np.argmin((0-fpr)**2 + (1-tpr)**2)]\n",
    "optimal_tpr = tpr[thresholds==optimal_thr][0]\n",
    "optimal_fpr = fpr[thresholds==optimal_thr][0]\n"
   ]
  },
  {
   "cell_type": "code",
   "execution_count": 232,
   "metadata": {},
   "outputs": [
    {
     "data": {
      "image/png": "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\n",
      "text/plain": [
       "<Figure size 640x480 with 1 Axes>"
      ]
     },
     "metadata": {},
     "output_type": "display_data"
    }
   ],
   "source": [
    "plt.figure()\n",
    "lw = 2\n",
    "plt.plot(fpr, tpr, color='orange',lw=lw, label='ROC curve (area = %0.2f)' % roc_auc)\n",
    "plt.plot([0, 1], [0, 1], color='navy', lw=lw, linestyle='--')\n",
    "plt.scatter(optimal_fpr, optimal_tpr, color=\"red\", lw=lw, label=f\"Opt. similarity threshold: {optimal_thr}\\nOpt. TPR:{round(optimal_tpr, 2)}, Opt. FPR: {round(optimal_fpr, 2)}\")\n",
    "plt.xlim([0.0, 1.0])\n",
    "plt.ylim([0.0, 1.0])\n",
    "plt.xlabel('False Positive Rate')\n",
    "plt.ylabel('True Positive Rate')\n",
    "plt.title('Matching  ROC curve')\n",
    "plt.legend(loc=\"lower right\")\n",
    "plt.show()"
   ]
  },
  {
   "cell_type": "code",
   "execution_count": 233,
   "metadata": {},
   "outputs": [
    {
     "name": "stdout",
     "output_type": "stream",
     "text": [
      "Accuracy: 0.81\n",
      "Recall: 0.83\n",
      "precision: 0.09\n"
     ]
    },
    {
     "data": {
      "image/png": "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\n",
      "text/plain": [
       "<Figure size 500x500 with 1 Axes>"
      ]
     },
     "metadata": {},
     "output_type": "display_data"
    }
   ],
   "source": [
    "confusio_matrix( Algerie[\"statut\"], (Algerie[\"similarity\"]>= optimal_thr).astype(int))"
   ]
  },
  {
   "cell_type": "markdown",
   "metadata": {},
   "source": [
    "* xgb features importance *"
   ]
  },
  {
   "cell_type": "code",
   "execution_count": 135,
   "metadata": {},
   "outputs": [
    {
     "ename": "NameError",
     "evalue": "name 'data_set2' is not defined",
     "output_type": "error",
     "traceback": [
      "\u001b[1;31m---------------------------------------------------------------------------\u001b[0m",
      "\u001b[1;31mNameError\u001b[0m                                 Traceback (most recent call last)",
      "\u001b[1;32m<ipython-input-135-2671d49465f1>\u001b[0m in \u001b[0;36m<module>\u001b[1;34m\u001b[0m\n\u001b[1;32m----> 1\u001b[1;33m \u001b[0mfpr\u001b[0m\u001b[1;33m,\u001b[0m \u001b[0mtpr\u001b[0m\u001b[1;33m,\u001b[0m \u001b[0mthresholds\u001b[0m \u001b[1;33m=\u001b[0m \u001b[0mroc_curve\u001b[0m\u001b[1;33m(\u001b[0m\u001b[0mdata_set2\u001b[0m\u001b[1;33m[\u001b[0m\u001b[1;34m\"statut\"\u001b[0m\u001b[1;33m]\u001b[0m\u001b[1;33m,\u001b[0m\u001b[0mdata_set2\u001b[0m\u001b[1;33m[\u001b[0m\u001b[1;34m\"similarity2\"\u001b[0m\u001b[1;33m]\u001b[0m\u001b[1;33m)\u001b[0m\u001b[1;33m\u001b[0m\u001b[1;33m\u001b[0m\u001b[0m\n\u001b[0m\u001b[0;32m      2\u001b[0m \u001b[0mroc_auc\u001b[0m \u001b[1;33m=\u001b[0m \u001b[0mauc\u001b[0m\u001b[1;33m(\u001b[0m\u001b[0mfpr\u001b[0m\u001b[1;33m,\u001b[0m \u001b[0mtpr\u001b[0m\u001b[1;33m)\u001b[0m\u001b[1;33m\u001b[0m\u001b[1;33m\u001b[0m\u001b[0m\n\u001b[0;32m      3\u001b[0m \u001b[0moptimal_thr\u001b[0m \u001b[1;33m=\u001b[0m \u001b[0mthresholds\u001b[0m\u001b[1;33m[\u001b[0m\u001b[0mnp\u001b[0m\u001b[1;33m.\u001b[0m\u001b[0margmin\u001b[0m\u001b[1;33m(\u001b[0m\u001b[1;33m(\u001b[0m\u001b[1;36m0\u001b[0m\u001b[1;33m-\u001b[0m\u001b[0mfpr\u001b[0m\u001b[1;33m)\u001b[0m\u001b[1;33m**\u001b[0m\u001b[1;36m2\u001b[0m \u001b[1;33m+\u001b[0m \u001b[1;33m(\u001b[0m\u001b[1;36m1\u001b[0m\u001b[1;33m-\u001b[0m\u001b[0mtpr\u001b[0m\u001b[1;33m)\u001b[0m\u001b[1;33m**\u001b[0m\u001b[1;36m2\u001b[0m\u001b[1;33m)\u001b[0m\u001b[1;33m]\u001b[0m\u001b[1;33m\u001b[0m\u001b[1;33m\u001b[0m\u001b[0m\n\u001b[0;32m      4\u001b[0m \u001b[0moptimal_tpr\u001b[0m \u001b[1;33m=\u001b[0m \u001b[0mtpr\u001b[0m\u001b[1;33m[\u001b[0m\u001b[0mthresholds\u001b[0m\u001b[1;33m==\u001b[0m\u001b[0moptimal_thr\u001b[0m\u001b[1;33m]\u001b[0m\u001b[1;33m[\u001b[0m\u001b[1;36m0\u001b[0m\u001b[1;33m]\u001b[0m\u001b[1;33m\u001b[0m\u001b[1;33m\u001b[0m\u001b[0m\n\u001b[0;32m      5\u001b[0m \u001b[0moptimal_fpr\u001b[0m \u001b[1;33m=\u001b[0m \u001b[0mfpr\u001b[0m\u001b[1;33m[\u001b[0m\u001b[0mthresholds\u001b[0m\u001b[1;33m==\u001b[0m\u001b[0moptimal_thr\u001b[0m\u001b[1;33m]\u001b[0m\u001b[1;33m[\u001b[0m\u001b[1;36m0\u001b[0m\u001b[1;33m]\u001b[0m\u001b[1;33m\u001b[0m\u001b[1;33m\u001b[0m\u001b[0m\n",
      "\u001b[1;31mNameError\u001b[0m: name 'data_set2' is not defined"
     ]
    }
   ],
   "source": [
    "fpr, tpr, thresholds = roc_curve(data_set2[\"statut\"],data_set2[\"similarity2\"])\n",
    "roc_auc = auc(fpr, tpr)\n",
    "optimal_thr = thresholds[np.argmin((0-fpr)**2 + (1-tpr)**2)]\n",
    "optimal_tpr = tpr[thresholds==optimal_thr][0]\n",
    "optimal_fpr = fpr[thresholds==optimal_thr][0]"
   ]
  },
  {
   "cell_type": "code",
   "execution_count": null,
   "metadata": {},
   "outputs": [],
   "source": [
    "plt.figure()\n",
    "lw = 2\n",
    "plt.plot(fpr, tpr, color='orange',lw=lw, label='ROC curve (area = %0.2f)' % roc_auc)\n",
    "plt.plot([0, 1], [0, 1], color='navy', lw=lw, linestyle='--')\n",
    "plt.scatter(optimal_fpr, optimal_tpr, color=\"red\", lw=lw, label=f\"Opt. similarity threshold: {optimal_thr}\\nOpt. TPR:{round(optimal_tpr, 2)}, Opt. FPR: {round(optimal_fpr, 2)}\")\n",
    "plt.xlim([0.0, 1.0])\n",
    "plt.ylim([0.0, 1.0])\n",
    "plt.xlabel('False Positive Rate')\n",
    "plt.ylabel('True Positive Rate')\n",
    "plt.title('Matching  ROC curve')\n",
    "plt.legend(loc=\"lower right\")\n",
    "plt.show()"
   ]
  },
  {
   "cell_type": "code",
   "execution_count": null,
   "metadata": {},
   "outputs": [],
   "source": [
    "confusio_matrix( data_set2[\"statut\"], (data_set2[\"similarity2\"]>= optimal_thr).astype(int))"
   ]
  },
  {
   "cell_type": "markdown",
   "metadata": {},
   "source": [
    " * name=70%  distance= 25% adress=5% *\n"
   ]
  },
  {
   "cell_type": "code",
   "execution_count": 129,
   "metadata": {},
   "outputs": [
    {
     "data": {
      "image/png": "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\n",
      "text/plain": [
       "<Figure size 640x480 with 1 Axes>"
      ]
     },
     "metadata": {},
     "output_type": "display_data"
    }
   ],
   "source": [
    "fpr, tpr, thresholds = roc_curve(Algerie3[\"statut\"],Algerie3[\"similarity3\"])\n",
    "roc_auc = auc(fpr, tpr)\n",
    "optimal_thr = thresholds[np.argmin((0-fpr)**2 + (1-tpr)**2)]\n",
    "optimal_tpr = tpr[thresholds==optimal_thr][0]\n",
    "optimal_fpr = fpr[thresholds==optimal_thr][0]\n",
    "plt.figure()\n",
    "lw = 2\n",
    "plt.plot(fpr, tpr, color='orange',lw=lw, label='ROC curve (area = %0.2f)' % roc_auc)\n",
    "plt.plot([0, 1], [0, 1], color='navy', lw=lw, linestyle='--')\n",
    "plt.scatter(optimal_fpr, optimal_tpr, color=\"red\", lw=lw, label=f\"Opt. similarity threshold: {optimal_thr}\\nOpt. TPR:{round(optimal_tpr, 2)}, Opt. FPR: {round(optimal_fpr, 2)}\")\n",
    "plt.xlim([0.0, 1.0])\n",
    "plt.ylim([0.0, 1.0])\n",
    "plt.xlabel('False Positive Rate')\n",
    "plt.ylabel('True Positive Rate')\n",
    "plt.title('Matching  ROC curve')\n",
    "plt.legend(loc=\"lower right\")\n",
    "plt.show()"
   ]
  },
  {
   "cell_type": "code",
   "execution_count": 131,
   "metadata": {},
   "outputs": [
    {
     "name": "stdout",
     "output_type": "stream",
     "text": [
      "Accuracy: 0.78\n",
      "Recall: 0.78\n",
      "Precision: 0.08\n",
      "F1: 0.14511627906976746\n"
     ]
    },
    {
     "data": {
      "image/png": "iVBORw0KGgoAAAANSUhEUgAAAfAAAAH+CAYAAABjplyWAAAAOXRFWHRTb2Z0d2FyZQBNYXRwbG90bGliIHZlcnNpb24zLjQuMiwgaHR0cHM6Ly9tYXRwbG90bGliLm9yZy8rg+JYAAAACXBIWXMAAA9hAAAPYQGoP6dpAABQIklEQVR4nO3deZyN5f/H8deZfR+DQRgzYyc7yT6pyZIQhRhrlpAsZWsh+xSR6GtNogghMSRL9i0qKcvYUkR2wxhmO/fvj/nN4ZgZZhjGzfv5eJyHc+77Ovf9OcfMvM913dd9H4thGAYiIiJiKg5ZXYCIiIhknAJcRETEhBTgIiIiJqQAFxERMSEFuIiIiAkpwEVERExIAS4iImJCCnARERETUoCLiIiYkAJc5BE1ZMgQLBZLVpcBwJdffonFYuHYsWNZXco9W7lyJeXKlcPNzQ2LxcKlS5cydfuP0nsl95cCXOQeJf/BtVgsbN68OcV6wzAICAjAYrHw4osv3tU+Ro0axZIlS+6xUrlX58+fp3nz5ri7u/O///2Pr776Ck9Pz6wuSx5TCnCRTOLm5sbcuXNTLN+wYQMnTpzA1dX1rrd9NwH+/vvvc+3atbvep6S0c+dOrly5wvDhw+nYsSOtW7fG2dk5U/fRpk0brl27RmBgYKZuVx49CnCRTPLCCy/w7bffkpCQYLd87ty5VKxYkTx58jyQOq5evQqAk5MTbm5uD2Sfj4szZ84AkC1btvu2D0dHR9vwvMjtKMBFMknLli05f/48q1evti2Li4tj4cKFtGrVKtXnfPzxx1SrVo0cOXLg7u5OxYoVWbhwoV0bi8XC1atXmTVrlm2ovn379sCN49z79u2jVatW+Pn5UaNGDbt1t/r666+pXLkyHh4e+Pn5UatWLVatWmXX5ocffqBmzZp4enri7e1NgwYN2Lt3b7reh7179/Lss8/i7u5O/vz5GTFiBFarNdW297KfS5cu0adPH4KCgnB1dSV//vy0bduWc+fO2dqcOXOGjh07kjt3btzc3ChbtiyzZs2y286xY8ewWCx8/PHHTJs2jUKFCuHq6spTTz3Fzp07be2eeeYZ2rVrB8BTTz1l9/8QFBRku3+zZ555hmeeecZu2cSJE3nyySdt73+lSpXsRm7SOgY+adIknnzySVxdXcmbNy9vvPFGiuPvzzzzDKVKlWLfvn3Url0bDw8P8uXLx+jRo9P1noq5OGV1ASKPiqCgIKpWrco333xD/fr1gaSAioqK4tVXX2XChAkpnvPpp5/SqFEjwsLCiIuLY968eTRr1oyIiAgaNGgAwFdffUWnTp2oXLkyXbp0AaBQoUJ222nWrBlFihRh1KhR3O4bgocOHcqQIUOoVq0aw4YNw8XFhR07dvDTTz9Rp04d2/7atWtH3bp1+eijj4iJiWHy5MnUqFGD3377jaCgoDS3/99//1G7dm0SEhIYOHAgnp6eTJs2DXd39xRt72U/0dHR1KxZk/379/Paa69RoUIFzp07x9KlSzlx4gQ5c+bk2rVrPPPMMxw+fJgePXoQHBzMt99+S/v27bl06RK9evWy2+bcuXO5cuUKr7/+OhaLhdGjR9O0aVOOHj2Ks7Mz7733HsWKFWPatGkMGzaM4ODgFP8PdzJ9+nR69uzJK6+8Qq9evbh+/Tp79uxhx44daX7Ig6QPY0OHDiU0NJRu3boRGRnJ5MmT2blzJ1u2bLEbxr948SL16tWjadOmNG/enIULFzJgwABKly5t+7mUR4QhIvdk5syZBmDs3LnT+Oyzzwxvb28jJibGMAzDaNasmVG7dm3DMAwjMDDQaNCggd1zk9sli4uLM0qVKmU8++yzdss9PT2Ndu3apdj3Bx98YABGy5Yt01yX7NChQ4aDg4PRpEkTIzEx0a6t1Wo1DMMwrly5YmTLls3o3Lmz3fr//vvP8PX1TbH8Vr179zYAY8eOHbZlZ86cMXx9fQ3A+OuvvzJlP4MHDzYAY/HixSnWJb+W8ePHG4Dx9ddf29bFxcUZVatWNby8vIzLly8bhmEYf/31lwEYOXLkMC5cuGBr+/333xuAsWzZMtuym/+vbxYYGJjq/09ISIgREhJie9y4cWPjySefvO1rS95H8nt15swZw8XFxahTp47d/9tnn31mAMYXX3xhtz/AmD17tm1ZbGyskSdPHuPll1++7X7FfDSELpKJmjdvzrVr14iIiODKlStERETctmd1c8/04sWLREVFUbNmTX799dcM7bdr1653bLNkyRKsViuDBw/GwcH+Vz95qH316tVcunSJli1bcu7cOdvN0dGRp59+mnXr1t12HytWrKBKlSpUrlzZtszf35+wsDC7dve6n0WLFlG2bFmaNGmSYl3ya1mxYgV58uShZcuWtnXOzs707NmT6OhoNmzYYPe8Fi1a4OfnZ3tcs2ZNAI4ePXrbWjIiW7ZsnDhxwm5o/k7WrFlDXFwcvXv3tvt/69y5Mz4+PixfvtyuvZeXF61bt7Y9dnFxoXLlypn6OuThoCF0kUzk7+9PaGgoc+fOJSYmhsTERF555ZU020dERDBixAh2795NbGysbXlGJzAFBwffsc2RI0dwcHCgZMmSabY5dOgQAM8++2yq6318fG67j7///punn346xfJixYpl6n6OHDnCyy+/fMdaihQpkuLDSokSJWzrb1agQAG7x8lhfvHixdvuJyMGDBjAmjVrqFy5MoULF6ZOnTq0atWK6tWrp/mc5DpvfQ9dXFwoWLBgiteRP3/+FD8/fn5+7NmzJ5NehTwsFOAimaxVq1Z07tyZ//77j/r166c5Y3nTpk00atSIWrVqMWnSJJ544gmcnZ2ZOXNmqqej3U5qx5jvRvJks6+++irVWfNOTpnzJ+NB7ScjHB0dU11u3GZOQbK0PnAlJibabbdEiRJERkYSERHBypUrWbRoEZMmTWLw4MEMHTr07gq/xb28DjEXBbhIJmvSpAmvv/4627dvZ/78+Wm2W7RoEW5ubvz4449254jPnDkzRdvMOKWoUKFCWK1W9u3bR7ly5dJsA5ArVy5CQ0MzvI/AwEBb7/pmkZGRmbqfQoUK8eeff96xlj179mC1Wu164QcOHLCtzyx+fn6pXpHt77//pmDBgnbLPD09adGiBS1atCAuLo6mTZsycuRI3nnnnVRP+0uuMzIy0m5bcXFx/PXXX3f1/smjQcfARTKZl5cXkydPZsiQITRs2DDNdo6OjlgsFhITE23Ljh07luoFWzw9Pe/5kp0vvfQSDg4ODBs2LMVpXcm9s7p16+Lj48OoUaOIj49PsY2zZ8/edh8vvPAC27dv5+eff7Z7zpw5c+za3et+Xn75ZX7//Xe+++67FOuSX8sLL7zAf//9Z/chKiEhgYkTJ+Ll5UVISMht95ERhQoVYvv27cTFxdmWRUREcPz4cbt258+ft3vs4uJCyZIlMQwj1fcBIDQ0FBcXFyZMmGDXi54xYwZRUVG2sxXk8aMeuMh9kHy+8O00aNCAcePGUa9ePVq1asWZM2f43//+R+HChVMcr6xYsSJr1qxh3Lhx5M2bl+Dg4FSPNd9O4cKFee+99xg+fDg1a9akadOmuLq6snPnTvLmzUt4eDg+Pj5MnjyZNm3aUKFCBV599VX8/f35559/WL58OdWrV+ezzz5Lcx/9+/fnq6++ol69evTq1ct2GllybzjZve6nX79+LFy4kGbNmvHaa69RsWJFLly4wNKlS5kyZQply5alS5cuTJ06lfbt2/PLL78QFBTEwoUL2bJlC+PHj8fb2ztD79/tdOrUiYULF1KvXj2aN2/OkSNH+Prrr1OcZlanTh3y5MlD9erVyZ07N/v37+ezzz6jQYMGadbj7+/PO++8w9ChQ6lXrx6NGjUiMjKSSZMm8dRTT9lNWJPHTFZOgRd5FKR1atGtUjuNbMaMGUaRIkUMV1dXo3jx4sbMmTNTnP5lGIZx4MABo1atWoa7u7sB2E5ZSm579uzZFPtLbTuGYRhffPGFUb58ecPV1dXw8/MzQkJCjNWrV9u1WbdunVG3bl3D19fXcHNzMwoVKmS0b9/e2LVr1x3fjz179hghISGGm5ubkS9fPmP48OHGjBkz7E6Nyoz9nD9/3ujRo4eRL18+w8XFxcifP7/Rrl0749y5c7Y2p0+fNjp06GDkzJnTcHFxMUqXLm3MnDnTbjvJp5GNGTMmxT4A44MPPrA9vt3/9dixY418+fIZrq6uRvXq1Y1du3alOI1s6tSpRq1atYwcOXIYrq6uRqFChYx+/foZUVFRKfZx63v12WefGcWLFzecnZ2N3LlzG926dTMuXrxo1yYkJCTV09TatWtnBAYGpnwTxdQshqGZDSIiImajY+AiIiImpAAXERExIQW4iIiICSnARURETEgBLiIiYkIKcBERERPShVweQlarlZMnT+Lt7Z0pl9AUERHzMAyDK1eukDdv3hRfxnMzBfhD6OTJkwQEBGR1GSIikoWOHz9O/vz501yvAH8IJV9S8Vgf8HG9Q2ORR5BjW/+sLkEky1yOthJQ+fwdL/erAH8IJQ+b+7gqwOXx5Oit6TkidzqEqt8SERERE1KAi4iImJACXERExIQU4CIiIiakABcRETEhBbiIiIgJKcBFRERMSAEuIiJiQgpwERERE1KAi4iImJACXERExIQU4CIiIiakABcRETEhBbiIiIgJKcBFRERMSAEuIiJiQgpwERERE1KAi4iImJACXERExIQU4CIiIiakABcRETEhBbiIiIgJKcBFRERMSAEuIiJiQgpwERERE1KAi4iImJACXERExIQU4CIiIiakABcRETEhBbiIiIgJKcBFRERMSAEuIiJiQgpwERERE1KAi4iImJACXERExIQU4CIiIiakABcRETEhBbiIiIgJKcBFRERMSAEuIiJiQgpwERERE1KAi4iImJACXERExIQU4CIiIiakABcRETEhBbiIiIgJKcBFRERMSAEuIiJiQgpwERERE1KAi4iImJACXERExIQU4CIiIiakABcRETEhBbiIiIgJKcBFRERMSAEuIiJiQgpwERERE1KAi4iImJACXERExIQU4CIiIiakABcRETEhBbiIiIgJKcBFRERMSAEuIiJiQgpwERERE1KAi4iImJACXERExIQU4CIiIiakABcRETEhBbiIiIgJKcBFRERMSAEuIiJiQgpwERERE1KAi4iImJACXERExIQU4CIiIiakABcRETEhBbiIiIgJKcBFRERMSAEuIiJiQgpwERERE1KAi4iImJACXERExIQU4CIiIiakABdJhdPQ29+Grodjl5LuPzEGrsTaP7/ilKQ298upK9B6EZSYCM5D4a2VKdvsPQPNFkCh8Ul1fro99W1N+jmpjecIqPo5/Pyv/fpuy6DoBPAaCXnGQJN5cOCcfZt/oqDhXPAemfR+9F8FCdYb6zf/AzW/gFyjk7bz5Gcwftu9vAPyILTvE4Ul4HSK2+G/ElKsdyl4msI1zjFsfDQJCcZ9q+n1gZcpVP0c7oVP41/2DI1fu8SBwwl2bXoOvkzFF87jWug05eqeT3U7e/bHU7PpBdwKnyag8llGT76aos23Edcp/sw53AqfpnToeVb8ZP+LHn3VSo/3L5P/qbO4Fz5NyWfPMeWrmMx7sXfg9MD2JGIiJ96+cX/BnzBkPezrcWOZlwuc+//f0ytxMHYrDKn94OqLTQR/D3i3VtrBHBMPwdnglZLw9o+pt1nwJ/RdBZMaQOX8MGE7vPB10mvN5ZnUpkJeaFkGCvjChWswbD3U/woO9wJHB0i0QqO5kNsLNnVM+nDRYQk4O8LI55K24ekMbzwFpXODpwts+Qe6RSTd71wxk98cyVT1nnFh5lgfu2X+ORxSrI+NgxU/xfLG+1dwdrLwTg/P+1JPxdJOhL3kRoF8jly4ZGXIuGjqhF3kr605cXS02Nq91tydHbvj2bM/IcU2Ll+xUifsEqE1XJgS7sMfBxJ4rW8U2XwsdAnzAGDrrjha9ogifKAXLz7nytwl13mp0yV+XZGDUsWTovOtYdH8tCWOryf4EpTfkVUbY+n+3hXy5nagUR23+/L6b6YeuEgq8njduPm6geWWZV4uN9q+URnGb4czKT/A3zdB2eCT+tCmLPi4pt7mqXwwug60KAWujqm3+WQ7dKoA7ctDSX+Y9CJ4OMPM32606VwRagUm7bPCEzDsWTh+OWkEAmDVEdh3FmY3gXJ5oH4RGFobJu+EuMSkNuWfgFdLw5O5krYTVgbqFErqmcvDzdXFQp5cjna3m4MyeX1gfke6tfUgtIYLS1fH3maL96ZLmAe1qrgQFOBIhdLOjOjvxfGTVo4dT7S1mTDMhzfae1CwQOo/+HO+u05cnMEXH/vwZDEnXm3sRs/XPBg3/Ubv+dMZMdR7xoV+XT0pUcSJ4f28qFDKmc9m3WizdVcc7V5x45mqSfV0CfOgbEknft6d8kPD/aAAF7lHr5aCwtlhxIb0P2fT3+A76va3uXvuX82QFK6/noTnCt5Y5mBJerz9ROrPuRoHX/6W1LMP8E1atv0ElM6V1ANPVqcQXI5NGsZPzW+nYNvxpA8G8mhxd7MQF5/2EHr9NhfxKnYmzduTz51L87m3uhpjMHP+dYILOBKQN41PqanY9ms8tZ52wcXlxgeRuiGuRB5J5OIlq61NaA0Xu+fVDXFh2y/xtsfVKiV9WPn3VCKGYbBuaxwHjyZSp5b98+4XDaHfQVBQEL1796Z3795ZXYo8pCyWpKHil76BXlWgUPY7P6dSXvil6+3b5L4/I5A252Ig0bgxVJ4sl2fKY9yTd8LA1XA1HorlgJVtwOX//16ejoZcXvbtk8P8v2j75YHj4GxM0vHxwSHQsULmvR65PyLWxuJV7MYnsfq1Xfh2SrYU7QzDYO3mOH7cGMub7T3S3N7no324dj3tgHd2tqS5LtmkWTH0HxXN1RiDYoUcWT0nm10Y38l/Z6wE39I7z50zqT/731krftkc+O+s1bbs5jb/nb0xuWPiMG+6DLxM/srncHICBweY/pEPtao8BgHevn17Zs2aRXh4OAMHDrQtX7JkCU2aNMEw7t9EiFt9+eWX9O7dm0uXLtkt37lzJ56e9/kvqZhe3cJQvQB8sA6+fvnO7d2dk3rtZtGqNIQWhFPRMG4rtFwIG18Dtwz+BVnfAaLjYMcJeHdt0nvwaun7U7NkjtrVXJg80tv22NPDPiiTAz4+wcBqhVYvuTHkLa9bN2OT74n095TTEtbEjedruXDqtJWPp16lefcotizOjptb+kM8M0ycGcP2X+NZ+kU2AvM7sHFHPG+8n3QMPLRmGse2MlGW98Dd3Nz46KOPeP311/Hz88vqclLw9/fP6hLEJEaFQo0Z8Ha1O7fd9De8OOf2bSa/CK3KZE5tqcnpAY6WlMfuz1xNOs5/M1+3pFuRHFAlP+T8CJbsTwrf3F6w85aZ66f/v+d963aC//9XvHRuOH0Vhm1QgD/sPN0tFA5OOyqSA97FxULe3A44Od0+ROu3ucimn+PTXB+Y34G9a3Pedhu+Pg74+jhQJBiqVHDGr9QZvlt5nZYvud/+xfy/PLkcOH1TTxrg9Lmkx3n8HWz/Ji+7uU3y+mvXDN4dHc1307PR4LmksC5Twpnde+P5eGrMAwnwLD8GHhoaSp48eQgPD0+zzebNm6lZsybu7u4EBATQs2dPrl698Vfn1KlTNGjQAHd3d4KDg5k7dy5BQUGMHz/e1mbcuHGULl0aT09PAgIC6N69O9HRSX9l1q9fT4cOHYiKisJisWCxWBgyZAiA3XZatWpFixYt7GqLj48nZ86czJ49GwCr1Up4eDjBwcG4u7tTtmxZFi5cmAnvlDzsKueDJiWSepZ3kjyEfrtbw2L3t14Xx6QZ5j8dvbHMaiQ9rpI/7ecZRtIt9v/nDFXJD3+csf8gsOZo0uS6krf5/Gs1IPbBzPWR+yg54Avkc7xjeEPSEPruldnTvK2YlbGOnO3nMS79z6lawZmNO+KIv+lY/eqNsRQr5IhfNgdbm7Vb7De6elMcVSs6AxCfYBAfnzRsfjNHRwtW+9y/b7K8B+7o6MioUaNo1aoVPXv2JH9++78cR44coV69eowYMYIvvviCs2fP0qNHD3r06MHMmTMBaNu2LefOnWP9+vU4Ozvz1ltvceaM/ewZBwcHJkyYQHBwMEePHqV79+7079+fSZMmUa1aNcaPH8/gwYOJjIwEwMsr5RBQWFgYzZo1Izo62rb+xx9/JCYmhiZNmgAQHh7O119/zZQpUyhSpAgbN26kdevW+Pv7ExISkup7EBsbS2zsjVmbly9fvst3U7La8GehzCRwusNH48wYQt/9X9K/V+OSjivv/i8plJNDMy4xaXZ48v1/Lye18XK5se8+VZJO+aqYN2nW+oTtSce525dLWn/0YtKpZs8XAn9POHEZRm9Oqr9+kaQ2dQol7bPdd/BhaNJx78E/QbenwPX//8JM+jlp0lvx/+9Ybfo7aSi+x9P39h6I+dzLEPrRvxOYvyyWOrVc8M/hwIlTiXz4v6u4u1l44dkbPd7DfyUQHWPw31kr164b7N6b1OMvWcQJFxcLrV5yY+j4q3Tsd5kB3Tz5MzKBT7+I4ZMPbhwq6NXRg5BmFxk79SoNnnNl3tLr7NoTz7QPk06p8/F2IKSKM/1GXMHdzUJgPkc2bI9j9sJrjBvszYOQ5QEO0KRJE8qVK8cHH3zAjBkz7NaFh4cTFhZmm0RWpEgRJkyYQEhICJMnT+bYsWOsWbOGnTt3UqlSJQA+//xzihQpYredmyehBQUFMWLECLp27cqkSZNwcXHB19cXi8VCnjx50qyzbt26eHp68t1339GmTRsA5s6dS6NGjfD29iY2NpZRo0axZs0aqlatCkDBggXZvHkzU6dOTTPAw8PDGTp0aIbeM3k4Fc0BHcrB9F/v/74qTb1x/5dT8M0fEOgLR3onLTt5xb7NuG1Jt1qB8FP7pGXNSyWF/5D1ScFbNg8sD7sxCc3NKelUrwk74OK1pOU1A2HTazcmvzk6wPct4Y3lSYcQPF2STm8betN58VYD3l8Lf11K+nBTyA/CQ6FLpfvz3sijyc3Vwqaf4xg/I4aLUUmTzGo97cLWJdnJddOEs079L7Nh+41h+vL1LgDw19acBAU44uvjwKo52XjjvStUbHCenH4ODO7tZTsHHJJmmM+d6Mv7Y6J5d3Q0RYIcWfJ5Nts54ADz/ufLOx9GE/ZmFBcuWQnM78jI/l50bZO+ofx7ZTEe5EyxW7Rv355Lly6xZMkSNm7cyLPPPssff/xBZGSkbRLbU089xZ49e3B2drY9zzAMYmJi2LdvHwcPHuSVV14hNjYWh5vGMrJnz87gwYNtwb1mzRrCw8M5cOAAly9fJiEhgevXr3P16lU8PDzSnMR26yz0N954gyNHjrBy5UquXr1Krly5mDdvHg0bNmTv3r2UKlUqxaS3uLg4ypcvz44dO1J9H1LrgQcEBHBhYNrn+Io8yhw75c7qEkSyzOUrVnxLniUqKgofH5802z0UPXCAWrVqUbduXd555x3at29vWx4dHc3rr79Oz549UzynQIECHDx48I7bPnbsGC+++CLdunVj5MiRZM+enc2bN9OxY0fi4uLw8Ej7lIdbhYWFERISwpkzZ1i9ejXu7u7Uq1fPVivA8uXLyZcvn93zXF3TTmJXV9fbrhcREbnVQxPgAB9++CHlypWjWLEbs3cqVKjAvn37KFy4cKrPKVasGAkJCfz2229UrJh0TcbDhw9z8eJFW5tffvkFq9XK2LFjbb30BQsW2G3HxcWFxMRE7qRatWoEBAQwf/58fvjhB5o1a2YbHShZsiSurq78888/aQ6Xi4iIZIaHKsBLly5NWFgYEyZMsC0bMGAAVapUoUePHnTq1AlPT0/27dvH6tWr+eyzzyhevDihoaF06dKFyZMn4+zszNtvv427uzsWS9KMyMKFCxMfH8/EiRNp2LAhW7ZsYcqUKXb7DgoKIjo6mrVr11K2bFk8PDzS7Jm3atWKKVOmcPDgQdatW2db7u3tTd++fenTpw9Wq5UaNWoQFRXFli1b8PHxoV27dvfhXRMRkcdRlp9Gdqthw4ZhvWkOfpkyZdiwYQMHDx6kZs2alC9fnsGDB5M3b15bm9mzZ5M7d25q1apFkyZN6Ny5M97e3ri5JV1MvmzZsowbN46PPvqIUqVKMWfOnBSnrVWrVo2uXbvSokUL/P39GT16dJo1hoWFsW/fPvLly0f16tXt1g0fPpxBgwYRHh5OiRIlqFevHsuXLyc4ODgz3h4REREgiyex3S8nTpwgICCANWvW8Nxzz2V1ORl2+fJlfH19NYlNHluaxCaPM9NNYrsXP/30E9HR0ZQuXZpTp07Rv39/goKCqFWrVlaXJiIicl88EgEeHx/Pu+++y9GjR/H29qZatWrMmTPH7tQzERGRR8kjEeB169albt26WV2GiIjIA/PQTWITERGRO1OAi4iImJACXERExIQU4CIiIiakABcRETEhBbiIiIgJKcBFRERMSAEuIiJiQgpwERERE1KAi4iImJACXERExIQU4CIiIiakABcRETEhBbiIiIgJKcBFRERMSAEuIiJiQgpwERERE1KAi4iImJACXERExIQU4CIiIiakABcRETEhBbiIiIgJKcBFRERMSAEuIiJiQgpwERERE1KAi4iImJACXERExIQU4CIiIiakABcRETEhBbiIiIgJKcBFRERMSAEuIiJiQgpwERERE1KAi4iImJACXERExIQU4CIiIiakABcRETEhBbiIiIgJKcBFRERMSAEuIiJiQgpwERERE1KAi4iImJACXERExIQU4CIiIiakABcRETEhBbiIiIgJKcBFRERMSAEuIiJiQgpwERERE1KAi4iImJACXERExIQU4CIiIiakABcRETEhBbiIiIgJKcBFRERMyCk9jZYuXZruDTZq1OiuixEREZH0SVeAv/TSS+namMViITEx8V7qERERkXRIV4Bbrdb7XYeIiIhkwD0dA79+/Xpm1SEiIiIZkOEAT0xMZPjw4eTLlw8vLy+OHj0KwKBBg5gxY0amFygiIiIpZTjAR44cyZdffsno0aNxcXGxLS9VqhSff/55phYnIiIiqctwgM+ePZtp06YRFhaGo6OjbXnZsmU5cOBAphYnIiIiqctwgP/7778ULlw4xXKr1Up8fHymFCUiIiK3l+EAL1myJJs2bUqxfOHChZQvXz5TihIREZHbS9dpZDcbPHgw7dq1499//8VqtbJ48WIiIyOZPXs2ERER96NGERERuUWGe+CNGzdm2bJlrFmzBk9PTwYPHsz+/ftZtmwZzz///P2oUURERG6R4R44QM2aNVm9enVm1yIiIiLpdFcBDrBr1y72798PJB0Xr1ixYqYVJSIiIreX4QA/ceIELVu2ZMuWLWTLlg2AS5cuUa1aNebNm0f+/Pkzu0YRERG5RYaPgXfq1In4+Hj279/PhQsXuHDhAvv378dqtdKpU6f7UaOIiIjcIsM98A0bNrB161aKFStmW1asWDEmTpxIzZo1M7U4ERERSV2Ge+ABAQGpXrAlMTGRvHnzZkpRIiIicnsZDvAxY8bw5ptvsmvXLtuyXbt20atXLz7++ONMLU5ERERSZzEMw7hTIz8/PywWi+3x1atXSUhIwMkpaQQ++b6npycXLly4f9U+Ji5fvoyvry8XBoKPa1ZXI/LgOXbKndUliGSZy1es+JY8S1RUFD4+Pmm2S9cx8PHjx2dWXSIiIpIJ0hXg7dq1u991iIiISAbc9YVcAK5fv05cXJzdstt190VERCRzZHgS29WrV+nRowe5cuXC09MTPz8/u5uIiIjcfxkO8P79+/PTTz8xefJkXF1d+fzzzxk6dCh58+Zl9uzZ96NGERERuUWGh9CXLVvG7NmzeeaZZ+jQoQM1a9akcOHCBAYGMmfOHMLCwu5HnSIiInKTDPfAL1y4QMGCBYGk493Jp43VqFGDjRs3Zm51IiIikqoMB3jBggX566+/AChevDgLFiwAknrmyV9uIiIiIvdXhgO8Q4cO/P777wAMHDiQ//3vf7i5udGnTx/69euX6QWKiIhISum6Etvt/P333/zyyy8ULlyYMmXKZFZdjzVdiU0ed7oSmzzOMvVKbLcTGBhIYGDgvW5GREREMiBdAT5hwoR0b7Bnz553XYyIiIikT7qG0IODg9O3MYuFo0eP3nNRj7vkIfT9UW/jrTF0eQxZrLFZXYJIlrlyOZbifp9lzhB68qxzEREReThkeBa6iIiIZD0FuIiIiAkpwEVERExIAS4iImJCCnARERETuqsA37RpE61bt6Zq1ar8+++/AHz11Vds3rw5U4sTERGR1GU4wBctWkTdunVxd3fnt99+IzY26XzNqKgoRo0alekFioiISEoZDvARI0YwZcoUpk+fjrOzs2159erV+fXXXzO1OBEREUldhgM8MjKSWrVqpVju6+vLpUuXMqMmERERuYMMB3iePHk4fPhwiuWbN2+mYMGCmVKUiIiI3F6GA7xz58706tWLHTt2YLFYOHnyJHPmzKFv375069btftQoIiIit8jw14kOHDgQq9XKc889R0xMDLVq1cLV1ZW+ffvy5ptv3o8aRURE5Bbp+jay1MTFxXH48GGio6MpWbIkXl5emV3bY0vfRiaPO30bmTzOMvXbyFLj4uJCyZIl7/bpIiIicg8yHOC1a9fGYrGkuf6nn366p4JERETkzjIc4OXKlbN7HB8fz+7du/nzzz9p165dZtUlIiIit5HhAP/kk09SXT5kyBCio6PvuSARERG5s0z7MpPWrVvzxRdfZNbmRERE5DYyLcC3bduGm5tbZm1OREREbiPDQ+hNmza1e2wYBqdOnWLXrl0MGjQo0woTERGRtGU4wH19fe0eOzg4UKxYMYYNG0adOnUyrTARERFJW4YCPDExkQ4dOlC6dGn8/PzuV00iIiJyBxk6Bu7o6EidOnX0rWMiIiJZLMOT2EqVKsXRo0fvRy0iIiKSThkO8BEjRtC3b18iIiI4deoUly9ftruJiIjI/ZfuY+DDhg3j7bff5oUXXgCgUaNGdpdUNQwDi8VCYmJi5lcpIiIidtId4EOHDqVr166sW7fuftYjIiIi6ZDuAE/+1tGQkJD7VoyIiIikT4aOgd/uW8hERETkwcnQeeBFixa9Y4hfuHDhngoSERGRO8tQgA8dOjTFldhERETkwctQgL/66qvkypXrftUiIiIi6ZTuY+A6/i0iIvLwSHeAJ89CFxERkayX7iF0q9V6P+sQERGRDMjwpVRFREQk6ynARURETEgBLiIiYkIKcBERERNSgIuIiJiQAlxERMSEFOAiIiImpAAXERExIQW4iIiICSnARURETEgBLiIiYkIKcBERERNSgIuIiJiQAlxERMSEFOAiIiImpAAXERExIQW4iIiICSnARURETEgBLiIiYkIKcBERERNSgIuIiJiQAlxERMSEFOAiIiImpAAXERExIQW4iIiICSnARURETEgBLiIiYkIKcBERERNSgIuIiJiQAlxERMSEFOAiIiImpAAXERExIQW4iIiICSnARURETEgBLiIiYkIKcBERERNSgIuIiJiQAlxERMSEFOAiIiImpAAXERExIQW4iIiICSnARURETEgBLiIiYkIKcBERERNSgIuIiJiQAlxERMSEFOAiIiImpAAXERExIQW4iIiICSnARURETMgpqwsQeVj1ab+Mb2f9kWL5pkNdCS6c3bZ+YPgz9BhYzbZ+5ZJIOjVZxAnj3ftS1/Fjl6gaPCnVdVMWNOHFZiUAGNRzFbu2nCDyz7MULpGDVbs7pWhvGAZTx+5gzrTd/Pt3FH453WnXvSI936t+X2oX88jnOPa2698aXJXm7Z6kSqHPbcuyZXejTIXcvPdhTUqVz31f6lqx+BCzp+xm7+9niYtNpOiTOXh7cDWeqRtkazN26FbGDdtm97xCxfzYuO81AC5euMbYIVvZsPpvTv5zhez+7tRrXJh+w6rj4+sKwN7fz/C/j37m5y3/cvHcdfIH+dDm9bJ06lnhvryuu6EAF7mNZ+oVZNzMF+2W5fD3sN13dXNi8kfbaf16ebL5uT+QmvIG+PDrqZ52y+ZM+40pY3ZQu34hu+UtXivDbztOsn/PmVS3NbjXajauOsqgj5+leOlcXLpwjUsXrt+32sU8fvu3q+3+0gWRfPzBFjbuf822zNPLmQvnrgEwb9UrFHsyJ6dOXGFQ759o3WAxG/Z1wDebW6bXtX3TCWo9H8jAkTXxyebK/C//pH3j74jY1sruQ0OxJ3Mwb1Uz22MnJ4vt/umTVzl98iqDRodQtGQOTvx9mYHd1/DfyWimf9sIgD9+OU3OXB5MnP0CeQO82bX1JP27rsbR0UKHN8pn+uu6GwpwkdtwdXUiVx6vNNfXDA3i2OGLfBa+jfdHP/tAanJ0dEhR08rvDvJi8xJ4ernYlg2fUAeA82c3phrgh/af46vJv7L2z84UKpYDgALB2e5f4WIqufJ42u57+7hgsVjslgG2APfL4U6uPJ7kyuPJoNEhvFRzHr/t+M+uV5xZhn1S2+7xOyNrsmrpEVZHHLULcEcnhxT1JiteKifTFzayPQ4qlI0Bw6vTs+0PJCRYcXJy4NXXSts9J7BgNn7ZfpIV3x1SgIs8ChwdHRgw6hl6tPqe13pWIm9+n3Q9r3X9efy86Xia6/MH+vLT3i7p2taeX06xd/dpRv6vbrraJ1u97BAFCmZjTcRhWtebh2FAjdAg3hv9LH7ZH8xogjx63N2TYiUuLjHV9Ts2naB1g8W33cZHk5+naViJdO3PajWIvhJHtuz2vf2/Dl2kQv4puLo5UbHKE7wzqib5CqT9+3klKhYvHxecnNKeGnYlKo5sfpk/qnC3FOAit7Em4hBFvcbYHteuX4ip3za1a1O/STGeLJebsR9sYuyMBuna7pjPG3D9Wnya652dHdNd47wZv1OkRA4qVcuf7ucA/HP0Ev/+HUXEt/sZP7shiYkGQ/us4fVXFrPgp7AMbUsEIOrSdcaP2I6nlzPlK+dJtU2ZSrlZ9Wub227HP3fqPefUTBm7k5joeBo2K2ZbVr7yE3zyRT0KFcvOmVNXGTd8K01C5vHTnvZ4ebuk2MaFczGMH7mdsM5l0tzPzq3/snRBJLOXNUl3bffbYxvg69evp3bt2ly8eJFs2bKl2S4oKIjevXvTu3fvB1abPDyq1Q5k1OR6tscenil/+QHe/ag2LZ6dQ9e+T6dru0/k886U+q5di2fJ3L30GlQjw8+1Wg1iYxP5dHZDChZNGkL/eEYD6lf8giOR523D6iJ30rjGNzg4WIi5Gk9gQV8mf/NimiHs7u5McGG/TNnvd3P3M27YNr747iVy5roxN+XZ+sG2+yXL+FP+6Tw8HTydZQsiadnRfmj8yuVY2jb8jqIlcvD2B1VT3c+BP8/xWpPv6TO4KiF1gjKl9szw0Ad4+/btmTVrFgDOzs4UKFCAtm3b8u677+LkdPflV6tWjVOnTuHr6wvAl19+Se/evbl06ZJdu507d+Lpmf5Pg/Jo8fB0Ibhw9ju2q1KrACF1C/LhO+tp1r70Hdtn1hD68oUHuBYTzyttS92x7a1yPeGFk5ODLbwBCpdIuv/vP5cV4JJuk795kaIlc+CXw+2OE9cyawj9+3kH6NtlFVPnN6RWaOBt2/pmc6NgUT+OHblktzz6ShxhLyzC09uFzxc3TnXk6+C+87R4/lvCOpeh93tVbrufB+2hD3CAevXqMXPmTGJjY1mxYgVvvPEGzs7OvPPOO3e9TRcXF/LkSX2I52b+/v53vQ95vLzzYW3qlptBwWJ3DvzMGkKfN+N3nm9UhBz+Gf+Q+VT1/CQkWDl25CJBhZJ6RH8dvABA/sD0HcsXAcgb4E1QoWzpapsZQ+hLvtnP251WMWluA0IbFLzjPq9Gx/H3kShebn1ju1cux9Kq/iJcXR35cslLuLmljMPIvedoHvotzdqWZOCIjI9y3W+muJCLq6srefLkITAwkG7duhEaGsrSpUu5ePEibdu2xc/PDw8PD+rXr8+hQ4dsz/v7779p2LAhfn5+eHp68uSTT7JixQogaQjdYrFw6dIl1q9fT4cOHYiKisJisWCxWBgyZAiQNIQ+fvx4AFq1akWLFi3saouPjydnzpzMnj0bAKvVSnh4OMHBwbi7u1O2bFkWLlx429cXGxvL5cuX7W5iPiVK56JJ2JN8MWHXHds+kc+b4MLZ07zlD/S94zb+OnyBHRv/oWWncmmu37v7NGf/u8r1awns3X2avbtP2yYX1QwNpnSFPLz9WgR//vYfe345xYDXf6DW88F2vXKRzJQ8hH67W2rHqZN9N3c/vdqvZNDHIZR/+gnO/HeVM/9d5XJUrK3NsH7r2bbhOMePRbFz6790bPo9Do4WXnq1OJAU3i3rLeLa1Xg+nl6XK5fjbNtJTLQCScPmzZ5bQK3nA+nSp5Jt/fmzMff3DcoAU/TAb+Xu7s758+dp3749hw4dYunSpfj4+DBgwABeeOEF9u3bh7OzM2+88QZxcXFs3LgRT09P9u3bh5dXylOCqlWrxvjx4xk8eDCRkZEAqbYLCwujWbNmREdH29b/+OOPxMTE0KRJ0sSG8PBwvv76a6ZMmUKRIkXYuHEjrVu3xt/fn5CQkFRfT3h4OEOHDs2st0eyUN9htVg2f/8D2df8L/bwRH4fQuqk3gPp12kF2zf8Y3tct/wMALb91Z2AoGw4OFiYuawZg95cxcu1vsbD05na9QsxaOxzD6R+kbsx5/M9JCRYea/HWt7rsda2vFnbJxk/M2m+yqkT0bwRtpyL56+T3d+dytXzsWxrK9s1HP749Qy/7TgFQPWiM+y2v/1IJwKCfFm+6CDnz15j8Zz9LJ5z43c6f6APO452vt8vM10shmEYWV3E7bRv355Lly6xZMkSDMNg7dq1vPjii9SvX58lS5awZcsWqlVLugrW+fPnCQgIYNasWTRr1owyZcrw8ssv88EHH6TY7q2T2NI6Bn7zJLaEhASeeOIJxo0bR5s2SUNArVq1wmq1Mm/ePGJjY8mePTtr1qyhatUbkyE6depETEwMc+fOTfU1xsbGEht749Pj5cuXCQgIYH/U23j7uN7rWyhiOhZr7J0biTyirlyOpbjfZ0RFReHjk/bhLFP0wCMiIvDy8iI+Ph6r1UqrVq1o2rQpERERPP30jVm/OXLkoFixYuzfn/RpqWfPnnTr1o1Vq1YRGhrKyy+/TJkyaZ8mcCdOTk40b96cOXPm0KZNG65evcr333/PvHnzADh8+DAxMTE8//zzds+Li4ujfPm0T/x3dXXF1VVBLSIi6WeKY+C1a9dm9+7dHDp0iGvXrjFr1iwsFssdn9epUyeOHj1KmzZt+OOPP6hUqRITJ068p1rCwsJYu3YtZ86cYcmSJbi7u1OvXtKwTXR0NADLly9n9+7dttu+ffvueBxcREQkI0wR4J6enhQuXJgCBQrYTh0rUaIECQkJ7Nixw9bu/PnzREZGUrJkSduygIAAunbtyuLFi3n77beZPn16qvtwcXEhMTH1KwfdrFq1agQEBDB//nzmzJlDs2bNcHZ2BqBkyZK4urryzz//ULhwYbtbQEDAvbwFIiIidkwxhJ6aIkWK0LhxYzp37szUqVPx9vZm4MCB5MuXj8aNGwPQu3dv6tevT9GiRbl48SLr1q2jRInUzy0MCgoiOjqatWvXUrZsWTw8PPDw8Ei1batWrZgyZQoHDx5k3bp1tuXe3t707duXPn36YLVaqVGjBlFRUWzZsgUfHx/atWuX+W+EiIg8lkzRA0/LzJkzqVixIi+++CJVq1bFMAxWrFhh6xEnJibyxhtvUKJECerVq0fRokWZNCn1r2GsVq0aXbt2pUWLFvj7+zN69Og09xsWFsa+ffvIly8f1avbf+3i8OHDGTRoEOHh4bb9Ll++nODg4DS2JiIiknEP/Sz0x9Hly5fx9fXVLHR5bGkWujzO0jsL3dQ9cBERkceVAlxERMSEFOAiIiImpAAXERExIQW4iIiICSnARURETEgBLiIiYkIKcBERERNSgIuIiJiQAlxERMSEFOAiIiImpAAXERExIQW4iIiICSnARURETEgBLiIiYkIKcBERERNSgIuIiJiQAlxERMSEFOAiIiImpAAXERExIQW4iIiICSnARURETEgBLiIiYkIKcBERERNSgIuIiJiQAlxERMSEFOAiIiImpAAXERExIQW4iIiICSnARURETEgBLiIiYkIKcBERERNSgIuIiJiQAlxERMSEFOAiIiImpAAXERExIQW4iIiICSnARURETEgBLiIiYkIKcBERERNSgIuIiJiQAlxERMSEFOAiIiImpAAXERExIQW4iIiICSnARURETEgBLiIiYkIKcBERERNSgIuIiJiQAlxERMSEFOAiIiImpAAXERExIQW4iIiICSnARURETEgBLiIiYkIKcBERERNSgIuIiJiQAlxERMSEFOAiIiImpAAXERExIQW4iIiICSnARURETEgBLiIiYkIKcBERERNSgIuIiJiQAlxERMSEFOAiIiImpAAXERExIQW4iIiICSnARURETEgBLiIiYkIKcBERERNSgIuIiJiQAlxERMSEFOAiIiImpAAXERExIQW4iIiICSnARURETEgBLiIiYkIKcBERERNSgIuIiJiQAlxERMSEFOAiIiImpAAXERExIQW4iIiICSnARURETEgBLiIiYkIKcBERERNyyuoCJCXDMACIvhybxZWIZA2LVT/78viKvhwH3MiCtCjAH0JXrlwB4KmAz7K4EhERySpXrlzB19c3zfUW404RLw+c1Wrl5MmTeHt7Y7FYsrqcx87ly5cJCAjg+PHj+Pj4ZHU5Ig+cfgeylmEYXLlyhbx58+LgkPaRbvXAH0IODg7kz58/q8t47Pn4+OiPlzzW9DuQdW7X806mSWwiIiImpAAXERExIQW4yC1cXV354IMPcHV1zepSRLKEfgfMQZPYRERETEg9cBERERNSgIuIiJiQAlxERMSEFOAiIiImpAAXERExIQW4iIiICSnARURETEgBLpKJrFZrVpcgIo8JfZmJSCaxWq22bw5at24dx48fJ0+ePAQHB1OkSJEsrk7k/jEMA4vFQkxMDPHx8XZfxJG8TjKfrsQmkskGDBjA/PnzyZMnDw4ODly/fp2PPvqI559/PqtLE8l0yQG9bNkypk+fzh9//EFoaCjly5ene/fuWV3eI01D6CKZaObMmcyePZu5c+eyfft2GjVqxL59+7h69WpWlyZyX1gsFiIiImjRogXVq1fns88+IzY2lgEDBrBp06asLu+Rph64SCZI7oX07NkTBwcHxo8fz5IlS2jbti0ff/wxXbp0ISYmhvPnzxMQEJDV5YpkCsMwuHLlCq1bt6ZGjRr079+fqKgoihcvTosWLRg/fnxWl/hIUw9c5C7d/Nk3ISHBdr9o0aKsWrWKNm3aMGbMGLp06UJiYiILFy7khx9+IDY2NivKFcl0FosFNzc3Tp8+TeXKlTl+/DhPPvkkDRs2tIX3smXL+OWXX7K20EeUAlzkLiVPzJk6dSobN24EwN/fn7feeosmTZowYcIEXn/9dQCuXLnCV199xalTp/QVjfJIOHr0KBcuXOD69et4eXmxZcsWateuTf369Zk6dSoAJ0+e5Ntvv+XQoUNosDfzaQhd5B6VKVOGgIAAli9fDkCbNm1YunQpGzZsIGfOnCQkJNC1a1cuXLjA1q1bcXLSyR9iXlarlWPHjlG5cmVWrFhB5cqVmTp1Kt26daN27dqsXbvW1va9995j0aJFrFy5kqCgoKwr+hGlABe5S8mnja1bt46ePXvy4Ycf0qBBA44dO0b37t3Zvn07bm5u5M+fH2dnZ9avX4+zszOJiYk4Ojpmdfki9+T555/H2dmZ7777DldXVwYNGsTIkSPp06cPDg4OXLx4kW+//ZYNGzZQrly5rC73kaSugEg63XyeN2C7X7RoUfz8/Pjpp59o0KABQUFBrFixgpUrV3L9+nX8/PyoWbMmDg4OJCQkqAcupnLrz31cXBwuLi507dqVsWPHsnv3bp5++mkGDRpEYGAgCxYsID4+nmLFirFt2zZKliyZhdU/2tQDF7mDWbNm0aBBA3LmzAnA/PnzuXTpku34NsCCBQto164dGzZsoHLlyqlu59Y/hCIPs1OnTvHEE0/YHh8/fpz8+fPb5n5ER0dTpUoVnnrqKWbOnGlrFxMTg4eHB/Hx8Tg7Oz/wuh8n+msichuzZs1izpw5ZM+eHYAzZ84wb9483n33XZ5//nlmzZrFhQsXaN68OfXr12fx4sXExcWleklVhbeYxdChQxk6dKjtjIk///yTpk2bEhoayt69ezl79ixeXl58/PHHrFu3jtWrV9ue6+7uDqCRpgdAf1FEbqNdu3b88MMPODg4sGnTJry8vFi0aBG//fYb3t7eTJ8+nSpVqrBq1SqyZ8/OqlWruHLlisJaTK169eq8+eabuLq6EhsbS3BwMP3798fZ2ZkGDRrQvXt3li9fTunSpSlevDi//fYbkDTKlNxD1+VT7z8NoYukITY21nbK188//0yNGjV477336NSpE/ny5SMhIYEDBw4wadIkNm7cSO7cuVm3bh2jR4+mb9++WVy9yN259Zr+06dPZ/DgwRQvXhyAOXPmsGXLFqZNm0aPHj3YuHEjkZGRHDx4kHz58mVl6Y8djXGIpCIhIcEW3ps3b6ZGjRoMHjyYGTNm4OTkRLt27cifPz+lSpWyBfgff/yBq6srvXv3ztriRTLo5tBOTEzEwcGBxMREnJyc+OGHH3B3d+eNN96gQoUKhIWFERYWRsuWLfn8889JSEjg2rVrdhczkgdDPXCRW6xcuZIhQ4awfft23nrrLdauXcumTZvw8fFhxIgRTJ06la5du/Laa6/ZTfK5mWabi9kcOXKEmJgYSpcuzaJFi9i8eTOffPIJq1atonPnzjz77LP07t2bsmXL2p5z5coVLl68iGEYBAYGZmH1jyf9hRG5SfIxvKioKAoVKsSFCxf45Zdf8PHxAeD9998HYMqUKQB07NiRPHnypNiOwlvM5Nq1awwdOpSFCxcyfPhw+vXrx5dffglAnTp1mDZtGl26dAHgrbfeonTp0gB4eXnh7e2dVWWLISIptGnTxrBYLEalSpVsy65fv267P2LECCMwMNDo37+/ce7cuawoUeSeff/997b7//zzj1GhQgXDycnJGDFihGEYhhEbG2skJiYahmEYK1euNAoUKGB07NjR+PXXX7OkXrGnqbIiN7FarSQkJPDiiy8yZcoU4uPjqVWrFlarFVdXV2JiYoCkS0S2bduWAwcO2E4xEzGTXbt20aFDB06cOAEk9aYdHR0pVqwYkydP5vfff8fFxYXExESsVit169Zl+vTpzJ8/n+nTpxMXF5fFr0B0DFwee2ldYMVqtbJy5Ur69+9Pjhw52LBhg23dDz/8QP369W1fI5r8r4hZJCQkcOXKFfz8/Dhw4ADFixfnwoULnDt3jv79+/Pzzz+zYsUKypUrZ3dRlu3bt5MjRw6KFCmSxa9AFODyWLs5vOfOncu+fftwdHSkYcOGVKpUidjYWNatW0e/fv3w9PRk2rRp9O3bl8TERNasWaPwFtM7efIkAQEBdO/enYkTJwKwe/duhg4dys8//8wPP/xAmTJl+Oijjzh79ixjxozRz/tDQgEuAgwYMIB58+bx5JNP4uHhwY8//sh3331HaGgocXFxbN26lb59+3L27FkCAwNZu3Ytzs7OCm8xpVt/bmfMmEGvXr14/fXXGTt2LAC///47w4cPZ8mSJbz44ou27/XWF5M8PBTg8tibNm0aI0aMYPHixVSqVIlvvvmGsLAwHB0dWbBgAU2aNMEwDOLj49m7dy9ly5bVF5OIaSWH988//8yFCxeoWbMmnp6ezJkzh44dO9K9e3fGjRsHwL///suiRYs4cuQI3bp1s13MRR4O+usjj7XLly9z5MgRPvjgAypVqkRERITtW5b27dvHq6++ytKlS6lbty4uLi6UL18eSBp6V3iL2SSH9+LFi+ncuTNvv/02xYoVIzg4mObNm2MYBh07dgRg3Lhx5MuXj549e+qLeB5S6oHLYyW1P0R79uzBy8uLxMREGjRowJtvvsmbb75JREQEjRo1ApIuKRkSEpIVJYtkqrVr19K0aVPGjh1LmzZtbFccTA732bNn061bN9q0aWO73oE8nNSFkMeGYRh2E9Y8PDxo3LgxZcqUAWDJkiXkyJGDsLAwALJly0aXLl2oWLEi1atXz7K6RTJT8jHtTp06ERMTw86dO5k9ezaurq60bNmStm3bEhcXx/vvv8+wYcPIlStXVpcsaVCAy2Ph5p73sWPHbFeT8vLyIjQ0FEj6HuMdO3Zw7NgxrFYro0ePxt/fn86dOwO6PKqY280T1y5evEhERAQLFizg7Nmztu/+7tGjBytWrKBdu3Y0b97cdgVCeTjpoIY8FpLDu3///gwbNozcuXOzbds2+vfvz6pVqzAMg6ZNm9K0aVMqVapEtWrV+Ouvv2xDiIZhKLzFdG4+Qpoc3i+88AKnT5+mQ4cOJCYm0r17d3bv3k2LFi1wcnLCzc0NZ2dnhbcJ6C+SPDamTp3K559/zpo1a/D39yc+Pp6GDRsyePBgHBwcCA0NZe7cuaxatYr4+HgaNWqEo6Ojet5iSsk97m3btrF7926OHz9O8+bNqV+/PlWrVuXUqVOUKFHCFvL79+/H2dmZ+Ph43N3ds7h6SQ9NYpPHRu/evTl8+DARERG2IfXTp09TrVo1fH19+fDDD3n++eftzo9NTEzE0dExC6sWuXsLFy7ktddeo2zZspw5c4YzZ87QvXt3OnfuTFBQEJB0SdUFCxYwdepUNm7caPdtY/Jw0xC6PPISExMBuH79OpcvXwaShtSvX79O7ty5GTNmDHv27OGTTz5h69atwI2hR4W3mIHVak2x7ODBg/Tu3ZtPP/2UtWvXEhkZyfvvv8/y5cuZOXMm0dHRHDp0iBEjRrBp0yY2bdqk8DYZ9cDlkZPWOaubNm0iJCSETz75hF69etmWL168mMWLF7Nr1y6KFCnCsmXLHmS5Ivck+ef933//ZfPmzVitVkqXLo23tzchISEsWbKEsmXL2kaWxowZw4cffsj27dspUqQIBw8exMfHJ9WvxZWHmw7sySPl5vCeP38+hw4d4tq1azRp0oSaNWvy4Ycf0r9/f65du0br1q0B+OKLL6hbty69e/emcuXKbNu2japVq2blyxBJl+Sf9z179tCkSRPc3NyIjIykSJEi1K5dG2dnZ1xcXLBYLMTExODh4UG/fv2YOHEiS5cu5e2336Zo0aJZ/TLkLmkIXR4pyeHdr18/BgwYwC+//MLff/9N5cqVWbx4MR07duSTTz5h5MiRVK1alSpVqnD8+HG6dOmCi4sLwcHB+Pv7Z/GrELmzm8O7atWqvPLKK6xevZrvv/+eAgUKsGvXLq5du0arVq0A8PDwAJKuPpgzZ07y5s2bleVLJlAPXB4ZybPFFy9ezNy5c1myZAlPPfUUy5cvZ+7cucTGxpIjRw66d+9OvXr12LdvH87OzoSGhuLo6MjcuXPx8fHB19c3q1+KyB05ODhw/PhxnnvuORo0aMBHH30EQN68eTl+/DgDBgxg5syZhIeHU7ZsWaZNm0ZiYiIrV67kxIkTVKlSJYtfgdwrBbiY3urVqwkNDbWd6nXixAnq1q3LU089xcKFC+nQoQNTpkyhZcuWREVFcenSJQoWLEjBggUBOHDgAB9//DGLFy9m3bp16oGLaSQmJhIcHExsbCybN2+mRo0aABQqVAh3d3eCg4OZPn06ffv2pVGjRnh5eeHq6srKlSsJDg7O4urlXmkIXUztwoULdOnShZIlS9pmjkdHR3P+/HnbKTSjR4+mS5cuAHz//feEh4cTHR0NQHx8PCdOnMDFxUWn0IjpBAUFMWfOHOLi4hg+fDj79+8nOjqasLAw2rRpQ/ny5SlXrhxr1qxh5cqV/PDDD6xfv54KFSpkdemSCTQLXUzNMAy2bdvG66+/jpOTE7/++it//PEHbdq04eDBg4waNYo+ffoAScH+6quvUrBgQT799FPbrNzExETi4+Nxc3PLypcictcOHTpEr169iImJYc+ePbRr145PPvkESPqQ6uzsnMUVyv2gHriYmsVioUqVKkybNo1r165RtWpVypQpQ/PmzfH19eXatWvs3buXbdu20axZM/7991/GjRuHxWKxO9db4S1mVqRIET799FMcHR3x8fGhSZMmtnW6iuCjSz1wMZ2ff/6Z8+fPU79+fdvEtYSEBH799VdeffVV8uXLx6ZNmxg0aBDLly9n9+7dPP3003h7e7N8+XKcnZ11hTV5JB0+fJg333wTwzAYNGiQvkXvEacAF1NZt24dzz33HABPP/00xYsXp3HjxlSoUIECBQqwc+dOunTpgqenJ5s3byY+Pp6tW7cSHBxM/vz5cXBw0LXN5ZF26NAh3nrrLc6dO8cnn3yi2eaPMAW4mMqRI0do06YN8fHx5MyZk6JFizJ79mxy5MhBqVKlqF27NtmyZeP999+nePHirFq1yu7a5mldpU3kUXLgwAEGDRrE2LFjKVCgQFaXI/eJAlxM59ChQwwYMIC4uDhGjhxJgQIF+PXXX5k4cSIXL17k559/xt/fnxMnTtCzZ0/Gjx+f1SWLPHBxcXG4uLhkdRlyHynAxZQOHjxIz549sVqtDB061Hbp08TERFasWMHRo0fZtm0bX331lWbgisgjSQEupnXo0CHefPNNAN59911q1aqVajudRiMijyIFuJjaoUOH6NmzJwDvv/++Zt2KyGNDs3nE1IoUKcKECRNwdHSkd+/e7NmzJ6tLEhF5IBTgYnpFihRhzJgx1KpVi1KlSmV1OSIiD4SG0OWRo1PFRORxoAAXERExIXVTRERETEgBLiIiYkIKcBERERNSgIuIiJiQAlxERMSEFOAiIiImpAAXkbvSvn17XnrpJdvjZ555ht69ez/wOtavX4/FYuHSpUtptrFYLCxZsiTd2xwyZAjlypW7p7qOHTuGxWJh9+7d97QdkbQowEUeIe3bt8disWCxWHBxcaFw4cIMGzaMhISE+77vxYsXM3z48HS1TU/oisjtOWV1ASKSuerVq8fMmTOJjY1lxYoVvPHGGzg7O/POO++kaJuZ3xmdPXv2TNmOiKSPeuAijxhXV1fy5MlDYGAg3bp1IzQ0lKVLlwI3hr1HjhxJ3rx5KVasGADHjx+nefPmZMuWjezZs9O4cWOOHTtm22ZiYiJvvfUW2bJlI0eOHPTv359bL+J46xB6bGwsAwYMICAgAFdXVwoXLsyMGTM4duwYtWvXBsDPzw+LxUL79u2BpMvghoeHExwcjLu7O2XLlmXhwoV2+1mxYgVFixbF3d2d2rVr29WZXgMGDKBo0aJ4eHhQsGBBBg0aRHx8fIp2U6dOJSAgAA8PD5o3b05UVJTd+s8//5wSJUrg5uZG8eLFmTRpUoZrEblbCnCRR5y7uztxcXG2x2vXriUyMpLVq1cTERFBfHw8devWxdvbm02bNrFlyxa8vLyoV6+e7Xljx47lyy+/5IsvvmDz5s1cuHCB77777rb7bdu2Ld988w0TJkxg//79TJ06FS8vLwICAli0aBEAkZGRnDp1ik8//RSA8PBwZs+ezZQpU9i7dy99+vShdevWbNiwAUj6oNG0aVMaNmzI7t276dSpEwMHDszwe+Lt7c2XX37Jvn37+PTTT5k+fTqffPKJXZvDhw+zYMECli1bxsqVK/ntt9/o3r27bf2cOXMYPHgwI0eOZP/+/YwaNYpBgwYxa9asDNcjclcMEXlktGvXzmjcuLFhGIZhtVqN1atXG66urkbfvn1t63Pnzm3ExsbanvPVV18ZxYoVM6xWq21ZbGys4e7ubvz444+GYRjGE088YYwePdq2Pj4+3sifP79tX4ZhGCEhIUavXr0MwzCMyMhIAzBWr16dap3r1q0zAOPixYu2ZdevXzc8PDyMrVu32rXt2LGj0bJlS8MwDOOdd94xSpYsabd+wIABKbZ1K8D47rvv0lw/ZswYo2LFirbHH3zwgeHo6GicOHHCtuyHH34wHBwcjFOnThmGYRiFChUy5s6da7ed4cOHG1WrVjUMwzD++usvAzB+++23NPcrci90DFzkERMREYGXlxfx8fFYrVZatWrFkCFDbOtLly5td9z7999/5/Dhw3h7e9tt5/r16xw5coSoqChOnTrF008/bVvn5OREpUqVUgyjJ9u9ezeOjo6EhISku+7Dhw8TExPD888/b7c8Li6O8uXLA7B//367OgCqVq2a7n0kmz9/PhMmTODIkSNER0eTkJCAj4+PXZsCBQqQL18+u/1YrVYiIyPx9vbmyJEjdOzYkc6dO9vaJCQk4Ovrm+F6RO6GAlzkEVO7dm0mT56Mi4sLefPmxcnJ/tfc09PT7nF0dDQVK1Zkzpw5Kbbl7+9/VzW4u7tn+DnR0dEALF++3C44Iem4fmbZtm0bYWFhDB06lLp16+Lr68u8efMYO3ZshmudPn16ig8Ujo6OmVaryO0owEUeMZ6enhQuXDjd7StUqMD8+fPJlStXil5osieeeIIdO3ZQq1YtIKmn+csvv1ChQoVU25cuXRqr1cqGDRsIDQ1NsT55BCAxMdG2rGTJkri6uvLPP/+k2XMvUaKEbUJesu3bt9/5Rd5k69atBAYG8t5779mW/f333yna/fPPP5w8eZK8efPa9uPg4ECxYsXInTs3efPm5ejRo4SFhWVo/yKZRZPYRB5zYWFh5MyZk8aNG7Np0yb++usv1q9fT8+ePTlx4gQAvXr14sMPP2TJkiUcOHCA7t273/Yc7qCgINq1a8drr73GkiVLbNtcsGABAIGBgVgsFiIiIjh79izR0dF4e3vTt29f+vTpw6xZszhy5Ai//vorEydOtE0M69q1K4cOHaJfv35ERkYyd+5cvvzyywy93iJFivDPP/8wb948jhw5woQJE1KdkOfm5ka7du34/fff2bRpEz179qR58+bkyZMHgKFDhxIeHs6ECRM4ePAgf/zxBzNnzmTcuHEZqkfkbinARR5zHh4ebNy4kQIFCtC0aVNKlChBx44duX79uq1H/vbbb9OmTRvatWtH1apV8fb2pkmTJrfd7uTJk3nllVfo3r07xYsXp3Pnzly9ehWAfPnyMXToUAYOHEju3Lnp0aMHAMOHD2fQoEGEh4dTokQJ6tWrx/LlywkODgaSjksvWrSIJUuWULZsWaZMmcKoUaMy9HobNWpEnz596NGjB+XKlWPr1q0MGjQoRbvChQvTtGlTXnjhBerUqUOZMmXsThPr1KkTn3/+OTNnzqR06dKEhITw5Zdf2moVud8sRlqzUEREROShpR64iIiICSnARURETEgBLiIiYkIKcBERERNSgIuIiJiQAlxERMSEFOAiIiImpAAXERExIQW4iIiICSnARURETEgBLiIiYkL/B7klnXvgY9GEAAAAAElFTkSuQmCC\n",
      "text/plain": [
       "<Figure size 500x500 with 1 Axes>"
      ]
     },
     "metadata": {},
     "output_type": "display_data"
    }
   ],
   "source": [
    "confusio_matrix(Algerie3[\"statut\"], (Algerie3[\"similarity3\"]>= optimal_thr).astype(int))"
   ]
  },
  {
   "cell_type": "markdown",
   "metadata": {},
   "source": [
    "* Logit  : 60%, 35%, 5% *"
   ]
  },
  {
   "cell_type": "code",
   "execution_count": null,
   "metadata": {},
   "outputs": [],
   "source": [
    "fpr, tpr, thresholds = roc_curve(data_set4[\"statut\"],data_set4[\"similarity4\"])\n",
    "roc_auc = auc(fpr, tpr)\n",
    "optimal_thr = thresholds[np.argmin((0-fpr)**2 + (1-tpr)**2)]\n",
    "optimal_tpr = tpr[thresholds==optimal_thr][0]\n",
    "optimal_fpr = fpr[thresholds==optimal_thr][0]\n",
    "plt.figure()\n",
    "lw = 2\n",
    "plt.plot(fpr, tpr, color='orange',lw=lw, label='ROC curve (area = %0.2f)' % roc_auc)\n",
    "plt.plot([0, 1], [0, 1], color='navy', lw=lw, linestyle='--')\n",
    "plt.scatter(optimal_fpr, optimal_tpr, color=\"red\", lw=lw, label=f\"Opt. similarity threshold: {optimal_thr}\\nOpt. TPR:{round(optimal_tpr, 2)}, Opt. FPR: {round(optimal_fpr, 2)}\")\n",
    "plt.xlim([0.0, 1.0])\n",
    "plt.ylim([0.0, 1.0])\n",
    "plt.xlabel('False Positive Rate')\n",
    "plt.ylabel('True Positive Rate')\n",
    "plt.title('Matching  ROC curve')\n",
    "plt.legend(loc=\"lower right\")\n",
    "plt.show()"
   ]
  }
 ],
 "metadata": {
  "kernelspec": {
   "display_name": "PREMIER",
   "language": "python",
   "name": "premier"
  },
  "language_info": {
   "codemirror_mode": {
    "name": "ipython",
    "version": 3
   },
   "file_extension": ".py",
   "mimetype": "text/x-python",
   "name": "python",
   "nbconvert_exporter": "python",
   "pygments_lexer": "ipython3",
   "version": "3.9.4"
  }
 },
 "nbformat": 4,
 "nbformat_minor": 4
}
