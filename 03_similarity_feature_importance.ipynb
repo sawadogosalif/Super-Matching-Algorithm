{
 "cells": [
  {
   "cell_type": "code",
   "execution_count": null,
   "id": "21d9acca",
   "metadata": {},
   "outputs": [],
   "source": [
    "import pandas as pd\n",
    "df = pd.read_csv(\"C:/Users/Salif SAWADOGO/OneDrive - EQUATORIAL COCA-COLA BOTTLING COMPANY S.L/dynamic segmentation/matching/output/training_set_matching.csv\")\n",
    "df"
   ]
  },
  {
   "cell_type": "code",
   "execution_count": null,
   "id": "8533754f",
   "metadata": {},
   "outputs": [],
   "source": []
  },
  {
   "cell_type": "code",
   "execution_count": null,
   "id": "c73eeb38",
   "metadata": {},
   "outputs": [],
   "source": [
    "df.apply(lambda x: print(x), axis=1)"
   ]
  },
  {
   "cell_type": "code",
   "execution_count": null,
   "id": "54b7608f",
   "metadata": {},
   "outputs": [],
   "source": [
    "df[\"index\"] = df.apply(lambda x: \"{}_{}\".format(x[\"L_CUSTOMER_ID\"], x[\"R_id\"]), axis=1)\n",
    "df[\"dist_similarity\"] = (1000-df[\"dist_m\"])/1000\n",
    "df[[\"index\", \"dist_similarity\", \"name_similarity\", \"address_similarity\", \"match_status\"]]"
   ]
  },
  {
   "cell_type": "code",
   "execution_count": null,
   "id": "84767cc8",
   "metadata": {},
   "outputs": [],
   "source": [
    "from sklearn.linear_model import LogisticRegression\n",
    "y = df[\"match_status\"]\n",
    "X = df[[\"name_similarity\", \"address_similarity\"]]\n",
    "clf = LogisticRegression(random_state=0).fit(X, y)\n",
    "clf.coef_"
   ]
  },
  {
   "cell_type": "code",
   "execution_count": null,
   "id": "561dd007",
   "metadata": {},
   "outputs": [],
   "source": [
    "sdf = spark.createDataFrame(df)\n",
    "sdf.show()"
   ]
  },
  {
   "cell_type": "code",
   "execution_count": null,
   "id": "97dce5e8",
   "metadata": {},
   "outputs": [],
   "source": [
    "from pyspark.ml.classification import LogisticRegression\n",
    "from pyspark.ml.feature import VectorAssembler\n",
    "import pyspark.sql.functions as F\n",
    "lr = LogisticRegression()"
   ]
  },
  {
   "cell_type": "code",
   "execution_count": null,
   "id": "98ac85f9",
   "metadata": {},
   "outputs": [],
   "source": [
    "training = sdf[[\"index\", \"dist_similarity\", \"name_similarity\", \"address_similarity\", \"match_status\"]].withColumn(\"label\", F.col(\"match_status\"))\n",
    "assembler = VectorAssembler(inputCols=[\"name_similarity\", \"address_similarity\"], outputCol=\"features\")\n",
    "training_ready = assembler.transform(training)\n",
    "training_ready.show()"
   ]
  },
  {
   "cell_type": "code",
   "execution_count": null,
   "id": "cf8faaaa",
   "metadata": {},
   "outputs": [],
   "source": [
    "model_fit = lr.fit(training_ready)\n",
    "model_fit.coefficients / sum(model_fit.coefficients)"
   ]
  }
 ],
 "metadata": {
  "kernelspec": {
   "display_name": "Python 3 (ipykernel)",
   "language": "python",
   "name": "python3"
  },
  "language_info": {
   "codemirror_mode": {
    "name": "ipython",
    "version": 3
   },
   "file_extension": ".py",
   "mimetype": "text/x-python",
   "name": "python",
   "nbconvert_exporter": "python",
   "pygments_lexer": "ipython3",
   "version": "3.9.7"
  },
  "toc": {
   "base_numbering": 1,
   "nav_menu": {},
   "number_sections": true,
   "sideBar": true,
   "skip_h1_title": false,
   "title_cell": "Table of Contents",
   "title_sidebar": "Contents",
   "toc_cell": false,
   "toc_position": {},
   "toc_section_display": true,
   "toc_window_display": false
  }
 },
 "nbformat": 4,
 "nbformat_minor": 5
}
