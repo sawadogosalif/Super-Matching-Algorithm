{
 "cells": [
  {
   "cell_type": "code",
   "execution_count": null,
   "id": "c5a0d8a0",
   "metadata": {},
   "outputs": [],
   "source": [
    "import os\n",
    "import pandas as pd"
   ]
  },
  {
   "cell_type": "markdown",
   "id": "47cb8bde",
   "metadata": {},
   "source": [
    "# Matching specs:"
   ]
  },
  {
   "cell_type": "markdown",
   "id": "f24015cc",
   "metadata": {},
   "source": [
    " 1) relevant cols: name, address, lat-lon\n",
    " \n",
    " 2) use 1 km radius"
   ]
  },
  {
   "cell_type": "markdown",
   "id": "b3948152",
   "metadata": {},
   "source": [
    "# Read datasets to match"
   ]
  },
  {
   "cell_type": "markdown",
   "id": "bb3be355",
   "metadata": {},
   "source": [
    " 1) CMD Subset"
   ]
  },
  {
   "cell_type": "code",
   "execution_count": null,
   "id": "25e63beb",
   "metadata": {},
   "outputs": [],
   "source": [
    "subset = pd.read_csv(os.path.join(\"/dbfs/mnt/AA/ba008/data_samples/\", \"horeca_customer_subset.csv\"))\n",
    "subset.shape"
   ]
  },
  {
   "cell_type": "code",
   "execution_count": null,
   "id": "f6f7d157",
   "metadata": {},
   "outputs": [],
   "source": [
    "subset.head()"
   ]
  },
  {
   "cell_type": "markdown",
   "id": "4439324a",
   "metadata": {},
   "source": [
    "2) Scraped Trip Advisor set "
   ]
  },
  {
   "cell_type": "code",
   "execution_count": null,
   "id": "17a406bd",
   "metadata": {},
   "outputs": [],
   "source": [
    "ta_prepped = pd.read_parquet(os.path.join('/dbfs/mnt/AA/ba008/tripadvisor/outputs/' + 'ta_l3_morocco_prepped.parquet'))\n",
    "ta_prepped.shape"
   ]
  },
  {
   "cell_type": "code",
   "execution_count": null,
   "id": "b6e97b02",
   "metadata": {},
   "outputs": [],
   "source": [
    "ta_prepped.head()"
   ]
  },
  {
   "cell_type": "markdown",
   "id": "a73fa2a2",
   "metadata": {},
   "source": [
    "3) preped similarities"
   ]
  },
  {
   "cell_type": "code",
   "execution_count": null,
   "id": "6bf082f8",
   "metadata": {},
   "outputs": [],
   "source": [
    "sims = pd.read_csv(os.path.join(\"/dbfs/mnt/AA/ba008/data_samples/matching/golden_standard_x_ta_FULL.csv\", \n",
    "                                \"part-00000-tid-1963485000945259398-9798cb2b-cca8-4248-ac07-f0519b123792-867-1-c000.csv\"), \n",
    "                   engine='python')\n",
    "sims.shape"
   ]
  },
  {
   "cell_type": "code",
   "execution_count": null,
   "id": "0c28af93",
   "metadata": {},
   "outputs": [],
   "source": [
    "list(sims[\"L_CUSTOMER_CLEAN\"].value_counts())"
   ]
  },
  {
   "cell_type": "code",
   "execution_count": null,
   "id": "41fbe0aa",
   "metadata": {},
   "outputs": [],
   "source": [
    "sims.head(20)"
   ]
  },
  {
   "cell_type": "code",
   "execution_count": null,
   "id": "a7748333",
   "metadata": {},
   "outputs": [],
   "source": [
    "sims = sims.merge(subset[[\"CUSTOMER_ID\", \"CITY\", \"CUSTOMER\"]], how=\"left\", left_on=\"L_CUSTOMER_ID\", right_on=\"CUSTOMER_ID\")"
   ]
  },
  {
   "cell_type": "code",
   "execution_count": null,
   "id": "6e0c7573",
   "metadata": {},
   "outputs": [],
   "source": []
  }
 ],
 "metadata": {
  "kernelspec": {
   "display_name": "Python 3 (ipykernel)",
   "language": "python",
   "name": "python3"
  },
  "language_info": {
   "codemirror_mode": {
    "name": "ipython",
    "version": 3
   },
   "file_extension": ".py",
   "mimetype": "text/x-python",
   "name": "python",
   "nbconvert_exporter": "python",
   "pygments_lexer": "ipython3",
   "version": "3.9.7"
  },
  "toc": {
   "base_numbering": 1,
   "nav_menu": {},
   "number_sections": true,
   "sideBar": true,
   "skip_h1_title": false,
   "title_cell": "Table of Contents",
   "title_sidebar": "Contents",
   "toc_cell": false,
   "toc_position": {},
   "toc_section_display": true,
   "toc_window_display": false
  }
 },
 "nbformat": 4,
 "nbformat_minor": 5
}
