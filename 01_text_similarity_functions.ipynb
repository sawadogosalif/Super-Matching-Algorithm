{
 "cells": [
  {
   "cell_type": "code",
   "execution_count": null,
   "id": "334bb4d3",
   "metadata": {},
   "outputs": [],
   "source": [
    "import numpy as np\n",
    "import pyspark.sql.functions as F\n",
    "from typing import Callable\n",
    "from ngram import NGram\n",
    "from textdistance import damerau_levenshtein, jaro_winkler, sorensen_dice, jaccard, overlap, ratcliff_obershelp"
   ]
  },
  {
   "cell_type": "code",
   "execution_count": null,
   "id": "b8e62e37",
   "metadata": {},
   "outputs": [],
   "source": [
    "%run ./function_tools.ipynb"
   ]
  },
  {
   "cell_type": "code",
   "execution_count": null,
   "id": "05b6dd7e",
   "metadata": {},
   "outputs": [],
   "source": [
    "@F.pandas_udf(\"double\")\n",
    "@function_vectorizer\n",
    "def compound_similarity(s1: str, s2: str) -> float:\n",
    "  \"\"\"This function computes the a compound score measuring the similarity\n",
    "  between two strings. The score is based on the following 7 metrics:\n",
    "    - Damerau-Levenshtein - edit distance that also takes in account transpositions.\n",
    "    - Jaro-Winkler - similarity based on common letters adjusted for the higher likelihood\n",
    "        spelling to be correct in the beginning of a string.\n",
    "    - n-gram - This similarity is based on the counts of n-grams (sequence of substrings \n",
    "        of length n) which are matching. It has been emprirically selected that the length\n",
    "        of the n-grams in this case is set to N=2.\n",
    "    - Jaccard - like n-grams without taking into account the cardinality (length) of the\n",
    "        n-grams. Effectively, this gives n-gram similarity score for N=1.\n",
    "    - Sorensen-Dice - Similar logic as Jaccard but with slight adjustments.\n",
    "    - Overlap - measures the 'overlap' between two strings based on the number of common\n",
    "        characters in them.\n",
    "    - Ratcliff-Obershelp - takes into account the length of the fully matching substrings\n",
    "        but also the number of matching characters from substrings that do not match completely.\n",
    "        \n",
    "  Arguments:\n",
    "    s1 {str} -- The first strings.\n",
    "    s2 {str} -- The second strings.\n",
    "    \n",
    "  Returns:\n",
    "    float -- The mean of the similarity scores coming from the 7 algorithms. 0 means not similar\n",
    "      at all and 1 means that the two strings match perfectly. If Either of the two strings are\n",
    "      empty, the similarity will be treated as 0.\n",
    "  \"\"\"\n",
    "  if s1 is None:\n",
    "    s1 = \"\"\n",
    "  if s2 is None:\n",
    "    s2 = \"\"\n",
    "  if s1 == \"\" and s2 == \"\":\n",
    "    return 0.\n",
    "  scores = [\n",
    "    damerau_levenshtein.normalized_similarity(s1, s2),\n",
    "    jaro_winkler.normalized_similarity(s1, s2),\n",
    "    sorensen_dice.normalized_similarity(s1, s2),\n",
    "    jaccard.normalized_similarity(s1, s2),\n",
    "    overlap.normalized_similarity(s1, s2),\n",
    "    ratcliff_obershelp.normalized_similarity(s1, s2),\n",
    "    NGram.compare(s1, s2, N=2)\n",
    "  ]\n",
    "  return np.mean(scores)"
   ]
  },
  {
   "cell_type": "code",
   "execution_count": null,
   "id": "87c292d7",
   "metadata": {},
   "outputs": [],
   "source": [
    "compound_similarity_sdf = F.pandas_udf(function_vectorizer(compound_similarity), \"double\")"
   ]
  }
 ],
 "metadata": {
  "kernelspec": {
   "display_name": "PREMIER",
   "language": "python",
   "name": "premier"
  },
  "language_info": {
   "codemirror_mode": {
    "name": "ipython",
    "version": 3
   },
   "file_extension": ".py",
   "mimetype": "text/x-python",
   "name": "python",
   "nbconvert_exporter": "python",
   "pygments_lexer": "ipython3",
   "version": "3.9.4"
  }
 },
 "nbformat": 4,
 "nbformat_minor": 5
}
